{
 "cells": [
  {
   "cell_type": "code",
   "execution_count": 1,
   "id": "competitive-testimony",
   "metadata": {},
   "outputs": [],
   "source": [
    "## run following in termminal (or in notebook) if needed to get packages to work\n",
    "# !conda create -n tensorflow\n",
    "# !source activate tensorflow\n",
    "# !pip install jupyter notebook\n",
    "# !jupyter-notebook\n",
    "# !which pip\n",
    "# !pip install tensorflow\n",
    "# !pip install keras\n",
    "# !pip install sklearn pandas numpy seaborn\n",
    "\n",
    "## data split custom tool\n",
    "from timeseries_train_test_split import TimeseriesTestTrainSplit as ts\n",
    "##standard tools\n",
    "import tensorflow\n",
    "import pandas as pd\n",
    "import numpy as np\n",
    "import seaborn as sns\n",
    "import matplotlib.pyplot as plt\n",
    "##preprocessing\n",
    "from sklearn.preprocessing import MinMaxScaler, Normalizer, StandardScaler\n",
    "## model selection and building\n",
    "from sklearn.pipeline import Pipeline, FeatureUnion\n",
    "from sklearn.model_selection import GridSearchCV\n",
    "from sklearn.metrics import r2_score as r2\n",
    "from sklearn.metrics import explained_variance_score as evs\n",
    "from sklearn.metrics import mean_absolute_percentage_error as mape\n",
    "from tensorflow.keras.wrappers.scikit_learn import KerasRegressor\n",
    "##models\n",
    "from keras.models import Sequential\n",
    "from keras.layers import Dense, LSTM\n",
    "from sklearn.svm import SVR\n",
    "from sklearn.tree import DecisionTreeRegressor\n",
    "from sklearn.neural_network import MLPRegressor\n",
    "from sklearn.linear_model import LinearRegression, SGDRegressor, Ridge, Lasso, ElasticNet, LassoLars, BayesianRidge, ARDRegression, Perceptron, PassiveAggressiveRegressor, TheilSenRegressor, HuberRegressor\n",
    "from sklearn.ensemble import RandomForestRegressor, ExtraTreesRegressor, GradientBoostingRegressor, AdaBoostRegressor, StackingRegressor, VotingRegressor"
   ]
  },
  {
   "cell_type": "code",
   "execution_count": 5,
   "id": "leading-protection",
   "metadata": {},
   "outputs": [],
   "source": [
    "# def run():\n",
    "X_train, y_train, X_test, y_test = ts.timeseries_test_train_split()"
   ]
  },
  {
   "cell_type": "code",
   "execution_count": 6,
   "id": "handy-anchor",
   "metadata": {},
   "outputs": [
    {
     "ename": "AttributeError",
     "evalue": "'KerasRegressor' object has no attribute '__call__'",
     "output_type": "error",
     "traceback": [
      "\u001b[0;31m---------------------------------------------------------------------------\u001b[0m",
      "\u001b[0;31mAttributeError\u001b[0m                            Traceback (most recent call last)",
      "\u001b[0;32m<ipython-input-6-f4c90d431e2f>\u001b[0m in \u001b[0;36m<module>\u001b[0;34m\u001b[0m\n\u001b[1;32m      1\u001b[0m \u001b[0mtransformers\u001b[0m \u001b[0;34m=\u001b[0m \u001b[0mFeatureUnion\u001b[0m\u001b[0;34m(\u001b[0m\u001b[0;34m[\u001b[0m\u001b[0;34m(\u001b[0m\u001b[0;34m'scaler'\u001b[0m\u001b[0;34m,\u001b[0m \u001b[0mMinMaxScaler\u001b[0m\u001b[0;34m(\u001b[0m\u001b[0;34m)\u001b[0m\u001b[0;34m)\u001b[0m\u001b[0;34m,\u001b[0m \u001b[0;34m(\u001b[0m\u001b[0;34m'norm'\u001b[0m\u001b[0;34m,\u001b[0m \u001b[0mNormalizer\u001b[0m\u001b[0;34m(\u001b[0m\u001b[0;34m)\u001b[0m\u001b[0;34m)\u001b[0m\u001b[0;34m]\u001b[0m\u001b[0;34m)\u001b[0m\u001b[0;34m\u001b[0m\u001b[0;34m\u001b[0m\u001b[0m\n\u001b[1;32m      2\u001b[0m \u001b[0mpipe\u001b[0m \u001b[0;34m=\u001b[0m \u001b[0mPipeline\u001b[0m\u001b[0;34m(\u001b[0m\u001b[0;34m[\u001b[0m\u001b[0;34m(\u001b[0m\u001b[0;34m'preprocess'\u001b[0m\u001b[0;34m,\u001b[0m \u001b[0mStandardScaler\u001b[0m\u001b[0;34m(\u001b[0m\u001b[0;34m)\u001b[0m\u001b[0;34m)\u001b[0m\u001b[0;34m,\u001b[0m \u001b[0;34m(\u001b[0m\u001b[0;34m'predictor'\u001b[0m\u001b[0;34m,\u001b[0m \u001b[0mLinearRegression\u001b[0m\u001b[0;34m(\u001b[0m\u001b[0;34m)\u001b[0m\u001b[0;34m)\u001b[0m\u001b[0;34m]\u001b[0m\u001b[0;34m)\u001b[0m\u001b[0;34m\u001b[0m\u001b[0;34m\u001b[0m\u001b[0m\n\u001b[0;32m----> 3\u001b[0;31m \u001b[0mkeras_reg\u001b[0m \u001b[0;34m=\u001b[0m \u001b[0mKerasRegressor\u001b[0m\u001b[0;34m(\u001b[0m\u001b[0;34m)\u001b[0m\u001b[0;34m\u001b[0m\u001b[0;34m\u001b[0m\u001b[0m\n\u001b[0m",
      "\u001b[0;32m~/miniconda3/lib/python3.8/site-packages/tensorflow/python/keras/wrappers/scikit_learn.py\u001b[0m in \u001b[0;36m__init__\u001b[0;34m(self, build_fn, **sk_params)\u001b[0m\n\u001b[1;32m     75\u001b[0m     \u001b[0mself\u001b[0m\u001b[0;34m.\u001b[0m\u001b[0mbuild_fn\u001b[0m \u001b[0;34m=\u001b[0m \u001b[0mbuild_fn\u001b[0m\u001b[0;34m\u001b[0m\u001b[0;34m\u001b[0m\u001b[0m\n\u001b[1;32m     76\u001b[0m     \u001b[0mself\u001b[0m\u001b[0;34m.\u001b[0m\u001b[0msk_params\u001b[0m \u001b[0;34m=\u001b[0m \u001b[0msk_params\u001b[0m\u001b[0;34m\u001b[0m\u001b[0;34m\u001b[0m\u001b[0m\n\u001b[0;32m---> 77\u001b[0;31m     \u001b[0mself\u001b[0m\u001b[0;34m.\u001b[0m\u001b[0mcheck_params\u001b[0m\u001b[0;34m(\u001b[0m\u001b[0msk_params\u001b[0m\u001b[0;34m)\u001b[0m\u001b[0;34m\u001b[0m\u001b[0;34m\u001b[0m\u001b[0m\n\u001b[0m\u001b[1;32m     78\u001b[0m \u001b[0;34m\u001b[0m\u001b[0m\n\u001b[1;32m     79\u001b[0m   \u001b[0;32mdef\u001b[0m \u001b[0mcheck_params\u001b[0m\u001b[0;34m(\u001b[0m\u001b[0mself\u001b[0m\u001b[0;34m,\u001b[0m \u001b[0mparams\u001b[0m\u001b[0;34m)\u001b[0m\u001b[0;34m:\u001b[0m\u001b[0;34m\u001b[0m\u001b[0;34m\u001b[0m\u001b[0m\n",
      "\u001b[0;32m~/miniconda3/lib/python3.8/site-packages/tensorflow/python/keras/wrappers/scikit_learn.py\u001b[0m in \u001b[0;36mcheck_params\u001b[0;34m(self, params)\u001b[0m\n\u001b[1;32m     91\u001b[0m     ]\n\u001b[1;32m     92\u001b[0m     \u001b[0;32mif\u001b[0m \u001b[0mself\u001b[0m\u001b[0;34m.\u001b[0m\u001b[0mbuild_fn\u001b[0m \u001b[0;32mis\u001b[0m \u001b[0;32mNone\u001b[0m\u001b[0;34m:\u001b[0m\u001b[0;34m\u001b[0m\u001b[0;34m\u001b[0m\u001b[0m\n\u001b[0;32m---> 93\u001b[0;31m       \u001b[0mlegal_params_fns\u001b[0m\u001b[0;34m.\u001b[0m\u001b[0mappend\u001b[0m\u001b[0;34m(\u001b[0m\u001b[0mself\u001b[0m\u001b[0;34m.\u001b[0m\u001b[0m__call__\u001b[0m\u001b[0;34m)\u001b[0m\u001b[0;34m\u001b[0m\u001b[0;34m\u001b[0m\u001b[0m\n\u001b[0m\u001b[1;32m     94\u001b[0m     elif (not isinstance(self.build_fn, types.FunctionType) and\n\u001b[1;32m     95\u001b[0m           not isinstance(self.build_fn, types.MethodType)):\n",
      "\u001b[0;31mAttributeError\u001b[0m: 'KerasRegressor' object has no attribute '__call__'"
     ]
    }
   ],
   "source": [
    "transformers = FeatureUnion([('scaler', MinMaxScaler()), ('norm', Normalizer())])\n",
    "pipe = Pipeline([('preprocess', StandardScaler()), ('predictor', LinearRegression())])\n",
    "keras_reg = KerasRegressor()"
   ]
  },
  {
   "cell_type": "code",
   "execution_count": 7,
   "id": "greek-scout",
   "metadata": {},
   "outputs": [],
   "source": [
    "lr_grid = {'predictor': [LinearRegression()]}\n",
    "svr_grid = {\n",
    "    'predictor': [SVR()],\n",
    "    'predictor__kernel': ['linear', 'poly', 'rbf', 'sigmoid']\n",
    "}\n",
    "d_tree_grid = {\n",
    "    'predictor': [DecisionTreeRegressor()],\n",
    "    'predictor__criterion': ['mse', 'friedman_mse', 'mae', 'poisson']  \n",
    "}\n",
    "mlp_grid = {\n",
    "    'predictor': [MLPRegressor()],\n",
    "    'predictor__learning_rate_init': [0.001],\n",
    "    'predictor__random_state': [1],\n",
    "    'predictor__max_iter': [400],\n",
    "    'predictor__activation': ['relu','logistic'], ##'tanh',\n",
    "    'predictor__hidden_layer_sizes': [(100,),(125,)], ## ,(50,)\n",
    "    'predictor__alpha': [10**-x for x in range(1, 7)]\n",
    "}\n",
    "rfr_grid = {'predictor': [RandomForestRegressor()]  }\n",
    "gbr_grid = {\n",
    "    'predictor': [GradientBoostingRegressor()],\n",
    "    'predictor__loss': ['ls', 'lad', 'huber', 'quantile']\n",
    "}\n",
    "etr_grid = {'predictor': [ExtraTreesRegressor()]}\n",
    "abr_grid = {'predictor': [AdaBoostRegressor()]}\n",
    "sgdr_grid = {'predictor': [SGDRegressor()]}\n",
    "ridge_grid = {'predictor': [Ridge()]}\n",
    "lasso_grid = {'predictor': [Lasso()]}\n",
    "enet_grid = {'predictor': [ElasticNet()]}\n",
    "lars_lasso_grid = {'predictor': [LassoLars()]}\n",
    "br_grid = {'predictor': [BayesianRidge()]}\n",
    "adrr_grid = {'predictor': [ARDRegression()]}\n",
    "percep_grid = {'predictor': [Perceptron()]}\n",
    "par_grid = {'predictor': [PassiveAggressiveRegressor()]}\n",
    "tsr_grid = {'predictor': [TheilSenRegressor()]}\n",
    "hbr_grid = {'predictor': [HuberRegressor()]}\n",
    "\n",
    "param_grid = [\n",
    "    {**lr_grid},\n",
    "#     {**mlp_grid}, ##takes a long time\n",
    "#     {**svr_grid}\n",
    "#     {**d_tree_grid}\n",
    "#     {**rfr_grid}\n",
    "#     {**gbr_grid}\n",
    "#     {**etr_grid}\n",
    "#     {**abr_grid}\n",
    "    {**sgdr_grid}, ##near competitor to linreg\n",
    "    {**ridge_grid}, ##near competitor to linreg\n",
    "#     {**lasso_grid}\n",
    "#     {**enet_grid}\n",
    "#     {**lars_lasso_grid}\n",
    "#     {**br_grid}\n",
    "#     {**adrr_grid}\n",
    "#     {**percep_grid} ##not working\n",
    "#     {**par_grid}\n",
    "    {**tsr_grid} ##better than linear; and takes a while\n",
    "#     {**hbr_grid}\n",
    "]"
   ]
  },
  {
   "cell_type": "code",
   "execution_count": null,
   "id": "acoustic-indication",
   "metadata": {},
   "outputs": [
    {
     "name": "stdout",
     "output_type": "stream",
     "text": [
      "Fitting 3 folds for each of 4 candidates, totalling 12 fits\n",
      "[CV 1/3] END ...................predictor=LinearRegression(); total time=   0.0s\n",
      "[CV 2/3] END ...................predictor=LinearRegression(); total time=   0.0s\n",
      "[CV 3/3] END ...................predictor=LinearRegression(); total time=   0.0s\n",
      "[CV 1/3] END .......................predictor=SGDRegressor(); total time=   0.0s\n",
      "[CV 2/3] END .......................predictor=SGDRegressor(); total time=   0.0s\n",
      "[CV 3/3] END .......................predictor=SGDRegressor(); total time=   0.0s\n",
      "[CV 1/3] END ..............................predictor=Ridge(); total time=   0.0s\n",
      "[CV 2/3] END ..............................predictor=Ridge(); total time=   0.0s\n",
      "[CV 3/3] END ..............................predictor=Ridge(); total time=   0.0s\n"
     ]
    }
   ],
   "source": [
    "pipe.fit(X_train, y_train)\n",
    "grid = GridSearchCV(pipe, param_grid, verbose=4, cv = 3, scoring='r2')\n",
    "grid.fit(X_train, y_train)"
   ]
  },
  {
   "cell_type": "code",
   "execution_count": null,
   "id": "diverse-vertical",
   "metadata": {},
   "outputs": [],
   "source": [
    "grid_est = grid.best_estimator_\n",
    "y_pred = pipe.predict(X_test)\n",
    "grid_pred = grid_est.predict(X_test)\n",
    "grid.score(X_test, y_test)\n",
    "print(grid.best_params_)\n",
    "print('scores: grid', grid_est.score(X_test, y_test), 'linreg', pipe.score(X_test, y_test))\n",
    "print(grid.scorer_)\n",
    "print('r2_score as r2;','explained_variance_score as evs;','mean_absolute_percentage_error as mape;')\n",
    "print('linreg', r2(y_test, y_pred), evs(y_test, y_pred), mape(y_test, y_pred))\n",
    "print('grid', r2(y_test, grid_pred), evs(y_test, grid_pred), mape(y_test, grid_pred))"
   ]
  },
  {
   "cell_type": "code",
   "execution_count": null,
   "id": "emotional-plastic",
   "metadata": {},
   "outputs": [],
   "source": [
    "# .get_params()"
   ]
  },
  {
   "cell_type": "code",
   "execution_count": null,
   "id": "french-sheet",
   "metadata": {},
   "outputs": [],
   "source": []
  }
 ],
 "metadata": {
  "kernelspec": {
   "display_name": "Python 3",
   "language": "python",
   "name": "python3"
  },
  "language_info": {
   "codemirror_mode": {
    "name": "ipython",
    "version": 3
   },
   "file_extension": ".py",
   "mimetype": "text/x-python",
   "name": "python",
   "nbconvert_exporter": "python",
   "pygments_lexer": "ipython3",
   "version": "3.8.5"
  }
 },
 "nbformat": 4,
 "nbformat_minor": 5
}
