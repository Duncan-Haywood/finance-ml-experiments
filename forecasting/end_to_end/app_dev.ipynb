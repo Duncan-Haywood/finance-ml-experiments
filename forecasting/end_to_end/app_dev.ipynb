{
 "cells": [
  {
   "cell_type": "code",
   "execution_count": 1,
   "id": "french-theory",
   "metadata": {},
   "outputs": [],
   "source": [
    "import plotly.express as px\n",
    "from IPython.display import display\n",
    "from ingest_stocks_to_df import IngestStocks\n",
    "from keras_stock_preprocessing import KerasPreprocess\n",
    "from model_stock_fit import ModelFit\n",
    "from model_stock_predict import ModelPredict\n",
    "from visualize_stocks import VisualizeStocks\n",
    "import matplotlib.pyplot as plt\n",
    "import seaborn as sns\n",
    "import plotly.express as px\n",
    "import numpy as np\n",
    "import pandas as pd\n",
    "from itertools import cycle\n",
    "from keras.layers import Dense, GRU\n",
    "from keras import Sequential\n",
    "from keras.callbacks import EarlyStopping\n",
    "from keras.optimizers import Adam\n",
    "from keras.preprocessing import timeseries_dataset_from_array\n",
    "from keras.utils import model_to_dot, plot_model"
   ]
  },
  {
   "cell_type": "markdown",
   "id": "thousand-struggle",
   "metadata": {},
   "source": [
    "# data"
   ]
  },
  {
   "cell_type": "code",
   "execution_count": 2,
   "id": "creative-money",
   "metadata": {
    "scrolled": false
   },
   "outputs": [
    {
     "ename": "ValueError",
     "evalue": "Input 0 of layer gru_1 is incompatible with the layer: expected ndim=3, found ndim=2. Full shape received: (None, 100)",
     "output_type": "error",
     "traceback": [
      "\u001b[0;31m---------------------------------------------------------------------------\u001b[0m",
      "\u001b[0;31mValueError\u001b[0m                                Traceback (most recent call last)",
      "\u001b[0;32m<ipython-input-2-58d20ec8d048>\u001b[0m in \u001b[0;36m<module>\u001b[0;34m\u001b[0m\n\u001b[1;32m     12\u001b[0m \u001b[0mmf\u001b[0m \u001b[0;34m=\u001b[0m \u001b[0mModelFit\u001b[0m\u001b[0;34m\u001b[0m\u001b[0;34m\u001b[0m\u001b[0m\n\u001b[1;32m     13\u001b[0m \u001b[0;31m# model=mf.gru_model(nodes=nodes)\u001b[0m\u001b[0;34m\u001b[0m\u001b[0;34m\u001b[0m\u001b[0;34m\u001b[0m\u001b[0m\n\u001b[0;32m---> 14\u001b[0;31m \u001b[0mmodel\u001b[0m \u001b[0;34m=\u001b[0m \u001b[0mmf\u001b[0m\u001b[0;34m.\u001b[0m\u001b[0mgru_stacked_model\u001b[0m\u001b[0;34m(\u001b[0m\u001b[0mnodes\u001b[0m\u001b[0;34m=\u001b[0m\u001b[0mnodes\u001b[0m\u001b[0;34m)\u001b[0m\u001b[0;34m\u001b[0m\u001b[0;34m\u001b[0m\u001b[0m\n\u001b[0m\u001b[1;32m     15\u001b[0m \u001b[0;31m# model=mf.lstm_dense_model()\u001b[0m\u001b[0;34m\u001b[0m\u001b[0;34m\u001b[0m\u001b[0;34m\u001b[0m\u001b[0m\n\u001b[1;32m     16\u001b[0m \u001b[0;31m# model=mf.stack_3_lstm_model()\u001b[0m\u001b[0;34m\u001b[0m\u001b[0;34m\u001b[0m\u001b[0;34m\u001b[0m\u001b[0m\n",
      "\u001b[0;32m~/swe/finance_ml_analysis/forecasting/end_to_end/model_stock_fit.py\u001b[0m in \u001b[0;36mgru_stacked_model\u001b[0;34m(nodes, dropout, recurrent_dropout, learning_rate, loss, optimizer, metrics)\u001b[0m\n\u001b[1;32m     27\u001b[0m         \u001b[0mmodel\u001b[0m\u001b[0;34m.\u001b[0m\u001b[0madd\u001b[0m\u001b[0;34m(\u001b[0m\u001b[0mInput\u001b[0m\u001b[0;34m(\u001b[0m\u001b[0mshape\u001b[0m\u001b[0;34m=\u001b[0m\u001b[0;34m(\u001b[0m\u001b[0;32mNone\u001b[0m\u001b[0;34m,\u001b[0m \u001b[0;36m1\u001b[0m\u001b[0;34m)\u001b[0m\u001b[0;34m)\u001b[0m\u001b[0;34m)\u001b[0m\u001b[0;34m\u001b[0m\u001b[0;34m\u001b[0m\u001b[0m\n\u001b[1;32m     28\u001b[0m         \u001b[0mmodel\u001b[0m\u001b[0;34m.\u001b[0m\u001b[0madd\u001b[0m\u001b[0;34m(\u001b[0m\u001b[0mGRU\u001b[0m\u001b[0;34m(\u001b[0m\u001b[0mnodes\u001b[0m\u001b[0;34m)\u001b[0m\u001b[0;34m)\u001b[0m\u001b[0;34m\u001b[0m\u001b[0;34m\u001b[0m\u001b[0m\n\u001b[0;32m---> 29\u001b[0;31m         \u001b[0mmodel\u001b[0m\u001b[0;34m.\u001b[0m\u001b[0madd\u001b[0m\u001b[0;34m(\u001b[0m\u001b[0mGRU\u001b[0m\u001b[0;34m(\u001b[0m\u001b[0mnodes\u001b[0m\u001b[0;34m)\u001b[0m\u001b[0;34m)\u001b[0m\u001b[0;34m\u001b[0m\u001b[0;34m\u001b[0m\u001b[0m\n\u001b[0m\u001b[1;32m     30\u001b[0m         \u001b[0mmodel\u001b[0m\u001b[0;34m.\u001b[0m\u001b[0madd\u001b[0m\u001b[0;34m(\u001b[0m\u001b[0mDense\u001b[0m\u001b[0;34m(\u001b[0m\u001b[0;36m1\u001b[0m\u001b[0;34m,\u001b[0m \u001b[0mactivation\u001b[0m\u001b[0;34m=\u001b[0m\u001b[0;34m'linear'\u001b[0m\u001b[0;34m)\u001b[0m\u001b[0;34m)\u001b[0m\u001b[0;34m\u001b[0m\u001b[0;34m\u001b[0m\u001b[0m\n\u001b[1;32m     31\u001b[0m         model.compile(optimizer=optimizer(learning_rate=learning_rate),\n",
      "\u001b[0;32m~/swe/finance_ml_analysis/tensorflow_venv/lib/python3.8/site-packages/tensorflow/python/training/tracking/base.py\u001b[0m in \u001b[0;36m_method_wrapper\u001b[0;34m(self, *args, **kwargs)\u001b[0m\n\u001b[1;32m    515\u001b[0m     \u001b[0mself\u001b[0m\u001b[0;34m.\u001b[0m\u001b[0m_self_setattr_tracking\u001b[0m \u001b[0;34m=\u001b[0m \u001b[0;32mFalse\u001b[0m  \u001b[0;31m# pylint: disable=protected-access\u001b[0m\u001b[0;34m\u001b[0m\u001b[0;34m\u001b[0m\u001b[0m\n\u001b[1;32m    516\u001b[0m     \u001b[0;32mtry\u001b[0m\u001b[0;34m:\u001b[0m\u001b[0;34m\u001b[0m\u001b[0;34m\u001b[0m\u001b[0m\n\u001b[0;32m--> 517\u001b[0;31m       \u001b[0mresult\u001b[0m \u001b[0;34m=\u001b[0m \u001b[0mmethod\u001b[0m\u001b[0;34m(\u001b[0m\u001b[0mself\u001b[0m\u001b[0;34m,\u001b[0m \u001b[0;34m*\u001b[0m\u001b[0margs\u001b[0m\u001b[0;34m,\u001b[0m \u001b[0;34m**\u001b[0m\u001b[0mkwargs\u001b[0m\u001b[0;34m)\u001b[0m\u001b[0;34m\u001b[0m\u001b[0;34m\u001b[0m\u001b[0m\n\u001b[0m\u001b[1;32m    518\u001b[0m     \u001b[0;32mfinally\u001b[0m\u001b[0;34m:\u001b[0m\u001b[0;34m\u001b[0m\u001b[0;34m\u001b[0m\u001b[0m\n\u001b[1;32m    519\u001b[0m       \u001b[0mself\u001b[0m\u001b[0;34m.\u001b[0m\u001b[0m_self_setattr_tracking\u001b[0m \u001b[0;34m=\u001b[0m \u001b[0mprevious_value\u001b[0m  \u001b[0;31m# pylint: disable=protected-access\u001b[0m\u001b[0;34m\u001b[0m\u001b[0;34m\u001b[0m\u001b[0m\n",
      "\u001b[0;32m~/swe/finance_ml_analysis/tensorflow_venv/lib/python3.8/site-packages/tensorflow/python/keras/engine/sequential.py\u001b[0m in \u001b[0;36madd\u001b[0;34m(self, layer)\u001b[0m\n\u001b[1;32m    221\u001b[0m       \u001b[0;31m# If the model is being built continuously on top of an input layer:\u001b[0m\u001b[0;34m\u001b[0m\u001b[0;34m\u001b[0m\u001b[0;34m\u001b[0m\u001b[0m\n\u001b[1;32m    222\u001b[0m       \u001b[0;31m# refresh its output.\u001b[0m\u001b[0;34m\u001b[0m\u001b[0;34m\u001b[0m\u001b[0;34m\u001b[0m\u001b[0m\n\u001b[0;32m--> 223\u001b[0;31m       \u001b[0moutput_tensor\u001b[0m \u001b[0;34m=\u001b[0m \u001b[0mlayer\u001b[0m\u001b[0;34m(\u001b[0m\u001b[0mself\u001b[0m\u001b[0;34m.\u001b[0m\u001b[0moutputs\u001b[0m\u001b[0;34m[\u001b[0m\u001b[0;36m0\u001b[0m\u001b[0;34m]\u001b[0m\u001b[0;34m)\u001b[0m\u001b[0;34m\u001b[0m\u001b[0;34m\u001b[0m\u001b[0m\n\u001b[0m\u001b[1;32m    224\u001b[0m       \u001b[0;32mif\u001b[0m \u001b[0mlen\u001b[0m\u001b[0;34m(\u001b[0m\u001b[0mnest\u001b[0m\u001b[0;34m.\u001b[0m\u001b[0mflatten\u001b[0m\u001b[0;34m(\u001b[0m\u001b[0moutput_tensor\u001b[0m\u001b[0;34m)\u001b[0m\u001b[0;34m)\u001b[0m \u001b[0;34m!=\u001b[0m \u001b[0;36m1\u001b[0m\u001b[0;34m:\u001b[0m\u001b[0;34m\u001b[0m\u001b[0;34m\u001b[0m\u001b[0m\n\u001b[1;32m    225\u001b[0m         \u001b[0;32mraise\u001b[0m \u001b[0mValueError\u001b[0m\u001b[0;34m(\u001b[0m\u001b[0mSINGLE_LAYER_OUTPUT_ERROR_MSG\u001b[0m\u001b[0;34m)\u001b[0m\u001b[0;34m\u001b[0m\u001b[0;34m\u001b[0m\u001b[0m\n",
      "\u001b[0;32m~/swe/finance_ml_analysis/tensorflow_venv/lib/python3.8/site-packages/tensorflow/python/keras/layers/recurrent.py\u001b[0m in \u001b[0;36m__call__\u001b[0;34m(self, inputs, initial_state, constants, **kwargs)\u001b[0m\n\u001b[1;32m    658\u001b[0m \u001b[0;34m\u001b[0m\u001b[0m\n\u001b[1;32m    659\u001b[0m     \u001b[0;32mif\u001b[0m \u001b[0minitial_state\u001b[0m \u001b[0;32mis\u001b[0m \u001b[0;32mNone\u001b[0m \u001b[0;32mand\u001b[0m \u001b[0mconstants\u001b[0m \u001b[0;32mis\u001b[0m \u001b[0;32mNone\u001b[0m\u001b[0;34m:\u001b[0m\u001b[0;34m\u001b[0m\u001b[0;34m\u001b[0m\u001b[0m\n\u001b[0;32m--> 660\u001b[0;31m       \u001b[0;32mreturn\u001b[0m \u001b[0msuper\u001b[0m\u001b[0;34m(\u001b[0m\u001b[0mRNN\u001b[0m\u001b[0;34m,\u001b[0m \u001b[0mself\u001b[0m\u001b[0;34m)\u001b[0m\u001b[0;34m.\u001b[0m\u001b[0m__call__\u001b[0m\u001b[0;34m(\u001b[0m\u001b[0minputs\u001b[0m\u001b[0;34m,\u001b[0m \u001b[0;34m**\u001b[0m\u001b[0mkwargs\u001b[0m\u001b[0;34m)\u001b[0m\u001b[0;34m\u001b[0m\u001b[0;34m\u001b[0m\u001b[0m\n\u001b[0m\u001b[1;32m    661\u001b[0m \u001b[0;34m\u001b[0m\u001b[0m\n\u001b[1;32m    662\u001b[0m     \u001b[0;31m# If any of `initial_state` or `constants` are specified and are Keras\u001b[0m\u001b[0;34m\u001b[0m\u001b[0;34m\u001b[0m\u001b[0;34m\u001b[0m\u001b[0m\n",
      "\u001b[0;32m~/swe/finance_ml_analysis/tensorflow_venv/lib/python3.8/site-packages/tensorflow/python/keras/engine/base_layer.py\u001b[0m in \u001b[0;36m__call__\u001b[0;34m(self, *args, **kwargs)\u001b[0m\n\u001b[1;32m    949\u001b[0m     \u001b[0;31m# >> model = tf.keras.Model(inputs, outputs)\u001b[0m\u001b[0;34m\u001b[0m\u001b[0;34m\u001b[0m\u001b[0;34m\u001b[0m\u001b[0m\n\u001b[1;32m    950\u001b[0m     \u001b[0;32mif\u001b[0m \u001b[0m_in_functional_construction_mode\u001b[0m\u001b[0;34m(\u001b[0m\u001b[0mself\u001b[0m\u001b[0;34m,\u001b[0m \u001b[0minputs\u001b[0m\u001b[0;34m,\u001b[0m \u001b[0margs\u001b[0m\u001b[0;34m,\u001b[0m \u001b[0mkwargs\u001b[0m\u001b[0;34m,\u001b[0m \u001b[0minput_list\u001b[0m\u001b[0;34m)\u001b[0m\u001b[0;34m:\u001b[0m\u001b[0;34m\u001b[0m\u001b[0;34m\u001b[0m\u001b[0m\n\u001b[0;32m--> 951\u001b[0;31m       return self._functional_construction_call(inputs, args, kwargs,\n\u001b[0m\u001b[1;32m    952\u001b[0m                                                 input_list)\n\u001b[1;32m    953\u001b[0m \u001b[0;34m\u001b[0m\u001b[0m\n",
      "\u001b[0;32m~/swe/finance_ml_analysis/tensorflow_venv/lib/python3.8/site-packages/tensorflow/python/keras/engine/base_layer.py\u001b[0m in \u001b[0;36m_functional_construction_call\u001b[0;34m(self, inputs, args, kwargs, input_list)\u001b[0m\n\u001b[1;32m   1088\u001b[0m           layer=self, inputs=inputs, build_graph=True, training=training_value):\n\u001b[1;32m   1089\u001b[0m         \u001b[0;31m# Check input assumptions set after layer building, e.g. input shape.\u001b[0m\u001b[0;34m\u001b[0m\u001b[0;34m\u001b[0m\u001b[0;34m\u001b[0m\u001b[0m\n\u001b[0;32m-> 1090\u001b[0;31m         outputs = self._keras_tensor_symbolic_call(\n\u001b[0m\u001b[1;32m   1091\u001b[0m             inputs, input_masks, args, kwargs)\n\u001b[1;32m   1092\u001b[0m \u001b[0;34m\u001b[0m\u001b[0m\n",
      "\u001b[0;32m~/swe/finance_ml_analysis/tensorflow_venv/lib/python3.8/site-packages/tensorflow/python/keras/engine/base_layer.py\u001b[0m in \u001b[0;36m_keras_tensor_symbolic_call\u001b[0;34m(self, inputs, input_masks, args, kwargs)\u001b[0m\n\u001b[1;32m    820\u001b[0m       \u001b[0;32mreturn\u001b[0m \u001b[0mnest\u001b[0m\u001b[0;34m.\u001b[0m\u001b[0mmap_structure\u001b[0m\u001b[0;34m(\u001b[0m\u001b[0mkeras_tensor\u001b[0m\u001b[0;34m.\u001b[0m\u001b[0mKerasTensor\u001b[0m\u001b[0;34m,\u001b[0m \u001b[0moutput_signature\u001b[0m\u001b[0;34m)\u001b[0m\u001b[0;34m\u001b[0m\u001b[0;34m\u001b[0m\u001b[0m\n\u001b[1;32m    821\u001b[0m     \u001b[0;32melse\u001b[0m\u001b[0;34m:\u001b[0m\u001b[0;34m\u001b[0m\u001b[0;34m\u001b[0m\u001b[0m\n\u001b[0;32m--> 822\u001b[0;31m       \u001b[0;32mreturn\u001b[0m \u001b[0mself\u001b[0m\u001b[0;34m.\u001b[0m\u001b[0m_infer_output_signature\u001b[0m\u001b[0;34m(\u001b[0m\u001b[0minputs\u001b[0m\u001b[0;34m,\u001b[0m \u001b[0margs\u001b[0m\u001b[0;34m,\u001b[0m \u001b[0mkwargs\u001b[0m\u001b[0;34m,\u001b[0m \u001b[0minput_masks\u001b[0m\u001b[0;34m)\u001b[0m\u001b[0;34m\u001b[0m\u001b[0;34m\u001b[0m\u001b[0m\n\u001b[0m\u001b[1;32m    823\u001b[0m \u001b[0;34m\u001b[0m\u001b[0m\n\u001b[1;32m    824\u001b[0m   \u001b[0;32mdef\u001b[0m \u001b[0m_infer_output_signature\u001b[0m\u001b[0;34m(\u001b[0m\u001b[0mself\u001b[0m\u001b[0;34m,\u001b[0m \u001b[0minputs\u001b[0m\u001b[0;34m,\u001b[0m \u001b[0margs\u001b[0m\u001b[0;34m,\u001b[0m \u001b[0mkwargs\u001b[0m\u001b[0;34m,\u001b[0m \u001b[0minput_masks\u001b[0m\u001b[0;34m)\u001b[0m\u001b[0;34m:\u001b[0m\u001b[0;34m\u001b[0m\u001b[0;34m\u001b[0m\u001b[0m\n",
      "\u001b[0;32m~/swe/finance_ml_analysis/tensorflow_venv/lib/python3.8/site-packages/tensorflow/python/keras/engine/base_layer.py\u001b[0m in \u001b[0;36m_infer_output_signature\u001b[0;34m(self, inputs, args, kwargs, input_masks)\u001b[0m\n\u001b[1;32m    860\u001b[0m           \u001b[0;31m# overridden).\u001b[0m\u001b[0;34m\u001b[0m\u001b[0;34m\u001b[0m\u001b[0;34m\u001b[0m\u001b[0m\n\u001b[1;32m    861\u001b[0m           \u001b[0;31m# TODO(kaftan): do we maybe_build here, or have we already done it?\u001b[0m\u001b[0;34m\u001b[0m\u001b[0;34m\u001b[0m\u001b[0;34m\u001b[0m\u001b[0m\n\u001b[0;32m--> 862\u001b[0;31m           \u001b[0mself\u001b[0m\u001b[0;34m.\u001b[0m\u001b[0m_maybe_build\u001b[0m\u001b[0;34m(\u001b[0m\u001b[0minputs\u001b[0m\u001b[0;34m)\u001b[0m\u001b[0;34m\u001b[0m\u001b[0;34m\u001b[0m\u001b[0m\n\u001b[0m\u001b[1;32m    863\u001b[0m           \u001b[0moutputs\u001b[0m \u001b[0;34m=\u001b[0m \u001b[0mcall_fn\u001b[0m\u001b[0;34m(\u001b[0m\u001b[0minputs\u001b[0m\u001b[0;34m,\u001b[0m \u001b[0;34m*\u001b[0m\u001b[0margs\u001b[0m\u001b[0;34m,\u001b[0m \u001b[0;34m**\u001b[0m\u001b[0mkwargs\u001b[0m\u001b[0;34m)\u001b[0m\u001b[0;34m\u001b[0m\u001b[0;34m\u001b[0m\u001b[0m\n\u001b[1;32m    864\u001b[0m \u001b[0;34m\u001b[0m\u001b[0m\n",
      "\u001b[0;32m~/swe/finance_ml_analysis/tensorflow_venv/lib/python3.8/site-packages/tensorflow/python/keras/engine/base_layer.py\u001b[0m in \u001b[0;36m_maybe_build\u001b[0;34m(self, inputs)\u001b[0m\n\u001b[1;32m   2682\u001b[0m     \u001b[0;31m# Check input assumptions set before layer building, e.g. input rank.\u001b[0m\u001b[0;34m\u001b[0m\u001b[0;34m\u001b[0m\u001b[0;34m\u001b[0m\u001b[0m\n\u001b[1;32m   2683\u001b[0m     \u001b[0;32mif\u001b[0m \u001b[0;32mnot\u001b[0m \u001b[0mself\u001b[0m\u001b[0;34m.\u001b[0m\u001b[0mbuilt\u001b[0m\u001b[0;34m:\u001b[0m\u001b[0;34m\u001b[0m\u001b[0;34m\u001b[0m\u001b[0m\n\u001b[0;32m-> 2684\u001b[0;31m       input_spec.assert_input_compatibility(\n\u001b[0m\u001b[1;32m   2685\u001b[0m           self.input_spec, inputs, self.name)\n\u001b[1;32m   2686\u001b[0m       \u001b[0minput_list\u001b[0m \u001b[0;34m=\u001b[0m \u001b[0mnest\u001b[0m\u001b[0;34m.\u001b[0m\u001b[0mflatten\u001b[0m\u001b[0;34m(\u001b[0m\u001b[0minputs\u001b[0m\u001b[0;34m)\u001b[0m\u001b[0;34m\u001b[0m\u001b[0;34m\u001b[0m\u001b[0m\n",
      "\u001b[0;32m~/swe/finance_ml_analysis/tensorflow_venv/lib/python3.8/site-packages/tensorflow/python/keras/engine/input_spec.py\u001b[0m in \u001b[0;36massert_input_compatibility\u001b[0;34m(input_spec, inputs, layer_name)\u001b[0m\n\u001b[1;32m    217\u001b[0m       \u001b[0mndim\u001b[0m \u001b[0;34m=\u001b[0m \u001b[0mshape\u001b[0m\u001b[0;34m.\u001b[0m\u001b[0mrank\u001b[0m\u001b[0;34m\u001b[0m\u001b[0;34m\u001b[0m\u001b[0m\n\u001b[1;32m    218\u001b[0m       \u001b[0;32mif\u001b[0m \u001b[0mndim\u001b[0m \u001b[0;34m!=\u001b[0m \u001b[0mspec\u001b[0m\u001b[0;34m.\u001b[0m\u001b[0mndim\u001b[0m\u001b[0;34m:\u001b[0m\u001b[0;34m\u001b[0m\u001b[0;34m\u001b[0m\u001b[0m\n\u001b[0;32m--> 219\u001b[0;31m         raise ValueError('Input ' + str(input_index) + ' of layer ' +\n\u001b[0m\u001b[1;32m    220\u001b[0m                          \u001b[0mlayer_name\u001b[0m \u001b[0;34m+\u001b[0m \u001b[0;34m' is incompatible with the layer: '\u001b[0m\u001b[0;34m\u001b[0m\u001b[0;34m\u001b[0m\u001b[0m\n\u001b[1;32m    221\u001b[0m                          \u001b[0;34m'expected ndim='\u001b[0m \u001b[0;34m+\u001b[0m \u001b[0mstr\u001b[0m\u001b[0;34m(\u001b[0m\u001b[0mspec\u001b[0m\u001b[0;34m.\u001b[0m\u001b[0mndim\u001b[0m\u001b[0;34m)\u001b[0m \u001b[0;34m+\u001b[0m \u001b[0;34m', found ndim='\u001b[0m \u001b[0;34m+\u001b[0m\u001b[0;34m\u001b[0m\u001b[0;34m\u001b[0m\u001b[0m\n",
      "\u001b[0;31mValueError\u001b[0m: Input 0 of layer gru_1 is incompatible with the layer: expected ndim=3, found ndim=2. Full shape received: (None, 100)"
     ]
    }
   ],
   "source": [
    "stocks_str = 'AAPL'#'GSIT, ICAD, XAIR, LTRN, ARKK, ARKF, ARKW'\n",
    "ticker_list = [ticker.strip() for ticker in stocks_str.upper().split(',')]\n",
    "stock_names = ticker_list[0:3]\n",
    "time_diff_years= 8\n",
    "column_metric = 'Adj Close'\n",
    "company_name = 'AAPL'\n",
    "lookback_length=100\n",
    "batch_size=30\n",
    "latest_day=-lookback_length\n",
    "future_num_days=30\n",
    "nodes=100\n",
    "mf = ModelFit\n",
    "# model=mf.gru_model(nodes=nodes)\n",
    "model = mf.gru_stacked_model(nodes=nodes)\n",
    "# model=mf.lstm_dense_model()\n",
    "# model=mf.stack_3_lstm_model()\n",
    "# model=mf.bi_stack_lstm_model()\n",
    "\n",
    "\n",
    "file_name = IngestStocks.get_file_name(ticker_list=ticker_list, time_diff_years=time_diff_years)\n",
    "# stocks_df = pd.read_pickle(file_name)\n",
    "stocks_df = IngestStocks.ingest_stocks_to_df(ticker_list=ticker_list, time_diff_years=time_diff_years)\n",
    "display(stocks_df)\n",
    "stocks_df.to_pickle(file_name)\n",
    "plot = VisualizeStocks.add_stocks_fig(stock_names=ticker_list, column_metric=column_metric,stocks_df=stocks_df)"
   ]
  },
  {
   "cell_type": "markdown",
   "id": "grateful-infrared",
   "metadata": {},
   "source": [
    "# fit"
   ]
  },
  {
   "cell_type": "code",
   "execution_count": 5,
   "id": "fresh-point",
   "metadata": {
    "scrolled": true
   },
   "outputs": [],
   "source": [
    "def main(model=None):\n",
    "    train_ds, val_ds, test_ds = KerasPreprocess.keras_batch_preprocess(stocks_df=stocks_df, company_name=company_name, metric=column_metric, lookback_length=lookback_length, batch_size=batch_size)\n",
    "    history, model = mf.train_model(train_data=train_ds, validation_data=val_ds, model=model)\n",
    "    test_error = ModelPredict.evaluate_model(model, test_ds)\n",
    "    train_error = pd.DataFrame(history.history)\n",
    "    prediction_data = KerasPreprocess.get_prediction_data(stocks_df=stocks_df, company_name=company_name, metric=column_metric, lookback_length=lookback_length, latest_day=latest_day)\n",
    "    predictions = ModelPredict.pred_next_days(future_num_days=future_num_days, previous_days=prediction_data, model=model)\n",
    "    future_fig = VisualizeStocks.plot_future(predictions=predictions, stocks_df=stocks_df, latest_day=latest_day, future_num_days=future_num_days, company_name=company_name, column_metric=column_metric)\n",
    "    return future_fig, train_error, test_error, model"
   ]
  },
  {
   "cell_type": "code",
   "execution_count": 7,
   "id": "exposed-research",
   "metadata": {
    "scrolled": true
   },
   "outputs": [
    {
     "name": "stdout",
     "output_type": "stream",
     "text": [
      "Epoch 1/300\n",
      "36/36 [==============================] - 6s 89ms/step - loss: 184.7513 - mse: 184.7513 - val_loss: 580.9450 - val_mse: 580.9450\n",
      "Epoch 2/300\n",
      "36/36 [==============================] - 2s 68ms/step - loss: 25.4027 - mse: 25.4027 - val_loss: 384.3448 - val_mse: 384.3448\n",
      "Epoch 3/300\n",
      "36/36 [==============================] - 3s 72ms/step - loss: 59.8532 - mse: 59.8532 - val_loss: 396.2881 - val_mse: 396.2881\n",
      "Epoch 4/300\n",
      "36/36 [==============================] - 3s 73ms/step - loss: 57.3445 - mse: 57.3445 - val_loss: 389.6547 - val_mse: 389.6547\n",
      "Epoch 5/300\n",
      "36/36 [==============================] - 3s 71ms/step - loss: 57.2033 - mse: 57.2033 - val_loss: 400.4658 - val_mse: 400.4658\n",
      "Epoch 6/300\n",
      "36/36 [==============================] - 3s 79ms/step - loss: 57.2537 - mse: 57.2537 - val_loss: 403.5421 - val_mse: 403.5421\n",
      "Epoch 7/300\n",
      "36/36 [==============================] - 3s 74ms/step - loss: 53.2748 - mse: 53.2748 - val_loss: 396.1062 - val_mse: 396.1062\n",
      "Epoch 8/300\n",
      "36/36 [==============================] - 3s 97ms/step - loss: 50.5719 - mse: 50.5719 - val_loss: 373.0265 - val_mse: 373.0265\n",
      "Epoch 9/300\n",
      "36/36 [==============================] - 3s 89ms/step - loss: 63.0208 - mse: 63.0208 - val_loss: 360.5891 - val_mse: 360.5891\n",
      "Epoch 10/300\n",
      "36/36 [==============================] - 3s 73ms/step - loss: 51.9019 - mse: 51.9019 - val_loss: 375.3704 - val_mse: 375.3704\n",
      "Epoch 11/300\n",
      "36/36 [==============================] - 4s 113ms/step - loss: 64.8838 - mse: 64.8838 - val_loss: 315.0249 - val_mse: 315.0249\n",
      "Epoch 12/300\n",
      "36/36 [==============================] - 4s 110ms/step - loss: 47.3970 - mse: 47.3970 - val_loss: 377.0796 - val_mse: 377.0796\n",
      "Epoch 13/300\n",
      "36/36 [==============================] - 5s 127ms/step - loss: 53.7632 - mse: 53.7632 - val_loss: 385.6382 - val_mse: 385.6382\n",
      "Epoch 14/300\n",
      "36/36 [==============================] - 4s 112ms/step - loss: 49.7925 - mse: 49.7925 - val_loss: 391.6930 - val_mse: 391.6930\n",
      "Epoch 15/300\n",
      "36/36 [==============================] - 3s 85ms/step - loss: 57.1819 - mse: 57.1819 - val_loss: 386.1945 - val_mse: 386.1945\n",
      "Epoch 16/300\n",
      "36/36 [==============================] - 3s 75ms/step - loss: 44.7692 - mse: 44.7692 - val_loss: 372.0058 - val_mse: 372.0058\n",
      "Epoch 17/300\n",
      "36/36 [==============================] - 3s 74ms/step - loss: 59.8795 - mse: 59.8795 - val_loss: 382.1696 - val_mse: 382.1696\n",
      "Epoch 18/300\n",
      "36/36 [==============================] - 3s 91ms/step - loss: 50.5285 - mse: 50.5285 - val_loss: 378.7158 - val_mse: 378.7158\n",
      "Epoch 19/300\n",
      "36/36 [==============================] - 3s 97ms/step - loss: 60.3932 - mse: 60.3932 - val_loss: 348.7708 - val_mse: 348.7708\n",
      "Epoch 20/300\n",
      "36/36 [==============================] - 3s 96ms/step - loss: 66.6598 - mse: 66.6598 - val_loss: 388.4248 - val_mse: 388.4248\n",
      "Epoch 21/300\n",
      "36/36 [==============================] - 3s 92ms/step - loss: 54.9807 - mse: 54.9807 - val_loss: 362.8272 - val_mse: 362.8272\n",
      "Epoch 22/300\n",
      "36/36 [==============================] - 4s 108ms/step - loss: 61.3423 - mse: 61.3423 - val_loss: 375.2469 - val_mse: 375.2469\n",
      "Epoch 23/300\n",
      "36/36 [==============================] - 3s 73ms/step - loss: 38.6043 - mse: 38.6043 - val_loss: 378.1664 - val_mse: 378.1664\n",
      "Epoch 24/300\n",
      "36/36 [==============================] - 3s 75ms/step - loss: 64.0928 - mse: 64.0928 - val_loss: 389.7498 - val_mse: 389.7498\n",
      "Epoch 25/300\n",
      "36/36 [==============================] - 3s 76ms/step - loss: 55.7106 - mse: 55.7106 - val_loss: 386.1173 - val_mse: 386.1173\n",
      "Epoch 26/300\n",
      "36/36 [==============================] - 4s 109ms/step - loss: 60.2511 - mse: 60.2511 - val_loss: 391.4570 - val_mse: 391.4570\n",
      "Epoch 27/300\n",
      "36/36 [==============================] - 4s 99ms/step - loss: 55.1651 - mse: 55.1651 - val_loss: 390.1451 - val_mse: 390.1451\n",
      "Epoch 28/300\n",
      "36/36 [==============================] - 3s 79ms/step - loss: 58.6810 - mse: 58.6810 - val_loss: 386.8545 - val_mse: 386.8545\n",
      "Epoch 29/300\n",
      "36/36 [==============================] - 3s 75ms/step - loss: 72.4235 - mse: 72.4235 - val_loss: 376.2457 - val_mse: 376.2457\n",
      "Epoch 30/300\n",
      "36/36 [==============================] - 3s 75ms/step - loss: 69.5620 - mse: 69.5620 - val_loss: 407.5079 - val_mse: 407.5079\n",
      "Epoch 31/300\n",
      "36/36 [==============================] - 3s 75ms/step - loss: 53.3128 - mse: 53.3128 - val_loss: 388.0171 - val_mse: 388.0171\n",
      "Epoch 32/300\n",
      "36/36 [==============================] - 3s 74ms/step - loss: 53.8338 - mse: 53.8338 - val_loss: 369.8926 - val_mse: 369.8926\n",
      "Epoch 33/300\n",
      "36/36 [==============================] - 3s 73ms/step - loss: 45.2719 - mse: 45.2719 - val_loss: 363.2949 - val_mse: 363.2949\n",
      "Epoch 34/300\n",
      "36/36 [==============================] - 3s 74ms/step - loss: 63.5899 - mse: 63.5899 - val_loss: 320.9086 - val_mse: 320.9086\n",
      "Epoch 35/300\n",
      "36/36 [==============================] - 3s 75ms/step - loss: 78.4676 - mse: 78.4676 - val_loss: 386.9727 - val_mse: 386.9727\n",
      "Epoch 36/300\n",
      "36/36 [==============================] - 4s 123ms/step - loss: 59.4055 - mse: 59.4055 - val_loss: 390.9178 - val_mse: 390.9178\n",
      "Epoch 37/300\n",
      "36/36 [==============================] - 4s 101ms/step - loss: 48.5741 - mse: 48.5741 - val_loss: 388.6617 - val_mse: 388.6617\n",
      "Epoch 38/300\n",
      "36/36 [==============================] - 4s 109ms/step - loss: 52.1672 - mse: 52.1672 - val_loss: 360.4839 - val_mse: 360.4839\n",
      "Epoch 39/300\n",
      "36/36 [==============================] - 3s 83ms/step - loss: 66.4945 - mse: 66.4945 - val_loss: 390.9318 - val_mse: 390.9318\n",
      "Epoch 40/300\n",
      "36/36 [==============================] - 3s 85ms/step - loss: 36.4843 - mse: 36.4843 - val_loss: 379.9217 - val_mse: 379.9217\n",
      "Epoch 41/300\n",
      "36/36 [==============================] - 3s 82ms/step - loss: 63.3939 - mse: 63.3939 - val_loss: 387.7165 - val_mse: 387.7165\n",
      "Epoch 42/300\n",
      "36/36 [==============================] - 3s 80ms/step - loss: 59.7283 - mse: 59.7283 - val_loss: 388.9739 - val_mse: 388.9739\n",
      "Epoch 43/300\n",
      "36/36 [==============================] - 3s 95ms/step - loss: 59.0622 - mse: 59.0622 - val_loss: 366.0452 - val_mse: 366.0452\n",
      "Epoch 44/300\n",
      "36/36 [==============================] - 3s 96ms/step - loss: 46.3254 - mse: 46.3254 - val_loss: 350.5473 - val_mse: 350.5473\n",
      "Epoch 45/300\n",
      "36/36 [==============================] - 3s 86ms/step - loss: 57.7812 - mse: 57.7812 - val_loss: 376.8212 - val_mse: 376.8212\n",
      "Epoch 46/300\n",
      "36/36 [==============================] - 3s 78ms/step - loss: 62.8561 - mse: 62.8561 - val_loss: 391.3742 - val_mse: 391.3742\n",
      "Epoch 47/300\n",
      "36/36 [==============================] - 3s 86ms/step - loss: 43.4302 - mse: 43.4302 - val_loss: 350.9620 - val_mse: 350.9620\n",
      "Epoch 48/300\n",
      "36/36 [==============================] - 4s 106ms/step - loss: 44.5801 - mse: 44.5801 - val_loss: 346.8968 - val_mse: 346.8968\n",
      "Epoch 49/300\n",
      "36/36 [==============================] - 3s 83ms/step - loss: 66.5898 - mse: 66.5898 - val_loss: 391.8033 - val_mse: 391.8033\n",
      "Epoch 50/300\n",
      "36/36 [==============================] - 3s 81ms/step - loss: 49.4870 - mse: 49.4870 - val_loss: 280.8341 - val_mse: 280.8341\n",
      "Epoch 51/300\n",
      "36/36 [==============================] - 3s 83ms/step - loss: 85.4209 - mse: 85.4209 - val_loss: 398.0166 - val_mse: 398.0166\n",
      "Epoch 52/300\n",
      "36/36 [==============================] - 4s 101ms/step - loss: 55.4677 - mse: 55.4677 - val_loss: 375.3792 - val_mse: 375.3792\n",
      "Epoch 53/300\n",
      "36/36 [==============================] - 3s 77ms/step - loss: 60.8484 - mse: 60.8484 - val_loss: 390.4447 - val_mse: 390.4447\n",
      "Epoch 54/300\n",
      "36/36 [==============================] - 3s 76ms/step - loss: 29.8199 - mse: 29.8199 - val_loss: 352.2352 - val_mse: 352.2352\n",
      "Epoch 55/300\n",
      "36/36 [==============================] - 3s 77ms/step - loss: 64.4292 - mse: 64.4292 - val_loss: 393.9516 - val_mse: 393.9516\n",
      "Epoch 56/300\n",
      "36/36 [==============================] - 3s 76ms/step - loss: 42.6559 - mse: 42.6559 - val_loss: 394.2482 - val_mse: 394.2482\n",
      "Epoch 57/300\n",
      "36/36 [==============================] - 3s 78ms/step - loss: 58.7624 - mse: 58.7624 - val_loss: 391.0454 - val_mse: 391.0454\n",
      "Epoch 58/300\n",
      "36/36 [==============================] - 3s 76ms/step - loss: 53.0453 - mse: 53.0453 - val_loss: 387.8745 - val_mse: 387.8745\n",
      "Epoch 59/300\n",
      "36/36 [==============================] - 3s 94ms/step - loss: 59.6069 - mse: 59.6069 - val_loss: 394.3403 - val_mse: 394.3403\n"
     ]
    },
    {
     "name": "stdout",
     "output_type": "stream",
     "text": [
      "Epoch 60/300\n",
      "36/36 [==============================] - 2s 63ms/step - loss: 57.8825 - mse: 57.8825 - val_loss: 393.1400 - val_mse: 393.1400\n",
      "Epoch 61/300\n",
      "36/36 [==============================] - 2s 58ms/step - loss: 56.9154 - mse: 56.9154 - val_loss: 401.2794 - val_mse: 401.2794\n",
      "Epoch 62/300\n",
      "36/36 [==============================] - 2s 57ms/step - loss: 58.5426 - mse: 58.5426 - val_loss: 385.9792 - val_mse: 385.9792\n",
      "Epoch 63/300\n",
      "36/36 [==============================] - 2s 55ms/step - loss: 59.7034 - mse: 59.7034 - val_loss: 395.2245 - val_mse: 395.2245\n",
      "Epoch 64/300\n",
      "36/36 [==============================] - 2s 57ms/step - loss: 57.5912 - mse: 57.5912 - val_loss: 393.2907 - val_mse: 393.2907\n",
      "Epoch 65/300\n",
      "36/36 [==============================] - 2s 57ms/step - loss: 56.5393 - mse: 56.5393 - val_loss: 393.8959 - val_mse: 393.8959\n",
      "Epoch 66/300\n",
      "36/36 [==============================] - 3s 79ms/step - loss: 59.9912 - mse: 59.9912 - val_loss: 254.8236 - val_mse: 254.8236\n",
      "Epoch 67/300\n",
      "36/36 [==============================] - 2s 68ms/step - loss: 60.7959 - mse: 60.7959 - val_loss: 395.0778 - val_mse: 395.0778\n",
      "Epoch 68/300\n",
      "36/36 [==============================] - 3s 85ms/step - loss: 62.8421 - mse: 62.8421 - val_loss: 308.3706 - val_mse: 308.3706\n",
      "Epoch 69/300\n",
      "36/36 [==============================] - 2s 67ms/step - loss: 61.4545 - mse: 61.4545 - val_loss: 394.3816 - val_mse: 394.3816\n",
      "Epoch 70/300\n",
      "36/36 [==============================] - 3s 70ms/step - loss: 61.3165 - mse: 61.3165 - val_loss: 383.0502 - val_mse: 383.0502\n",
      "Epoch 71/300\n",
      "36/36 [==============================] - 3s 71ms/step - loss: 32.6007 - mse: 32.6007 - val_loss: 314.2150 - val_mse: 314.2150\n",
      "Epoch 72/300\n",
      "36/36 [==============================] - 2s 67ms/step - loss: 38.7954 - mse: 38.7954 - val_loss: 308.5805 - val_mse: 308.5805\n",
      "Epoch 73/300\n",
      "36/36 [==============================] - 3s 71ms/step - loss: 56.8665 - mse: 56.8665 - val_loss: 398.1349 - val_mse: 398.1349\n",
      "Epoch 74/300\n",
      "36/36 [==============================] - 2s 69ms/step - loss: 57.2161 - mse: 57.2161 - val_loss: 389.2925 - val_mse: 389.2925\n",
      "Epoch 75/300\n",
      "36/36 [==============================] - 2s 61ms/step - loss: 58.1408 - mse: 58.1408 - val_loss: 390.5981 - val_mse: 390.5981\n",
      "Epoch 76/300\n",
      "36/36 [==============================] - 2s 59ms/step - loss: 69.4716 - mse: 69.4716 - val_loss: 399.9148 - val_mse: 399.9148\n",
      "Epoch 77/300\n",
      "36/36 [==============================] - 2s 62ms/step - loss: 59.0904 - mse: 59.0904 - val_loss: 385.1037 - val_mse: 385.1037\n",
      "Epoch 78/300\n",
      "36/36 [==============================] - 2s 62ms/step - loss: 59.9895 - mse: 59.9895 - val_loss: 392.7933 - val_mse: 392.7933\n",
      "Epoch 79/300\n",
      "36/36 [==============================] - 2s 60ms/step - loss: 59.0061 - mse: 59.0061 - val_loss: 392.3896 - val_mse: 392.3896\n",
      "Epoch 80/300\n",
      "36/36 [==============================] - 2s 67ms/step - loss: 84.9295 - mse: 84.9295 - val_loss: 411.2652 - val_mse: 411.2652\n",
      "Epoch 81/300\n",
      "36/36 [==============================] - 2s 58ms/step - loss: 58.7855 - mse: 58.7855 - val_loss: 390.9058 - val_mse: 390.9058\n",
      "Epoch 82/300\n",
      "36/36 [==============================] - 2s 59ms/step - loss: 57.2718 - mse: 57.2718 - val_loss: 322.3329 - val_mse: 322.3329\n",
      "Epoch 83/300\n",
      "36/36 [==============================] - 2s 62ms/step - loss: 46.4183 - mse: 46.4183 - val_loss: 381.1157 - val_mse: 381.1157\n",
      "Epoch 84/300\n",
      "36/36 [==============================] - 2s 65ms/step - loss: 57.9372 - mse: 57.9372 - val_loss: 386.1576 - val_mse: 386.1576\n",
      "Epoch 85/300\n",
      "36/36 [==============================] - 2s 68ms/step - loss: 51.8611 - mse: 51.8611 - val_loss: 422.6459 - val_mse: 422.6459\n",
      "Epoch 86/300\n",
      "36/36 [==============================] - 2s 64ms/step - loss: 56.6530 - mse: 56.6530 - val_loss: 410.9342 - val_mse: 410.9342\n",
      "Epoch 87/300\n",
      "36/36 [==============================] - 2s 60ms/step - loss: 59.8612 - mse: 59.8612 - val_loss: 400.2013 - val_mse: 400.2013\n",
      "Epoch 88/300\n",
      "36/36 [==============================] - 2s 62ms/step - loss: 59.1111 - mse: 59.1111 - val_loss: 390.2215 - val_mse: 390.2215\n",
      "Epoch 89/300\n",
      "36/36 [==============================] - 2s 62ms/step - loss: 57.6658 - mse: 57.6658 - val_loss: 397.3612 - val_mse: 397.3612\n",
      "Epoch 90/300\n",
      "36/36 [==============================] - 2s 61ms/step - loss: 56.8407 - mse: 56.8407 - val_loss: 394.3655 - val_mse: 394.3655\n",
      "Epoch 91/300\n",
      "36/36 [==============================] - 2s 62ms/step - loss: 64.2097 - mse: 64.2097 - val_loss: 409.7900 - val_mse: 409.7900\n",
      "Epoch 92/300\n",
      "36/36 [==============================] - 2s 60ms/step - loss: 55.0092 - mse: 55.0092 - val_loss: 382.8123 - val_mse: 382.8123\n",
      "Epoch 93/300\n",
      "36/36 [==============================] - 3s 74ms/step - loss: 48.1418 - mse: 48.1418 - val_loss: 394.5403 - val_mse: 394.5403\n",
      "Epoch 94/300\n",
      "36/36 [==============================] - 3s 84ms/step - loss: 59.0059 - mse: 59.0059 - val_loss: 384.3241 - val_mse: 384.3241\n",
      "Epoch 95/300\n",
      "36/36 [==============================] - 4s 99ms/step - loss: 46.2797 - mse: 46.2797 - val_loss: 330.6204 - val_mse: 330.6204\n",
      "Epoch 96/300\n",
      "36/36 [==============================] - 3s 98ms/step - loss: 40.6307 - mse: 40.6307 - val_loss: 329.0774 - val_mse: 329.0774\n",
      "Epoch 97/300\n",
      "36/36 [==============================] - 2s 62ms/step - loss: 74.0131 - mse: 74.0131 - val_loss: 270.3548 - val_mse: 270.3548\n",
      "Epoch 98/300\n",
      "36/36 [==============================] - 3s 77ms/step - loss: 91.7029 - mse: 91.7029 - val_loss: 406.8686 - val_mse: 406.8686\n",
      "Epoch 99/300\n",
      "36/36 [==============================] - 2s 61ms/step - loss: 55.9300 - mse: 55.9300 - val_loss: 413.9871 - val_mse: 413.9871\n",
      "Epoch 100/300\n",
      "36/36 [==============================] - 2s 59ms/step - loss: 53.4324 - mse: 53.4324 - val_loss: 394.1539 - val_mse: 394.1539\n",
      "Epoch 101/300\n",
      "36/36 [==============================] - 2s 58ms/step - loss: 63.4787 - mse: 63.4787 - val_loss: 305.5309 - val_mse: 305.5309\n",
      "Epoch 102/300\n",
      "36/36 [==============================] - 2s 61ms/step - loss: 88.5274 - mse: 88.5274 - val_loss: 390.1913 - val_mse: 390.1913\n",
      "Epoch 103/300\n",
      "36/36 [==============================] - 4s 110ms/step - loss: 57.7294 - mse: 57.7294 - val_loss: 401.9482 - val_mse: 401.9482\n",
      "Epoch 104/300\n",
      "36/36 [==============================] - 3s 85ms/step - loss: 55.5551 - mse: 55.5551 - val_loss: 398.0132 - val_mse: 398.0132\n",
      "Epoch 105/300\n",
      "36/36 [==============================] - 4s 105ms/step - loss: 56.4655 - mse: 56.4655 - val_loss: 398.3362 - val_mse: 398.3362\n",
      "Epoch 106/300\n",
      "36/36 [==============================] - 3s 89ms/step - loss: 56.3723 - mse: 56.3723 - val_loss: 398.3509 - val_mse: 398.3509\n",
      "10/10 [==============================] - 0s 16ms/step - loss: 2812.2244 - mse: 2812.2244\n"
     ]
    },
    {
     "data": {
      "image/png": "[encoded data removed]",
      "text/plain": [
       "<Figure size 432x288 with 1 Axes>"
      ]
     },
     "metadata": {
      "needs_background": "light"
     },
     "output_type": "display_data"
    }
   ],
   "source": [
    "fig, train_error, test_error, model = main()"
   ]
  },
  {
   "cell_type": "code",
   "execution_count": 8,
   "id": "reserved-monster",
   "metadata": {
    "scrolled": true
   },
   "outputs": [
    {
     "data": {
      "text/html": [
       "<div>\n",
       "<style scoped>\n",
       "    .dataframe tbody tr th:only-of-type {\n",
       "        vertical-align: middle;\n",
       "    }\n",
       "\n",
       "    .dataframe tbody tr th {\n",
       "        vertical-align: top;\n",
       "    }\n",
       "\n",
       "    .dataframe thead th {\n",
       "        text-align: right;\n",
       "    }\n",
       "</style>\n",
       "<table border=\"1\" class=\"dataframe\">\n",
       "  <thead>\n",
       "    <tr style=\"text-align: right;\">\n",
       "      <th></th>\n",
       "      <th>loss</th>\n",
       "      <th>mse</th>\n",
       "      <th>val_loss</th>\n",
       "      <th>val_mse</th>\n",
       "    </tr>\n",
       "  </thead>\n",
       "  <tbody>\n",
       "    <tr>\n",
       "      <th>0</th>\n",
       "      <td>170.824173</td>\n",
       "      <td>170.824173</td>\n",
       "      <td>580.945007</td>\n",
       "      <td>580.945007</td>\n",
       "    </tr>\n",
       "    <tr>\n",
       "      <th>1</th>\n",
       "      <td>27.567173</td>\n",
       "      <td>27.567173</td>\n",
       "      <td>384.344818</td>\n",
       "      <td>384.344818</td>\n",
       "    </tr>\n",
       "    <tr>\n",
       "      <th>2</th>\n",
       "      <td>41.520016</td>\n",
       "      <td>41.520016</td>\n",
       "      <td>396.288116</td>\n",
       "      <td>396.288116</td>\n",
       "    </tr>\n",
       "    <tr>\n",
       "      <th>3</th>\n",
       "      <td>41.347115</td>\n",
       "      <td>41.347115</td>\n",
       "      <td>389.654694</td>\n",
       "      <td>389.654694</td>\n",
       "    </tr>\n",
       "    <tr>\n",
       "      <th>4</th>\n",
       "      <td>42.529781</td>\n",
       "      <td>42.529781</td>\n",
       "      <td>400.465759</td>\n",
       "      <td>400.465759</td>\n",
       "    </tr>\n",
       "    <tr>\n",
       "      <th>...</th>\n",
       "      <td>...</td>\n",
       "      <td>...</td>\n",
       "      <td>...</td>\n",
       "      <td>...</td>\n",
       "    </tr>\n",
       "    <tr>\n",
       "      <th>101</th>\n",
       "      <td>52.997608</td>\n",
       "      <td>52.997608</td>\n",
       "      <td>390.191345</td>\n",
       "      <td>390.191345</td>\n",
       "    </tr>\n",
       "    <tr>\n",
       "      <th>102</th>\n",
       "      <td>41.397167</td>\n",
       "      <td>41.397167</td>\n",
       "      <td>401.948181</td>\n",
       "      <td>401.948181</td>\n",
       "    </tr>\n",
       "    <tr>\n",
       "      <th>103</th>\n",
       "      <td>40.187309</td>\n",
       "      <td>40.187309</td>\n",
       "      <td>398.013245</td>\n",
       "      <td>398.013245</td>\n",
       "    </tr>\n",
       "    <tr>\n",
       "      <th>104</th>\n",
       "      <td>40.560528</td>\n",
       "      <td>40.560528</td>\n",
       "      <td>398.336243</td>\n",
       "      <td>398.336243</td>\n",
       "    </tr>\n",
       "    <tr>\n",
       "      <th>105</th>\n",
       "      <td>40.529831</td>\n",
       "      <td>40.529831</td>\n",
       "      <td>398.350861</td>\n",
       "      <td>398.350861</td>\n",
       "    </tr>\n",
       "  </tbody>\n",
       "</table>\n",
       "<p>106 rows × 4 columns</p>\n",
       "</div>"
      ],
      "text/plain": [
       "           loss         mse    val_loss     val_mse\n",
       "0    170.824173  170.824173  580.945007  580.945007\n",
       "1     27.567173   27.567173  384.344818  384.344818\n",
       "2     41.520016   41.520016  396.288116  396.288116\n",
       "3     41.347115   41.347115  389.654694  389.654694\n",
       "4     42.529781   42.529781  400.465759  400.465759\n",
       "..          ...         ...         ...         ...\n",
       "101   52.997608   52.997608  390.191345  390.191345\n",
       "102   41.397167   41.397167  401.948181  401.948181\n",
       "103   40.187309   40.187309  398.013245  398.013245\n",
       "104   40.560528   40.560528  398.336243  398.336243\n",
       "105   40.529831   40.529831  398.350861  398.350861\n",
       "\n",
       "[106 rows x 4 columns]"
      ]
     },
     "metadata": {},
     "output_type": "display_data"
    },
    {
     "data": {
      "text/plain": [
       "2812.224365234375"
      ]
     },
     "metadata": {},
     "output_type": "display_data"
    }
   ],
   "source": [
    "display(train_error)\n",
    "display(test_error)\n",
    "fig = plot_model(model, expand_nested=True)\n",
    "plt.show()"
   ]
  },
  {
   "cell_type": "code",
   "execution_count": 33,
   "id": "hired-offer",
   "metadata": {},
   "outputs": [],
   "source": [
    "train_ds, val_ds, test_ds = KerasPreprocess.keras_batch_preprocess(stocks_df=stocks_df, company_name=company_name, metric=column_metric, lookback_length=lookback_length, batch_size=batch_size)\n",
    "predictions = model.predict(test_ds).flatten()\n",
    "column_list = KerasPreprocess.get_column_list(stocks_df=stocks_df, company_name=company_name, metric=column_metric)\n",
    "data, targets = KerasPreprocess.get_data_targets_split(column_list=column_list, lookback_length=lookback_length)\n",
    "data_train, data_val, data_test = KerasPreprocess.train_val_test_split(data)\n",
    "targets_train, targets_val, targets_test = KerasPreprocess.train_val_test_split(targets)"
   ]
  },
  {
   "cell_type": "code",
   "execution_count": 38,
   "id": "industrial-flash",
   "metadata": {},
   "outputs": [
    {
     "name": "stdout",
     "output_type": "stream",
     "text": [
      "10/10 [==============================] - 0s 14ms/step - loss: 2812.2244 - mse: 2812.2244\n"
     ]
    },
    {
     "data": {
      "text/plain": [
       "[2812.224365234375, 2812.224365234375]"
      ]
     },
     "metadata": {},
     "output_type": "display_data"
    },
    {
     "data": {
      "text/plain": [
       "(283,)"
      ]
     },
     "metadata": {},
     "output_type": "display_data"
    },
    {
     "data": {
      "text/plain": [
       "(283,)"
      ]
     },
     "metadata": {},
     "output_type": "display_data"
    },
    {
     "data": {
      "text/plain": [
       "<AxesSubplot:>"
      ]
     },
     "execution_count": 38,
     "metadata": {},
     "output_type": "execute_result"
    },
    {
     "data": {
      "image/png": "[encoded data removed]",
      "text/plain": [
       "<Figure size 432x288 with 1 Axes>"
      ]
     },
     "metadata": {
      "needs_background": "light"
     },
     "output_type": "display_data"
    }
   ],
   "source": [
    "display(model.evaluate(test_ds))\n",
    "display(predictions[:-1].shape)\n",
    "display(targets_test[lookback_length:].shape)\n",
    "results = pd.DataFrame({'predict':predictions[:-1], 'targets':targets_test[lookback_length:]})\n",
    "sns.lineplot(data=results)"
   ]
  },
  {
   "cell_type": "code",
   "execution_count": null,
   "id": "promising-color",
   "metadata": {},
   "outputs": [],
   "source": []
  }
 ],
 "metadata": {
  "kernelspec": {
   "display_name": "Python 3",
   "language": "python",
   "name": "python3"
  },
  "language_info": {
   "codemirror_mode": {
    "name": "ipython",
    "version": 3
   },
   "file_extension": ".py",
   "mimetype": "text/x-python",
   "name": "python",
   "nbconvert_exporter": "python",
   "pygments_lexer": "ipython3",
   "version": "3.8.5"
  }
 },
 "nbformat": 4,
 "nbformat_minor": 5
}
