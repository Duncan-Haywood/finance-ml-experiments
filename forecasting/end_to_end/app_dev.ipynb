{
 "cells": [
  {
   "cell_type": "code",
   "execution_count": 9,
   "id": "french-theory",
   "metadata": {},
   "outputs": [],
   "source": [
    "import plotly.express as px\n",
    "from IPython.display import display\n",
    "from ingest_stocks_to_df import IngestStocks\n",
    "from keras_stock_preprocessing import KerasPreprocess\n",
    "from model_stock_fit import ModelFit\n",
    "from visualize_stocks import VisualizeStocks\n",
    "import matplotlib.pyplot as plt\n",
    "import seaborn as sns\n",
    "import plotly.express as px\n",
    "import numpy as np\n",
    "import pandas as pd\n",
    "from itertools import cycle\n",
    "from keras.layers import Dense, GRU\n",
    "from keras import Sequential\n",
    "from keras.callbacks import EarlyStopping\n",
    "from keras.optimizers import Adam\n",
    "from keras.preprocessing import timeseries_dataset_from_array\n",
    "from keras.utils import model_to_dot, plot_model"
   ]
  },
  {
   "cell_type": "code",
   "execution_count": null,
   "id": "liquid-license",
   "metadata": {},
   "outputs": [],
   "source": []
  },
  {
   "cell_type": "markdown",
   "id": "thousand-struggle",
   "metadata": {},
   "source": [
    "# data"
   ]
  },
  {
   "cell_type": "code",
   "execution_count": 10,
   "id": "creative-money",
   "metadata": {
    "scrolled": true
   },
   "outputs": [
    {
     "data": {
      "text/html": [
       "<div>\n",
       "<style scoped>\n",
       "    .dataframe tbody tr th:only-of-type {\n",
       "        vertical-align: middle;\n",
       "    }\n",
       "\n",
       "    .dataframe tbody tr th {\n",
       "        vertical-align: top;\n",
       "    }\n",
       "\n",
       "    .dataframe thead tr th {\n",
       "        text-align: left;\n",
       "    }\n",
       "\n",
       "    .dataframe thead tr:last-of-type th {\n",
       "        text-align: right;\n",
       "    }\n",
       "</style>\n",
       "<table border=\"1\" class=\"dataframe\">\n",
       "  <thead>\n",
       "    <tr>\n",
       "      <th></th>\n",
       "      <th>date</th>\n",
       "      <th colspan=\"6\" halign=\"left\">GSIT</th>\n",
       "    </tr>\n",
       "    <tr>\n",
       "      <th></th>\n",
       "      <th></th>\n",
       "      <th>High</th>\n",
       "      <th>Low</th>\n",
       "      <th>Open</th>\n",
       "      <th>Close</th>\n",
       "      <th>Volume</th>\n",
       "      <th>Adj Close</th>\n",
       "    </tr>\n",
       "    <tr>\n",
       "      <th>Date</th>\n",
       "      <th></th>\n",
       "      <th></th>\n",
       "      <th></th>\n",
       "      <th></th>\n",
       "      <th></th>\n",
       "      <th></th>\n",
       "      <th></th>\n",
       "    </tr>\n",
       "  </thead>\n",
       "  <tbody>\n",
       "    <tr>\n",
       "      <th>2020-03-02</th>\n",
       "      <td>2020-03-02</td>\n",
       "      <td>6.7400</td>\n",
       "      <td>6.550</td>\n",
       "      <td>6.67</td>\n",
       "      <td>6.68</td>\n",
       "      <td>33500</td>\n",
       "      <td>6.68</td>\n",
       "    </tr>\n",
       "    <tr>\n",
       "      <th>2020-03-03</th>\n",
       "      <td>2020-03-03</td>\n",
       "      <td>6.8500</td>\n",
       "      <td>6.540</td>\n",
       "      <td>6.63</td>\n",
       "      <td>6.63</td>\n",
       "      <td>46800</td>\n",
       "      <td>6.63</td>\n",
       "    </tr>\n",
       "    <tr>\n",
       "      <th>2020-03-04</th>\n",
       "      <td>2020-03-04</td>\n",
       "      <td>6.7700</td>\n",
       "      <td>6.570</td>\n",
       "      <td>6.63</td>\n",
       "      <td>6.73</td>\n",
       "      <td>73500</td>\n",
       "      <td>6.73</td>\n",
       "    </tr>\n",
       "    <tr>\n",
       "      <th>2020-03-05</th>\n",
       "      <td>2020-03-05</td>\n",
       "      <td>7.0300</td>\n",
       "      <td>6.650</td>\n",
       "      <td>6.65</td>\n",
       "      <td>6.79</td>\n",
       "      <td>31000</td>\n",
       "      <td>6.79</td>\n",
       "    </tr>\n",
       "    <tr>\n",
       "      <th>2020-03-06</th>\n",
       "      <td>2020-03-06</td>\n",
       "      <td>6.8200</td>\n",
       "      <td>6.560</td>\n",
       "      <td>6.72</td>\n",
       "      <td>6.65</td>\n",
       "      <td>29100</td>\n",
       "      <td>6.65</td>\n",
       "    </tr>\n",
       "    <tr>\n",
       "      <th>...</th>\n",
       "      <td>...</td>\n",
       "      <td>...</td>\n",
       "      <td>...</td>\n",
       "      <td>...</td>\n",
       "      <td>...</td>\n",
       "      <td>...</td>\n",
       "      <td>...</td>\n",
       "    </tr>\n",
       "    <tr>\n",
       "      <th>2021-02-24</th>\n",
       "      <td>2021-02-24</td>\n",
       "      <td>7.7600</td>\n",
       "      <td>7.500</td>\n",
       "      <td>7.76</td>\n",
       "      <td>7.56</td>\n",
       "      <td>75600</td>\n",
       "      <td>7.56</td>\n",
       "    </tr>\n",
       "    <tr>\n",
       "      <th>2021-02-25</th>\n",
       "      <td>2021-02-25</td>\n",
       "      <td>7.7900</td>\n",
       "      <td>7.460</td>\n",
       "      <td>7.61</td>\n",
       "      <td>7.64</td>\n",
       "      <td>142600</td>\n",
       "      <td>7.64</td>\n",
       "    </tr>\n",
       "    <tr>\n",
       "      <th>2021-02-26</th>\n",
       "      <td>2021-02-26</td>\n",
       "      <td>7.7700</td>\n",
       "      <td>7.340</td>\n",
       "      <td>7.76</td>\n",
       "      <td>7.34</td>\n",
       "      <td>72700</td>\n",
       "      <td>7.34</td>\n",
       "    </tr>\n",
       "    <tr>\n",
       "      <th>2021-03-01</th>\n",
       "      <td>2021-03-01</td>\n",
       "      <td>7.7700</td>\n",
       "      <td>7.440</td>\n",
       "      <td>7.46</td>\n",
       "      <td>7.67</td>\n",
       "      <td>117000</td>\n",
       "      <td>7.67</td>\n",
       "    </tr>\n",
       "    <tr>\n",
       "      <th>2021-03-02</th>\n",
       "      <td>2021-03-02</td>\n",
       "      <td>7.7781</td>\n",
       "      <td>7.585</td>\n",
       "      <td>7.61</td>\n",
       "      <td>7.65</td>\n",
       "      <td>62559</td>\n",
       "      <td>7.65</td>\n",
       "    </tr>\n",
       "  </tbody>\n",
       "</table>\n",
       "<p>253 rows × 7 columns</p>\n",
       "</div>"
      ],
      "text/plain": [
       "                 date    GSIT                                     \n",
       "                         High    Low  Open Close  Volume Adj Close\n",
       "Date                                                              \n",
       "2020-03-02 2020-03-02  6.7400  6.550  6.67  6.68   33500      6.68\n",
       "2020-03-03 2020-03-03  6.8500  6.540  6.63  6.63   46800      6.63\n",
       "2020-03-04 2020-03-04  6.7700  6.570  6.63  6.73   73500      6.73\n",
       "2020-03-05 2020-03-05  7.0300  6.650  6.65  6.79   31000      6.79\n",
       "2020-03-06 2020-03-06  6.8200  6.560  6.72  6.65   29100      6.65\n",
       "...               ...     ...    ...   ...   ...     ...       ...\n",
       "2021-02-24 2021-02-24  7.7600  7.500  7.76  7.56   75600      7.56\n",
       "2021-02-25 2021-02-25  7.7900  7.460  7.61  7.64  142600      7.64\n",
       "2021-02-26 2021-02-26  7.7700  7.340  7.76  7.34   72700      7.34\n",
       "2021-03-01 2021-03-01  7.7700  7.440  7.46  7.67  117000      7.67\n",
       "2021-03-02 2021-03-02  7.7781  7.585  7.61  7.65   62559      7.65\n",
       "\n",
       "[253 rows x 7 columns]"
      ]
     },
     "metadata": {},
     "output_type": "display_data"
    },
    {
     "data": {
      "text/plain": [
       "['GSIT']"
      ]
     },
     "metadata": {},
     "output_type": "display_data"
    }
   ],
   "source": [
    "stocks_str = 'GSIT'##'GSIT, ICAD, XAIR, LTRN, ARKK, ARKF, ARKW'\n",
    "ticker_list = [ticker.strip() for ticker in stocks_str.upper().split(',')]\n",
    "time_diff_years= 1\n",
    "stocks_df = IngestStocks.ingest_stocks_to_df(ticker_list=ticker_list, time_diff_years=time_diff_years)\n",
    "display(stocks_df)\n",
    "stock_names = ticker_list[0:3]\n",
    "display(stock_names)\n",
    "column_metric = 'Adj Close'"
   ]
  },
  {
   "cell_type": "markdown",
   "id": "worth-animation",
   "metadata": {},
   "source": [
    "# visualization"
   ]
  },
  {
   "cell_type": "code",
   "execution_count": 13,
   "id": "rubber-mailing",
   "metadata": {},
   "outputs": [
    {
     "data": {
      "image/png": "[encoded data removed]",
      "text/plain": [
       "<Figure size 432x288 with 1 Axes>"
      ]
     },
     "execution_count": 13,
     "metadata": {},
     "output_type": "execute_result"
    },
    {
     "data": {
      "image/png": "[encoded data removed]",
      "text/plain": [
       "<Figure size 432x288 with 1 Axes>"
      ]
     },
     "metadata": {
      "needs_background": "light"
     },
     "output_type": "display_data"
    }
   ],
   "source": [
    "VisualizeStocks.add_stocks_fig(stock_names=ticker_list, column_metric=column_metric,stocks_df=stocks_df)"
   ]
  },
  {
   "cell_type": "markdown",
   "id": "grateful-infrared",
   "metadata": {},
   "source": [
    "# fit"
   ]
  },
  {
   "cell_type": "code",
   "execution_count": 4,
   "id": "subject-laptop",
   "metadata": {},
   "outputs": [],
   "source": [
    "# class KerasPreprocess:\n",
    "#     def __init__():\n",
    "#         pass\n",
    "#     @classmethod\n",
    "#     def keras_batch_preprocess(cls, stocks_df, company_name, metric, lookback_length=60, batch_size=60):\n",
    "#         column_list = cls.get_column_list(stocks_df, company_name, metric)\n",
    "#         data, targets = cls.get_data_targets_split(column_list, lookback_length=lookback_length)\n",
    "#         data_train, data_val, data_test = cls.train_val_test_split(data)\n",
    "#         targets_train, targets_val, targets_test = cls.train_val_test_split(targets)\n",
    "#         train_ds = timeseries_dataset_from_array(data=data_train, targets=targets_train, sequence_length=lookback_length, batch_size=batch_size)\n",
    "#         val_ds = timeseries_dataset_from_array(data=data_val, targets=targets_val, sequence_length=lookback_length, batch_size=batch_size)\n",
    "#         test_ds = timeseries_dataset_from_array(data=data_test, targets=targets_test, sequence_length=lookback_length, batch_size=batch_size)\n",
    "#         return train_ds, val_ds, test_ds\n",
    "#     @staticmethod\n",
    "#     def get_column_list(stocks_df, company_name, metric):\n",
    "#         column_slice = stocks_df[company_name, metric]\n",
    "#         column_list = column_slice.tolist()\n",
    "#         return column_list\n",
    "#     @staticmethod\n",
    "#     def get_data_targets_split(column_list, lookback_length=20):\n",
    "#         data = np.array([[x] for x in column_list[:-lookback_length]])\n",
    "#         targets = np.array([y for y in column_list[lookback_length:]])\n",
    "#         return data, targets\n",
    "#     @staticmethod\n",
    "#     def train_val_test_split(data, test_size=0.2):\n",
    "#         test_length = int(len(data)*test_size)\n",
    "#         train_length = 1 - 2*test_length\n",
    "#         train = data[:train_length]\n",
    "#         val = data[train_length:train_length+test_length]\n",
    "#         test = data[-test_length:]\n",
    "#         return train, val, test\n",
    "\n",
    "# class PreprocessingXY:    \n",
    "#     @classmethod\n",
    "#     def preprocess(cls, stocks_df, company_name, metric, lookback_length=60):\n",
    "#         column_list = cls.get_column_list(stocks_df, company_name, metric)\n",
    "#         x, y = cls.to_xy_timeseries(column_list, lookback_length=lookback_length)\n",
    "#         x_train, x_test, y_train, y_test = cls.xy_train_test_split(x, y, test_size=0.2)\n",
    "#         x_train, x_test, y_train, y_test = [cls.batch_reshape(d) for d in [x_train, x_test, y_train, y_test]]\n",
    "#         return x_train, x_test, y_train, y_test\n",
    "#     @staticmethod\n",
    "#     def get_column_list(stocks_df, company_name, metric):\n",
    "#         column_slice = stocks_df[company_name, metric]\n",
    "#         column_list = column_slice.tolist()\n",
    "#         return column_list\n",
    "#     @staticmethod\n",
    "#     def to_xy_timeseries(column_list, lookback_length=60):\n",
    "#         x, y = list(),list()\n",
    "#         for index in range(lookback_length, len(column_list)):\n",
    "#             x.append(column_list[index-lookback_length:index])\n",
    "#             y.append(column_list[index])\n",
    "#         x = np.array(x)\n",
    "#         y = np.array(y)\n",
    "#         return x, y\n",
    "#     @classmethod\n",
    "#     def xy_train_val_test_split(cls, x, y, test_size=0.2, lookback_length=60):\n",
    "#         x_train, x_val, x_test = cls.train_val_test_split(x, test_size=test_size)\n",
    "#         y_train, y_val, y_test = cls.train_val_test_split(y, test_size=test_size)\n",
    "#         timeseries_dataset_from_array(x=x_train, y=y_train)\n",
    "#         return\n",
    "#     @staticmethod\n",
    "#     def train_test_split(data, test_size=0.2):\n",
    "#         test_length = int(len(data)*test_size)\n",
    "#         train_length = 1 - test_length\n",
    "#         train = data[:train_length]\n",
    "#         test = data[-test_length:]\n",
    "#         return train, test\n",
    "#     @classmethod\n",
    "#     def xy_train_test_split(cls,x, y, test_size=0.2):\n",
    "#         x_train, x_test = cls.train_test_split(x, test_size=test_size)\n",
    "#         y_train, y_test = cls.train_test_split(y, test_size=test_size)\n",
    "#         return x_train, x_test, y_train, y_test\n",
    "#     @staticmethod\n",
    "#     def batch_reshape(np_array):\n",
    "#         reshaped = np_array.reshape(1, *np_array.shape)\n",
    "#         return reshaped"
   ]
  },
  {
   "cell_type": "code",
   "execution_count": 5,
   "id": "moved-neighbor",
   "metadata": {},
   "outputs": [],
   "source": [
    "# class ModelFit:\n",
    "#     def __init__(self):\n",
    "#         pass\n",
    "#     @staticmethod\n",
    "#     def gru_model(nodes=50, dropout=0.0, recurrent_dropout=0.0, learning_rate=0.01, loss='mse', optimizer=Adam, metrics=['mse']):\n",
    "#         model = Sequential()\n",
    "#         model.add(GRU(nodes))\n",
    "#         model.add(Dense(1, activation='linear'))\n",
    "#         model.compile(optimizer=optimizer(learning_rate=learning_rate),\n",
    "#                   loss=loss,\n",
    "#                   metrics=metrics)\n",
    "#         return model\n",
    "#     @classmethod\n",
    "#     def train_model(cls, train_data=None, validation_data=None, model=None):\n",
    "#         early_stop = EarlyStopping(monitor='val_loss', patience=40, restore_best_weights=True)\n",
    "#         model = cls.gru_model()\n",
    "#         history = model.fit(train_data, validation_data=validation_data, callbacks=[early_stop], epochs=300)\n",
    "#         return history, model\n",
    "#     @staticmethod\n",
    "#     def evaluate_model(model,test_data):\n",
    "#         model.evaluate(test_data)"
   ]
  },
  {
   "cell_type": "code",
   "execution_count": 6,
   "id": "fresh-point",
   "metadata": {
    "scrolled": true
   },
   "outputs": [
    {
     "ename": "TypeError",
     "evalue": "object of type 'NoneType' has no len()",
     "output_type": "error",
     "traceback": [
      "\u001b[0;31m---------------------------------------------------------------------------\u001b[0m",
      "\u001b[0;31mTypeError\u001b[0m                                 Traceback (most recent call last)",
      "\u001b[0;32m<ipython-input-6-509b075975b2>\u001b[0m in \u001b[0;36m<module>\u001b[0;34m\u001b[0m\n\u001b[1;32m      4\u001b[0m \u001b[0mbatch_size\u001b[0m\u001b[0;34m=\u001b[0m\u001b[0;36m30\u001b[0m\u001b[0;34m\u001b[0m\u001b[0;34m\u001b[0m\u001b[0m\n\u001b[1;32m      5\u001b[0m \u001b[0;34m\u001b[0m\u001b[0m\n\u001b[0;32m----> 6\u001b[0;31m \u001b[0mtrain_ds\u001b[0m\u001b[0;34m,\u001b[0m \u001b[0mval_ds\u001b[0m\u001b[0;34m,\u001b[0m \u001b[0mtest_ds\u001b[0m \u001b[0;34m=\u001b[0m \u001b[0mKerasPreprocess\u001b[0m\u001b[0;34m.\u001b[0m\u001b[0mkeras_batch_preprocess\u001b[0m\u001b[0;34m(\u001b[0m\u001b[0mstocks_df\u001b[0m\u001b[0;34m,\u001b[0m \u001b[0mcompany_name\u001b[0m\u001b[0;34m,\u001b[0m \u001b[0mmetric\u001b[0m\u001b[0;34m,\u001b[0m \u001b[0mlookback_length\u001b[0m\u001b[0;34m=\u001b[0m\u001b[0mlookback_length\u001b[0m\u001b[0;34m,\u001b[0m \u001b[0mbatch_size\u001b[0m\u001b[0;34m=\u001b[0m\u001b[0mbatch_size\u001b[0m\u001b[0;34m)\u001b[0m\u001b[0;34m\u001b[0m\u001b[0;34m\u001b[0m\u001b[0m\n\u001b[0m\u001b[1;32m      7\u001b[0m \u001b[0;34m\u001b[0m\u001b[0m\n\u001b[1;32m      8\u001b[0m \u001b[0mmf\u001b[0m \u001b[0;34m=\u001b[0m \u001b[0mModelFit\u001b[0m\u001b[0;34m\u001b[0m\u001b[0;34m\u001b[0m\u001b[0m\n",
      "\u001b[0;32m~/swe/finance_ml_analysis/forecasting/end_to_end/keras_stock_preprocessing.py\u001b[0m in \u001b[0;36mkeras_batch_preprocess\u001b[0;34m(cls, stocks_df, company_name, metric, lookback_length, batch_size)\u001b[0m\n\u001b[1;32m      8\u001b[0m         \u001b[0mcolumn_list\u001b[0m \u001b[0;34m=\u001b[0m \u001b[0mcls\u001b[0m\u001b[0;34m.\u001b[0m\u001b[0mget_column_list\u001b[0m\u001b[0;34m(\u001b[0m\u001b[0mstocks_df\u001b[0m\u001b[0;34m,\u001b[0m \u001b[0mcompany_name\u001b[0m\u001b[0;34m,\u001b[0m \u001b[0mmetric\u001b[0m\u001b[0;34m)\u001b[0m\u001b[0;34m\u001b[0m\u001b[0;34m\u001b[0m\u001b[0m\n\u001b[1;32m      9\u001b[0m         \u001b[0mdata\u001b[0m\u001b[0;34m,\u001b[0m \u001b[0mtargets\u001b[0m \u001b[0;34m=\u001b[0m \u001b[0mcls\u001b[0m\u001b[0;34m.\u001b[0m\u001b[0mget_data_targets_split\u001b[0m\u001b[0;34m(\u001b[0m\u001b[0mcolumn_list\u001b[0m\u001b[0;34m,\u001b[0m \u001b[0mlookback_length\u001b[0m\u001b[0;34m=\u001b[0m\u001b[0mlookback_length\u001b[0m\u001b[0;34m)\u001b[0m\u001b[0;34m\u001b[0m\u001b[0;34m\u001b[0m\u001b[0m\n\u001b[0;32m---> 10\u001b[0;31m         \u001b[0mdata_train\u001b[0m\u001b[0;34m,\u001b[0m \u001b[0mdata_val\u001b[0m\u001b[0;34m,\u001b[0m \u001b[0mdata_test\u001b[0m \u001b[0;34m=\u001b[0m \u001b[0mcls\u001b[0m\u001b[0;34m.\u001b[0m\u001b[0mtrain_val_test_split\u001b[0m\u001b[0;34m(\u001b[0m\u001b[0mdata\u001b[0m\u001b[0;34m)\u001b[0m\u001b[0;34m\u001b[0m\u001b[0;34m\u001b[0m\u001b[0m\n\u001b[0m\u001b[1;32m     11\u001b[0m         \u001b[0mtargets_train\u001b[0m\u001b[0;34m,\u001b[0m \u001b[0mtargets_val\u001b[0m\u001b[0;34m,\u001b[0m \u001b[0mtargets_test\u001b[0m \u001b[0;34m=\u001b[0m \u001b[0mcls\u001b[0m\u001b[0;34m.\u001b[0m\u001b[0mtrain_val_test_split\u001b[0m\u001b[0;34m(\u001b[0m\u001b[0mtargets\u001b[0m\u001b[0;34m)\u001b[0m\u001b[0;34m\u001b[0m\u001b[0;34m\u001b[0m\u001b[0m\n\u001b[1;32m     12\u001b[0m         \u001b[0mtrain_ds\u001b[0m \u001b[0;34m=\u001b[0m \u001b[0mtimeseries_dataset_from_array\u001b[0m\u001b[0;34m(\u001b[0m\u001b[0mdata\u001b[0m\u001b[0;34m=\u001b[0m\u001b[0mdata_train\u001b[0m\u001b[0;34m,\u001b[0m \u001b[0mtargets\u001b[0m\u001b[0;34m=\u001b[0m\u001b[0mtargets_train\u001b[0m\u001b[0;34m,\u001b[0m \u001b[0msequence_length\u001b[0m\u001b[0;34m=\u001b[0m\u001b[0mlookback_length\u001b[0m\u001b[0;34m,\u001b[0m \u001b[0mbatch_size\u001b[0m\u001b[0;34m=\u001b[0m\u001b[0mbatch_size\u001b[0m\u001b[0;34m)\u001b[0m\u001b[0;34m\u001b[0m\u001b[0;34m\u001b[0m\u001b[0m\n",
      "\u001b[0;32m~/swe/finance_ml_analysis/forecasting/end_to_end/keras_stock_preprocessing.py\u001b[0m in \u001b[0;36mtrain_val_test_split\u001b[0;34m(data, test_size)\u001b[0m\n\u001b[1;32m     29\u001b[0m     \u001b[0;34m@\u001b[0m\u001b[0mstaticmethod\u001b[0m\u001b[0;34m\u001b[0m\u001b[0;34m\u001b[0m\u001b[0m\n\u001b[1;32m     30\u001b[0m     \u001b[0;32mdef\u001b[0m \u001b[0mtrain_val_test_split\u001b[0m\u001b[0;34m(\u001b[0m\u001b[0mdata\u001b[0m\u001b[0;34m,\u001b[0m \u001b[0mtest_size\u001b[0m\u001b[0;34m=\u001b[0m\u001b[0;36m0.2\u001b[0m\u001b[0;34m)\u001b[0m\u001b[0;34m:\u001b[0m\u001b[0;34m\u001b[0m\u001b[0;34m\u001b[0m\u001b[0m\n\u001b[0;32m---> 31\u001b[0;31m         \u001b[0mtest_length\u001b[0m \u001b[0;34m=\u001b[0m \u001b[0mint\u001b[0m\u001b[0;34m(\u001b[0m\u001b[0mlen\u001b[0m\u001b[0;34m(\u001b[0m\u001b[0mdata\u001b[0m\u001b[0;34m)\u001b[0m\u001b[0;34m*\u001b[0m\u001b[0mtest_size\u001b[0m\u001b[0;34m)\u001b[0m\u001b[0;34m\u001b[0m\u001b[0;34m\u001b[0m\u001b[0m\n\u001b[0m\u001b[1;32m     32\u001b[0m         \u001b[0mtrain_length\u001b[0m \u001b[0;34m=\u001b[0m \u001b[0;36m1\u001b[0m \u001b[0;34m-\u001b[0m \u001b[0;36m2\u001b[0m\u001b[0;34m*\u001b[0m\u001b[0mtest_length\u001b[0m\u001b[0;34m\u001b[0m\u001b[0;34m\u001b[0m\u001b[0m\n\u001b[1;32m     33\u001b[0m         \u001b[0mtrain\u001b[0m \u001b[0;34m=\u001b[0m \u001b[0mdata\u001b[0m\u001b[0;34m[\u001b[0m\u001b[0;34m:\u001b[0m\u001b[0mtrain_length\u001b[0m\u001b[0;34m]\u001b[0m\u001b[0;34m\u001b[0m\u001b[0;34m\u001b[0m\u001b[0m\n",
      "\u001b[0;31mTypeError\u001b[0m: object of type 'NoneType' has no len()"
     ]
    }
   ],
   "source": [
    "metric = 'Adj Close'\n",
    "company_name = 'GSIT'\n",
    "lookback_length=40\n",
    "batch_size=30\n",
    "\n",
    "train_ds, val_ds, test_ds = KerasPreprocess.keras_batch_preprocess(stocks_df, company_name, metric, lookback_length=lookback_length, batch_size=batch_size)\n",
    "\n",
    "mf = ModelFit\n",
    "model=mf.gru_model()\n",
    "history, model = mf.train_model(train_data=train_ds, validation_data=val_ds, model=model)\n",
    "\n",
    "test_error = mf.evaluate_model(model, test_ds)\n",
    "\n",
    "train_error = pd.DataFrame(history.history)\n",
    "display(train_error)"
   ]
  },
  {
   "cell_type": "code",
   "execution_count": 16,
   "id": "reserved-monster",
   "metadata": {},
   "outputs": [
    {
     "data": {
      "image/png": "[encoded data removed]",
      "text/plain": [
       "<IPython.core.display.Image object>"
      ]
     },
     "execution_count": 16,
     "metadata": {},
     "output_type": "execute_result"
    }
   ],
   "source": [
    "plot_model(model, expand_nested=True)"
   ]
  },
  {
   "cell_type": "code",
   "execution_count": null,
   "id": "hired-offer",
   "metadata": {},
   "outputs": [],
   "source": []
  }
 ],
 "metadata": {
  "kernelspec": {
   "display_name": "Python 3",
   "language": "python",
   "name": "python3"
  },
  "language_info": {
   "codemirror_mode": {
    "name": "ipython",
    "version": 3
   },
   "file_extension": ".py",
   "mimetype": "text/x-python",
   "name": "python",
   "nbconvert_exporter": "python",
   "pygments_lexer": "ipython3",
   "version": "3.8.5"
  }
 },
 "nbformat": 4,
 "nbformat_minor": 5
}
