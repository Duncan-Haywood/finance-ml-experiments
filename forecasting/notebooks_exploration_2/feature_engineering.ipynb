{
 "cells": [
  {
   "cell_type": "code",
   "execution_count": 2,
   "id": "alpha-football",
   "metadata": {},
   "outputs": [],
   "source": [
    "import numpy as np\n",
    "import pandas as pd\n",
    "import pandas_datareader\n",
    "import yaml\n",
    "import datetime\n",
    "import math\n",
    "from itertools import chain\n",
    "from time import sleep\n",
    "# !pwd\n",
    "with open('../../alpha_key.yml', 'r') as f:\n",
    "    ALPHA_API_KEY = yaml.safe_load(f)['alpha_api_key']"
   ]
  },
  {
   "cell_type": "code",
   "execution_count": 85,
   "id": "victorian-perspective",
   "metadata": {
    "scrolled": true
   },
   "outputs": [],
   "source": [
    "tickers = ['ARW','OBNK','UEIC','FERG']\n",
    "tickers += ['SPUC','CPRI','PDEX','TSOC','KR']\n",
    "tickers += ['CNO','CXW', 'NVDA','AAPL']\n",
    "tickers += ['AMZN','TSLA','ADXS','ALVR']\n",
    "tickers += ['INTC','NFLX','GOOG','BABA','CRM']\n",
    "tickers += ['CSCO','GSX','AMD','YELP']\n",
    "def format_dates(daily_stocks_data):\n",
    "    df = daily_stocks_data.copy() \n",
    "    df['date']=df.index\n",
    "    df.reset_index(inplace=True, drop=True)\n",
    "    return df\n",
    "def concat_stocks(dfs, keys):\n",
    "    cat_df = pd.concat(dfs, axis='columns', keys=keys)\n",
    "    return cat_df\n",
    "def add_percent_change(df, metric):\n",
    "    percents = df[metric].pct_change()\n",
    "    df[f'{metric}_percent_change']=percents\n",
    "    return df\n",
    "def add_percent_changes(df, metrics=None):\n",
    "    if metrics is not None:\n",
    "        for metric in metrics:\n",
    "            df = add_percent_change(df,metric)\n",
    "    else:\n",
    "        for metric in df.columns:\n",
    "            df = add_percent_change(df,metric)\n",
    "    return df\n",
    "def add_weekly_cat(df):\n",
    "    day_cos, day_sin = list(), list()\n",
    "    for date in df.index:\n",
    "        day = datetime.datetime.strptime(date, '%Y-%m-%d').weekday()\n",
    "        radians = 2*math.pi*day/6\n",
    "        day_cos.append(math.cos(radians))\n",
    "        day_sin.append(math.sin(radians))\n",
    "    df['week_cos'] = day_cos\n",
    "    df['week_sin'] = day_sin\n",
    "    return df\n",
    "def add_yearly_cat(df):\n",
    "    day_cos, day_sin = list(), list()\n",
    "    for date in df.index:\n",
    "        day = datetime.datetime.strptime(date, '%Y-%m-%d').timetuple().tm_yday\n",
    "        radians = 2*math.pi*day/365\n",
    "        day_cos.append(math.cos(radians))\n",
    "        day_sin.append(math.sin(radians))\n",
    "    df['year_cos'] = day_cos\n",
    "    df['year_sin'] = day_sin\n",
    "    return df\n",
    "def add_stats(df, lengths, metrics=None):\n",
    "    if metrics is not None:\n",
    "        for metric in metrics:\n",
    "            df = add_metric_stats(df, lengths, metric)\n",
    "    else:\n",
    "        for metric in [m for m in df.columns]:\n",
    "            df = add_metric_stats(df, lengths, metric)\n",
    "    return df\n",
    "def add_metric_stats(df, lengths, metric):\n",
    "    for length in lengths:\n",
    "        win = df[metric].rolling(length, min_periods=1)\n",
    "        df[f'{metric}_{length}_mean'] = win.mean()\n",
    "        df[f'{metric}_{length}_median'] = win.median()\n",
    "        df[f'{metric}_{length}_std'] = win.std()\n",
    "        df[f'{metric}_{length}_skew'] = win.skew()\n",
    "        df[f'{metric}_{length}_quantile_5'] = win.quantile(0.05)\n",
    "        df[f'{metric}_{length}_quantile_95'] = win.quantile(0.95)\n",
    "        df[f'{metric}_{length}_quantile_10'] = win.quantile(0.10)\n",
    "        df[f'{metric}_{length}_quantile_90'] = win.quantile(0.90)\n",
    "        df[f'{metric}_{length}_high'] = win.max()\n",
    "        df[f'{metric}_{length}_low'] = win.min()\n",
    "        df[f'{metric}_{length}_spread'] = df[f'{metric}_{length}_high'].subtract(df[f'{metric}_{length}_low'])\n",
    "    return df\n",
    "\n",
    "def data_stats_to_file(tickers):\n",
    "    daily_stocks_data_raw_list = read_data_from_file(tickers)\n",
    "    i=0\n",
    "    for df in daily_stocks_data_raw_list:\n",
    "        ticker = tickers[i]\n",
    "        i+=1\n",
    "        try:\n",
    "            pd.read_pickle(f'./{ticker}_daily_stats.pkl')\n",
    "        except:\n",
    "            df.pipe(add_stats, lengths=[10,50,91,182,274,365], metrics=['open','close','high','low','volume']).pipe(add_percent_changes).pipe(add_weekly_cat).pipe(add_yearly_cat).to_pickle(f'./{ticker}_daily_stats.pkl')\n",
    "        display(f'{ticker} done')\n",
    "def combine_to_file(tickers):   \n",
    "    daily_stocks_data_list = [pd.from_pickle(f'./{ticker}_daily_stats.pkl') for ticker in tickers]\n",
    "    daily_stocks_data = pd.concat(daily_stocks_data_list, axis='columns', keys=tickers)\n",
    "    daily_stocks_data.to_pickle(f'./{tickers}_daily.pkl')\n",
    "\n",
    "def read_data(tickers):\n",
    "    daily_stocks_data_raw_list = []\n",
    "    for i in range(5,len(tickers),5):\n",
    "        daily_stocks_data_raw_list += [pandas_datareader.av.time_series.AVTimeSeriesReader(symbols=ticker, api_key=ALPHA_API_KEY, function='TIME_SERIES_DAILY').read() for ticker in tickers[i-5:i]]\n",
    "        sleep(61)\n",
    "    daily_stocks_data_raw_list += [pandas_datareader.av.time_series.AVTimeSeriesReader(symbols=ticker, api_key=ALPHA_API_KEY, function='TIME_SERIES_DAILY').read() for ticker in tickers[-len(tickers)%5:len(tickers)]]\n",
    "    return daily_stocks_data_raw_list\n",
    "def read_data_to_file(tickers):\n",
    "    i = 1\n",
    "    for ticker in tickers:      \n",
    "        try:\n",
    "            pd.read_pickle(f'./{ticker}_daily_raw.pkl')\n",
    "        except:\n",
    "            df = pandas_datareader.av.time_series.AVTimeSeriesReader(symbols=ticker, api_key=ALPHA_API_KEY, function='TIME_SERIES_DAILY').read()\n",
    "            df.to_pickle(f'./{ticker}_daily_raw.pkl')\n",
    "            i+=1\n",
    "            if (i)%5==0:\n",
    "                sleep(61)\n",
    "        display(f'{ticker} done')  \n",
    "def get_sec_id(ticker):\n",
    "    pass\n",
    "def get_stock_extra_metrics(ticker, sec_id):\n",
    "    pd.read_csv(f'../../archive/{sec_id}-quarterly.csv')"
   ]
  },
  {
   "cell_type": "code",
   "execution_count": 35,
   "id": "former-bench",
   "metadata": {},
   "outputs": [
    {
     "data": {
      "text/html": [
       "<div>\n",
       "<style scoped>\n",
       "    .dataframe tbody tr th:only-of-type {\n",
       "        vertical-align: middle;\n",
       "    }\n",
       "\n",
       "    .dataframe tbody tr th {\n",
       "        vertical-align: top;\n",
       "    }\n",
       "\n",
       "    .dataframe thead th {\n",
       "        text-align: right;\n",
       "    }\n",
       "</style>\n",
       "<table border=\"1\" class=\"dataframe\">\n",
       "  <thead>\n",
       "    <tr style=\"text-align: right;\">\n",
       "      <th></th>\n",
       "      <th>open</th>\n",
       "      <th>high</th>\n",
       "      <th>low</th>\n",
       "      <th>close</th>\n",
       "      <th>volume</th>\n",
       "      <th>AmortizationOfIntangibleAssets</th>\n",
       "      <th>AntidilutiveSecuritiesExcludedFromComputationOfEarningsPerShareAmount</th>\n",
       "      <th>CashAndCashEquivalentsPeriodIncreaseDecrease</th>\n",
       "      <th>CommonStockDividendsPerShareDeclared</th>\n",
       "      <th>ComprehensiveIncomeNetOfTax</th>\n",
       "      <th>...</th>\n",
       "      <th>SellingGeneralAndAdministrativeExpense</th>\n",
       "      <th>ShareBasedCompensation</th>\n",
       "      <th>ShareBasedCompensationArrangementByShareBasedPaymentAwardOptionsExercisableWeightedAverageRemainingContractualTerm</th>\n",
       "      <th>TaxAdjustmentsSettlementsAndUnusualProvisions</th>\n",
       "      <th>TranslationAdjustmentForNetInvestmentHedgeIncreaseDecreaseNetOfTax</th>\n",
       "      <th>UnrecognizedTaxBenefitsDecreasesResultingFromPriorPeriodTaxPositions</th>\n",
       "      <th>UnrecognizedTaxBenefitsIncreasesResultingFromPriorPeriodTaxPositions</th>\n",
       "      <th>UnrecognizedTaxBenefitsPeriodIncreaseDecrease</th>\n",
       "      <th>WeightedAverageNumberOfDilutedSharesOutstanding</th>\n",
       "      <th>WeightedAverageNumberOfSharesOutstandingBasic</th>\n",
       "    </tr>\n",
       "  </thead>\n",
       "  <tbody>\n",
       "    <tr>\n",
       "      <th>2001-04-03</th>\n",
       "      <td>21.36</td>\n",
       "      <td>21.40</td>\n",
       "      <td>20.130</td>\n",
       "      <td>20.24</td>\n",
       "      <td>6583700.0</td>\n",
       "      <td>NaN</td>\n",
       "      <td>NaN</td>\n",
       "      <td>NaN</td>\n",
       "      <td>NaN</td>\n",
       "      <td>NaN</td>\n",
       "      <td>...</td>\n",
       "      <td>NaN</td>\n",
       "      <td>NaN</td>\n",
       "      <td>NaN</td>\n",
       "      <td>NaN</td>\n",
       "      <td>NaN</td>\n",
       "      <td>NaN</td>\n",
       "      <td>NaN</td>\n",
       "      <td>NaN</td>\n",
       "      <td>NaN</td>\n",
       "      <td>NaN</td>\n",
       "    </tr>\n",
       "    <tr>\n",
       "      <th>2001-04-04</th>\n",
       "      <td>19.76</td>\n",
       "      <td>20.25</td>\n",
       "      <td>18.750</td>\n",
       "      <td>19.50</td>\n",
       "      <td>12240800.0</td>\n",
       "      <td>NaN</td>\n",
       "      <td>NaN</td>\n",
       "      <td>NaN</td>\n",
       "      <td>NaN</td>\n",
       "      <td>NaN</td>\n",
       "      <td>...</td>\n",
       "      <td>NaN</td>\n",
       "      <td>NaN</td>\n",
       "      <td>NaN</td>\n",
       "      <td>NaN</td>\n",
       "      <td>NaN</td>\n",
       "      <td>NaN</td>\n",
       "      <td>NaN</td>\n",
       "      <td>NaN</td>\n",
       "      <td>NaN</td>\n",
       "      <td>NaN</td>\n",
       "    </tr>\n",
       "    <tr>\n",
       "      <th>2001-04-05</th>\n",
       "      <td>20.60</td>\n",
       "      <td>22.50</td>\n",
       "      <td>20.000</td>\n",
       "      <td>20.87</td>\n",
       "      <td>7977900.0</td>\n",
       "      <td>NaN</td>\n",
       "      <td>NaN</td>\n",
       "      <td>NaN</td>\n",
       "      <td>NaN</td>\n",
       "      <td>NaN</td>\n",
       "      <td>...</td>\n",
       "      <td>NaN</td>\n",
       "      <td>NaN</td>\n",
       "      <td>NaN</td>\n",
       "      <td>NaN</td>\n",
       "      <td>NaN</td>\n",
       "      <td>NaN</td>\n",
       "      <td>NaN</td>\n",
       "      <td>NaN</td>\n",
       "      <td>NaN</td>\n",
       "      <td>NaN</td>\n",
       "    </tr>\n",
       "    <tr>\n",
       "      <th>2001-04-06</th>\n",
       "      <td>20.80</td>\n",
       "      <td>21.04</td>\n",
       "      <td>19.900</td>\n",
       "      <td>20.59</td>\n",
       "      <td>5801600.0</td>\n",
       "      <td>NaN</td>\n",
       "      <td>NaN</td>\n",
       "      <td>NaN</td>\n",
       "      <td>NaN</td>\n",
       "      <td>NaN</td>\n",
       "      <td>...</td>\n",
       "      <td>NaN</td>\n",
       "      <td>NaN</td>\n",
       "      <td>NaN</td>\n",
       "      <td>NaN</td>\n",
       "      <td>NaN</td>\n",
       "      <td>NaN</td>\n",
       "      <td>NaN</td>\n",
       "      <td>NaN</td>\n",
       "      <td>NaN</td>\n",
       "      <td>NaN</td>\n",
       "    </tr>\n",
       "    <tr>\n",
       "      <th>2001-04-09</th>\n",
       "      <td>20.69</td>\n",
       "      <td>21.34</td>\n",
       "      <td>20.060</td>\n",
       "      <td>20.54</td>\n",
       "      <td>4760400.0</td>\n",
       "      <td>NaN</td>\n",
       "      <td>NaN</td>\n",
       "      <td>NaN</td>\n",
       "      <td>NaN</td>\n",
       "      <td>NaN</td>\n",
       "      <td>...</td>\n",
       "      <td>NaN</td>\n",
       "      <td>NaN</td>\n",
       "      <td>NaN</td>\n",
       "      <td>NaN</td>\n",
       "      <td>NaN</td>\n",
       "      <td>NaN</td>\n",
       "      <td>NaN</td>\n",
       "      <td>NaN</td>\n",
       "      <td>NaN</td>\n",
       "      <td>NaN</td>\n",
       "    </tr>\n",
       "    <tr>\n",
       "      <th>...</th>\n",
       "      <td>...</td>\n",
       "      <td>...</td>\n",
       "      <td>...</td>\n",
       "      <td>...</td>\n",
       "      <td>...</td>\n",
       "      <td>...</td>\n",
       "      <td>...</td>\n",
       "      <td>...</td>\n",
       "      <td>...</td>\n",
       "      <td>...</td>\n",
       "      <td>...</td>\n",
       "      <td>...</td>\n",
       "      <td>...</td>\n",
       "      <td>...</td>\n",
       "      <td>...</td>\n",
       "      <td>...</td>\n",
       "      <td>...</td>\n",
       "      <td>...</td>\n",
       "      <td>...</td>\n",
       "      <td>...</td>\n",
       "      <td>...</td>\n",
       "    </tr>\n",
       "    <tr>\n",
       "      <th>2021-03-22</th>\n",
       "      <td>120.33</td>\n",
       "      <td>123.87</td>\n",
       "      <td>120.260</td>\n",
       "      <td>123.39</td>\n",
       "      <td>111912284.0</td>\n",
       "      <td>NaN</td>\n",
       "      <td>NaN</td>\n",
       "      <td>NaN</td>\n",
       "      <td>NaN</td>\n",
       "      <td>NaN</td>\n",
       "      <td>...</td>\n",
       "      <td>NaN</td>\n",
       "      <td>NaN</td>\n",
       "      <td>NaN</td>\n",
       "      <td>NaN</td>\n",
       "      <td>NaN</td>\n",
       "      <td>NaN</td>\n",
       "      <td>NaN</td>\n",
       "      <td>NaN</td>\n",
       "      <td>NaN</td>\n",
       "      <td>NaN</td>\n",
       "    </tr>\n",
       "    <tr>\n",
       "      <th>2021-03-23</th>\n",
       "      <td>123.33</td>\n",
       "      <td>124.24</td>\n",
       "      <td>122.140</td>\n",
       "      <td>122.54</td>\n",
       "      <td>95467142.0</td>\n",
       "      <td>NaN</td>\n",
       "      <td>NaN</td>\n",
       "      <td>NaN</td>\n",
       "      <td>NaN</td>\n",
       "      <td>NaN</td>\n",
       "      <td>...</td>\n",
       "      <td>NaN</td>\n",
       "      <td>NaN</td>\n",
       "      <td>NaN</td>\n",
       "      <td>NaN</td>\n",
       "      <td>NaN</td>\n",
       "      <td>NaN</td>\n",
       "      <td>NaN</td>\n",
       "      <td>NaN</td>\n",
       "      <td>NaN</td>\n",
       "      <td>NaN</td>\n",
       "    </tr>\n",
       "    <tr>\n",
       "      <th>2021-03-24</th>\n",
       "      <td>122.82</td>\n",
       "      <td>122.90</td>\n",
       "      <td>120.065</td>\n",
       "      <td>120.09</td>\n",
       "      <td>88530485.0</td>\n",
       "      <td>NaN</td>\n",
       "      <td>NaN</td>\n",
       "      <td>NaN</td>\n",
       "      <td>NaN</td>\n",
       "      <td>NaN</td>\n",
       "      <td>...</td>\n",
       "      <td>NaN</td>\n",
       "      <td>NaN</td>\n",
       "      <td>NaN</td>\n",
       "      <td>NaN</td>\n",
       "      <td>NaN</td>\n",
       "      <td>NaN</td>\n",
       "      <td>NaN</td>\n",
       "      <td>NaN</td>\n",
       "      <td>NaN</td>\n",
       "      <td>NaN</td>\n",
       "    </tr>\n",
       "    <tr>\n",
       "      <th>2021-03-25</th>\n",
       "      <td>119.54</td>\n",
       "      <td>121.66</td>\n",
       "      <td>119.000</td>\n",
       "      <td>120.59</td>\n",
       "      <td>98844681.0</td>\n",
       "      <td>NaN</td>\n",
       "      <td>NaN</td>\n",
       "      <td>NaN</td>\n",
       "      <td>NaN</td>\n",
       "      <td>NaN</td>\n",
       "      <td>...</td>\n",
       "      <td>NaN</td>\n",
       "      <td>NaN</td>\n",
       "      <td>NaN</td>\n",
       "      <td>NaN</td>\n",
       "      <td>NaN</td>\n",
       "      <td>NaN</td>\n",
       "      <td>NaN</td>\n",
       "      <td>NaN</td>\n",
       "      <td>NaN</td>\n",
       "      <td>NaN</td>\n",
       "    </tr>\n",
       "    <tr>\n",
       "      <th>2021-03-26</th>\n",
       "      <td>120.35</td>\n",
       "      <td>121.48</td>\n",
       "      <td>118.920</td>\n",
       "      <td>121.21</td>\n",
       "      <td>94071234.0</td>\n",
       "      <td>NaN</td>\n",
       "      <td>NaN</td>\n",
       "      <td>NaN</td>\n",
       "      <td>NaN</td>\n",
       "      <td>NaN</td>\n",
       "      <td>...</td>\n",
       "      <td>NaN</td>\n",
       "      <td>NaN</td>\n",
       "      <td>NaN</td>\n",
       "      <td>NaN</td>\n",
       "      <td>NaN</td>\n",
       "      <td>NaN</td>\n",
       "      <td>NaN</td>\n",
       "      <td>NaN</td>\n",
       "      <td>NaN</td>\n",
       "      <td>NaN</td>\n",
       "    </tr>\n",
       "  </tbody>\n",
       "</table>\n",
       "<p>5034 rows × 130 columns</p>\n",
       "</div>"
      ],
      "text/plain": [
       "              open    high      low   close       volume  \\\n",
       "2001-04-03   21.36   21.40   20.130   20.24    6583700.0   \n",
       "2001-04-04   19.76   20.25   18.750   19.50   12240800.0   \n",
       "2001-04-05   20.60   22.50   20.000   20.87    7977900.0   \n",
       "2001-04-06   20.80   21.04   19.900   20.59    5801600.0   \n",
       "2001-04-09   20.69   21.34   20.060   20.54    4760400.0   \n",
       "...            ...     ...      ...     ...          ...   \n",
       "2021-03-22  120.33  123.87  120.260  123.39  111912284.0   \n",
       "2021-03-23  123.33  124.24  122.140  122.54   95467142.0   \n",
       "2021-03-24  122.82  122.90  120.065  120.09   88530485.0   \n",
       "2021-03-25  119.54  121.66  119.000  120.59   98844681.0   \n",
       "2021-03-26  120.35  121.48  118.920  121.21   94071234.0   \n",
       "\n",
       "           AmortizationOfIntangibleAssets  \\\n",
       "2001-04-03                            NaN   \n",
       "2001-04-04                            NaN   \n",
       "2001-04-05                            NaN   \n",
       "2001-04-06                            NaN   \n",
       "2001-04-09                            NaN   \n",
       "...                                   ...   \n",
       "2021-03-22                            NaN   \n",
       "2021-03-23                            NaN   \n",
       "2021-03-24                            NaN   \n",
       "2021-03-25                            NaN   \n",
       "2021-03-26                            NaN   \n",
       "\n",
       "           AntidilutiveSecuritiesExcludedFromComputationOfEarningsPerShareAmount  \\\n",
       "2001-04-03                                                NaN                      \n",
       "2001-04-04                                                NaN                      \n",
       "2001-04-05                                                NaN                      \n",
       "2001-04-06                                                NaN                      \n",
       "2001-04-09                                                NaN                      \n",
       "...                                                       ...                      \n",
       "2021-03-22                                                NaN                      \n",
       "2021-03-23                                                NaN                      \n",
       "2021-03-24                                                NaN                      \n",
       "2021-03-25                                                NaN                      \n",
       "2021-03-26                                                NaN                      \n",
       "\n",
       "           CashAndCashEquivalentsPeriodIncreaseDecrease  \\\n",
       "2001-04-03                                          NaN   \n",
       "2001-04-04                                          NaN   \n",
       "2001-04-05                                          NaN   \n",
       "2001-04-06                                          NaN   \n",
       "2001-04-09                                          NaN   \n",
       "...                                                 ...   \n",
       "2021-03-22                                          NaN   \n",
       "2021-03-23                                          NaN   \n",
       "2021-03-24                                          NaN   \n",
       "2021-03-25                                          NaN   \n",
       "2021-03-26                                          NaN   \n",
       "\n",
       "           CommonStockDividendsPerShareDeclared ComprehensiveIncomeNetOfTax  \\\n",
       "2001-04-03                                  NaN                         NaN   \n",
       "2001-04-04                                  NaN                         NaN   \n",
       "2001-04-05                                  NaN                         NaN   \n",
       "2001-04-06                                  NaN                         NaN   \n",
       "2001-04-09                                  NaN                         NaN   \n",
       "...                                         ...                         ...   \n",
       "2021-03-22                                  NaN                         NaN   \n",
       "2021-03-23                                  NaN                         NaN   \n",
       "2021-03-24                                  NaN                         NaN   \n",
       "2021-03-25                                  NaN                         NaN   \n",
       "2021-03-26                                  NaN                         NaN   \n",
       "\n",
       "            ... SellingGeneralAndAdministrativeExpense ShareBasedCompensation  \\\n",
       "2001-04-03  ...                                    NaN                    NaN   \n",
       "2001-04-04  ...                                    NaN                    NaN   \n",
       "2001-04-05  ...                                    NaN                    NaN   \n",
       "2001-04-06  ...                                    NaN                    NaN   \n",
       "2001-04-09  ...                                    NaN                    NaN   \n",
       "...         ...                                    ...                    ...   \n",
       "2021-03-22  ...                                    NaN                    NaN   \n",
       "2021-03-23  ...                                    NaN                    NaN   \n",
       "2021-03-24  ...                                    NaN                    NaN   \n",
       "2021-03-25  ...                                    NaN                    NaN   \n",
       "2021-03-26  ...                                    NaN                    NaN   \n",
       "\n",
       "           ShareBasedCompensationArrangementByShareBasedPaymentAwardOptionsExercisableWeightedAverageRemainingContractualTerm  \\\n",
       "2001-04-03                                                NaN                                                                   \n",
       "2001-04-04                                                NaN                                                                   \n",
       "2001-04-05                                                NaN                                                                   \n",
       "2001-04-06                                                NaN                                                                   \n",
       "2001-04-09                                                NaN                                                                   \n",
       "...                                                       ...                                                                   \n",
       "2021-03-22                                                NaN                                                                   \n",
       "2021-03-23                                                NaN                                                                   \n",
       "2021-03-24                                                NaN                                                                   \n",
       "2021-03-25                                                NaN                                                                   \n",
       "2021-03-26                                                NaN                                                                   \n",
       "\n",
       "           TaxAdjustmentsSettlementsAndUnusualProvisions  \\\n",
       "2001-04-03                                           NaN   \n",
       "2001-04-04                                           NaN   \n",
       "2001-04-05                                           NaN   \n",
       "2001-04-06                                           NaN   \n",
       "2001-04-09                                           NaN   \n",
       "...                                                  ...   \n",
       "2021-03-22                                           NaN   \n",
       "2021-03-23                                           NaN   \n",
       "2021-03-24                                           NaN   \n",
       "2021-03-25                                           NaN   \n",
       "2021-03-26                                           NaN   \n",
       "\n",
       "           TranslationAdjustmentForNetInvestmentHedgeIncreaseDecreaseNetOfTax  \\\n",
       "2001-04-03                                                NaN                   \n",
       "2001-04-04                                                NaN                   \n",
       "2001-04-05                                                NaN                   \n",
       "2001-04-06                                                NaN                   \n",
       "2001-04-09                                                NaN                   \n",
       "...                                                       ...                   \n",
       "2021-03-22                                                NaN                   \n",
       "2021-03-23                                                NaN                   \n",
       "2021-03-24                                                NaN                   \n",
       "2021-03-25                                                NaN                   \n",
       "2021-03-26                                                NaN                   \n",
       "\n",
       "           UnrecognizedTaxBenefitsDecreasesResultingFromPriorPeriodTaxPositions  \\\n",
       "2001-04-03                                                NaN                     \n",
       "2001-04-04                                                NaN                     \n",
       "2001-04-05                                                NaN                     \n",
       "2001-04-06                                                NaN                     \n",
       "2001-04-09                                                NaN                     \n",
       "...                                                       ...                     \n",
       "2021-03-22                                                NaN                     \n",
       "2021-03-23                                                NaN                     \n",
       "2021-03-24                                                NaN                     \n",
       "2021-03-25                                                NaN                     \n",
       "2021-03-26                                                NaN                     \n",
       "\n",
       "           UnrecognizedTaxBenefitsIncreasesResultingFromPriorPeriodTaxPositions  \\\n",
       "2001-04-03                                                NaN                     \n",
       "2001-04-04                                                NaN                     \n",
       "2001-04-05                                                NaN                     \n",
       "2001-04-06                                                NaN                     \n",
       "2001-04-09                                                NaN                     \n",
       "...                                                       ...                     \n",
       "2021-03-22                                                NaN                     \n",
       "2021-03-23                                                NaN                     \n",
       "2021-03-24                                                NaN                     \n",
       "2021-03-25                                                NaN                     \n",
       "2021-03-26                                                NaN                     \n",
       "\n",
       "           UnrecognizedTaxBenefitsPeriodIncreaseDecrease  \\\n",
       "2001-04-03                                           NaN   \n",
       "2001-04-04                                           NaN   \n",
       "2001-04-05                                           NaN   \n",
       "2001-04-06                                           NaN   \n",
       "2001-04-09                                           NaN   \n",
       "...                                                  ...   \n",
       "2021-03-22                                           NaN   \n",
       "2021-03-23                                           NaN   \n",
       "2021-03-24                                           NaN   \n",
       "2021-03-25                                           NaN   \n",
       "2021-03-26                                           NaN   \n",
       "\n",
       "           WeightedAverageNumberOfDilutedSharesOutstanding  \\\n",
       "2001-04-03                                             NaN   \n",
       "2001-04-04                                             NaN   \n",
       "2001-04-05                                             NaN   \n",
       "2001-04-06                                             NaN   \n",
       "2001-04-09                                             NaN   \n",
       "...                                                    ...   \n",
       "2021-03-22                                             NaN   \n",
       "2021-03-23                                             NaN   \n",
       "2021-03-24                                             NaN   \n",
       "2021-03-25                                             NaN   \n",
       "2021-03-26                                             NaN   \n",
       "\n",
       "           WeightedAverageNumberOfSharesOutstandingBasic  \n",
       "2001-04-03                                           NaN  \n",
       "2001-04-04                                           NaN  \n",
       "2001-04-05                                           NaN  \n",
       "2001-04-06                                           NaN  \n",
       "2001-04-09                                           NaN  \n",
       "...                                                  ...  \n",
       "2021-03-22                                           NaN  \n",
       "2021-03-23                                           NaN  \n",
       "2021-03-24                                           NaN  \n",
       "2021-03-25                                           NaN  \n",
       "2021-03-26                                           NaN  \n",
       "\n",
       "[5034 rows x 130 columns]"
      ]
     },
     "metadata": {},
     "output_type": "display_data"
    }
   ],
   "source": [
    "## test for concatenating new data. to be filled still. \n",
    "sec_id=1800\n",
    "tickers=['AAPL']\n",
    "info = pd.read_csv(f'../../archive/companies/{sec_id}-quarterly.csv') \n",
    "## to manipulate unnamed as columns and dates as index\n",
    "market = pd.read_pickle(f'./{tickers[0]}_daily_raw.pkl')\n",
    "# display(market)\n",
    "info = info.transpose()\n",
    "info.columns = info.reset_index().iloc[0,1:]\n",
    "info.drop(index='Unnamed: 0', inplace=True)\n",
    "# display(info)\n",
    "augmented = pd.concat([market,info], axis='columns', join = 'outer', sort=True)\n",
    "display(augmented)\n"
   ]
  },
  {
   "cell_type": "code",
   "execution_count": 86,
   "id": "restricted-cassette",
   "metadata": {},
   "outputs": [
    {
     "data": {
      "text/plain": [
       "'ARW done'"
      ]
     },
     "metadata": {},
     "output_type": "display_data"
    },
    {
     "data": {
      "text/plain": [
       "'OBNK done'"
      ]
     },
     "metadata": {},
     "output_type": "display_data"
    },
    {
     "data": {
      "text/plain": [
       "'UEIC done'"
      ]
     },
     "metadata": {},
     "output_type": "display_data"
    },
    {
     "data": {
      "text/plain": [
       "'FERG done'"
      ]
     },
     "metadata": {},
     "output_type": "display_data"
    },
    {
     "data": {
      "text/plain": [
       "'SPUC done'"
      ]
     },
     "metadata": {},
     "output_type": "display_data"
    },
    {
     "data": {
      "text/plain": [
       "'CPRI done'"
      ]
     },
     "metadata": {},
     "output_type": "display_data"
    },
    {
     "data": {
      "text/plain": [
       "'PDEX done'"
      ]
     },
     "metadata": {},
     "output_type": "display_data"
    },
    {
     "data": {
      "text/plain": [
       "'TSOC done'"
      ]
     },
     "metadata": {},
     "output_type": "display_data"
    },
    {
     "data": {
      "text/plain": [
       "'KR done'"
      ]
     },
     "metadata": {},
     "output_type": "display_data"
    },
    {
     "data": {
      "text/plain": [
       "'CNO done'"
      ]
     },
     "metadata": {},
     "output_type": "display_data"
    },
    {
     "data": {
      "text/plain": [
       "'CXW done'"
      ]
     },
     "metadata": {},
     "output_type": "display_data"
    },
    {
     "data": {
      "text/plain": [
       "'NVDA done'"
      ]
     },
     "metadata": {},
     "output_type": "display_data"
    },
    {
     "data": {
      "text/plain": [
       "'AAPL done'"
      ]
     },
     "metadata": {},
     "output_type": "display_data"
    },
    {
     "data": {
      "text/plain": [
       "'AMZN done'"
      ]
     },
     "metadata": {},
     "output_type": "display_data"
    },
    {
     "data": {
      "text/plain": [
       "'TSLA done'"
      ]
     },
     "metadata": {},
     "output_type": "display_data"
    },
    {
     "data": {
      "text/plain": [
       "'ADXS done'"
      ]
     },
     "metadata": {},
     "output_type": "display_data"
    },
    {
     "data": {
      "text/plain": [
       "'ALVR done'"
      ]
     },
     "metadata": {},
     "output_type": "display_data"
    },
    {
     "data": {
      "text/plain": [
       "'INTC done'"
      ]
     },
     "metadata": {},
     "output_type": "display_data"
    },
    {
     "data": {
      "text/plain": [
       "'NFLX done'"
      ]
     },
     "metadata": {},
     "output_type": "display_data"
    },
    {
     "data": {
      "text/plain": [
       "'GOOG done'"
      ]
     },
     "metadata": {},
     "output_type": "display_data"
    },
    {
     "data": {
      "text/plain": [
       "'BABA done'"
      ]
     },
     "metadata": {},
     "output_type": "display_data"
    },
    {
     "data": {
      "text/plain": [
       "'CRM done'"
      ]
     },
     "metadata": {},
     "output_type": "display_data"
    },
    {
     "data": {
      "text/plain": [
       "'CSCO done'"
      ]
     },
     "metadata": {},
     "output_type": "display_data"
    },
    {
     "data": {
      "text/plain": [
       "'GSX done'"
      ]
     },
     "metadata": {},
     "output_type": "display_data"
    },
    {
     "data": {
      "text/plain": [
       "'AMD done'"
      ]
     },
     "metadata": {},
     "output_type": "display_data"
    },
    {
     "data": {
      "text/plain": [
       "'YELP done'"
      ]
     },
     "metadata": {},
     "output_type": "display_data"
    },
    {
     "data": {
      "text/plain": [
       "'adding stats'"
      ]
     },
     "metadata": {},
     "output_type": "display_data"
    },
    {
     "data": {
      "text/plain": [
       "'ARW done'"
      ]
     },
     "metadata": {},
     "output_type": "display_data"
    },
    {
     "data": {
      "text/plain": [
       "'OBNK done'"
      ]
     },
     "metadata": {},
     "output_type": "display_data"
    },
    {
     "data": {
      "text/plain": [
       "'UEIC done'"
      ]
     },
     "metadata": {},
     "output_type": "display_data"
    },
    {
     "data": {
      "text/plain": [
       "'FERG done'"
      ]
     },
     "metadata": {},
     "output_type": "display_data"
    },
    {
     "data": {
      "text/plain": [
       "'SPUC done'"
      ]
     },
     "metadata": {},
     "output_type": "display_data"
    },
    {
     "data": {
      "text/plain": [
       "'CPRI done'"
      ]
     },
     "metadata": {},
     "output_type": "display_data"
    },
    {
     "data": {
      "text/plain": [
       "'PDEX done'"
      ]
     },
     "metadata": {},
     "output_type": "display_data"
    },
    {
     "data": {
      "text/plain": [
       "'TSOC done'"
      ]
     },
     "metadata": {},
     "output_type": "display_data"
    },
    {
     "data": {
      "text/plain": [
       "'KR done'"
      ]
     },
     "metadata": {},
     "output_type": "display_data"
    },
    {
     "data": {
      "text/plain": [
       "'CNO done'"
      ]
     },
     "metadata": {},
     "output_type": "display_data"
    },
    {
     "data": {
      "text/plain": [
       "'CXW done'"
      ]
     },
     "metadata": {},
     "output_type": "display_data"
    },
    {
     "data": {
      "text/plain": [
       "'NVDA done'"
      ]
     },
     "metadata": {},
     "output_type": "display_data"
    },
    {
     "data": {
      "text/plain": [
       "'AAPL done'"
      ]
     },
     "metadata": {},
     "output_type": "display_data"
    },
    {
     "data": {
      "text/plain": [
       "'AMZN done'"
      ]
     },
     "metadata": {},
     "output_type": "display_data"
    },
    {
     "data": {
      "text/plain": [
       "'TSLA done'"
      ]
     },
     "metadata": {},
     "output_type": "display_data"
    },
    {
     "data": {
      "text/plain": [
       "'ADXS done'"
      ]
     },
     "metadata": {},
     "output_type": "display_data"
    },
    {
     "data": {
      "text/plain": [
       "'ALVR done'"
      ]
     },
     "metadata": {},
     "output_type": "display_data"
    },
    {
     "data": {
      "text/plain": [
       "'INTC done'"
      ]
     },
     "metadata": {},
     "output_type": "display_data"
    },
    {
     "data": {
      "text/plain": [
       "'NFLX done'"
      ]
     },
     "metadata": {},
     "output_type": "display_data"
    },
    {
     "data": {
      "text/plain": [
       "'GOOG done'"
      ]
     },
     "metadata": {},
     "output_type": "display_data"
    },
    {
     "data": {
      "text/plain": [
       "'BABA done'"
      ]
     },
     "metadata": {},
     "output_type": "display_data"
    },
    {
     "data": {
      "text/plain": [
       "'CRM done'"
      ]
     },
     "metadata": {},
     "output_type": "display_data"
    },
    {
     "data": {
      "text/plain": [
       "'CSCO done'"
      ]
     },
     "metadata": {},
     "output_type": "display_data"
    },
    {
     "data": {
      "text/plain": [
       "'GSX done'"
      ]
     },
     "metadata": {},
     "output_type": "display_data"
    },
    {
     "data": {
      "text/plain": [
       "'AMD done'"
      ]
     },
     "metadata": {},
     "output_type": "display_data"
    },
    {
     "data": {
      "text/plain": [
       "'YELP done'"
      ]
     },
     "metadata": {},
     "output_type": "display_data"
    }
   ],
   "source": [
    "# read_to_file_data(tickers)\n",
    "read_data_to_file(tickers)\n",
    "display('adding stats')\n",
    "data_stats_to_file(tickers)\n",
    "\n",
    "# daily_stocks_data = pd.read_pickle(f'./{tickers}_daily.pkl')\n",
    "# display([col for col in daily_stocks_data.columns])\n",
    "# display(daily_stocks_data.columns)\n",
    "# display(daily_stocks_data)"
   ]
  },
  {
   "cell_type": "markdown",
   "id": "bearing-walker",
   "metadata": {},
   "source": [
    "# Extras for keras manipulations"
   ]
  },
  {
   "cell_type": "code",
   "execution_count": null,
   "id": "nutritional-milwaukee",
   "metadata": {},
   "outputs": [],
   "source": [
    "\n",
    "# def to_ts_df(daily_stocks_data, lookback, metric):\n",
    "#     ## column names\n",
    "#     columns = list()\n",
    "#     for i in range(lookback):\n",
    "#         columns.append(f'{metric}_{i}')\n",
    "#     columns.append(f'{metric}_target')\n",
    "#     df = pd.DataFrame(columns=columns)\n",
    "#     ## columns\n",
    "#     data = daily_stocks_data[metric].to_numpy()\n",
    "#     for index, col in enumerate(df.columns):\n",
    "#         df[col] = data[index:len(data)-lookback+index]\n",
    "#     ## dates index\n",
    "#     dates = daily_stocks_data.date.to_numpy()[:-lookback]\n",
    "#     df.insert(0, 'dates', dates)\n",
    "#     df.dropna(axis='index', inplace=True)\n",
    "#     return df\n",
    "# def to_ts(df, metric, lookback):\n",
    "#     data, targets = list(), list()\n",
    "#     for i in range(lookback,len(df.index)):\n",
    "#         data.append(df.iloc[i-lookback:i,:].values) ## first four metrics\n",
    "#         targets.append(df[metric].to_list()[i])\n",
    "#     data = np.array(data)\n",
    "#     targets = np.array(targets)\n",
    "#     return data, targets\n",
    "# def min_max_scale(col):\n",
    "#     scaled = col.subtract(col.min()).divide(col.max()-col.min())\n",
    "#     return scaled\n",
    "# def multi_stock_ts_split(df,tickers): ## could be sped up \n",
    "#     data_tr, data_te, targets_tr, targets_te = [],[],[],[]\n",
    "#     for ticker in tickers:\n",
    "#         data, targets = to_ts(df[ticker].dropna(), 'low', lookback) ## drops nan for each stock\n",
    "#         x = train_test_split(data, targets, shuffle=False)\n",
    "#         data_tr.append(x[0])\n",
    "#         data_te.append(x[1])\n",
    "#         targets_tr.append(x[2]) \n",
    "#         targets_te.append(x[3])    \n",
    "#     return np.concatenate(data_tr), np.concatenate(data_te), np.concatenate(targets_tr), np.concatenate(targets_te)\n",
    "# df = pd.read_pickle(f\"./{tickers}_daily.pkl\")\n",
    "# df = df.apply(min_max_scale)\n",
    "# features = len(df.columns)\n",
    "# display(df)"
   ]
  }
 ],
 "metadata": {
  "kernelspec": {
   "display_name": "tensorflow_finance_conda",
   "language": "python",
   "name": "tensorflow_finance_conda"
  },
  "language_info": {
   "codemirror_mode": {
    "name": "ipython",
    "version": 3
   },
   "file_extension": ".py",
   "mimetype": "text/x-python",
   "name": "python",
   "nbconvert_exporter": "python",
   "pygments_lexer": "ipython3",
   "version": "3.8.5"
  }
 },
 "nbformat": 4,
 "nbformat_minor": 5
}
