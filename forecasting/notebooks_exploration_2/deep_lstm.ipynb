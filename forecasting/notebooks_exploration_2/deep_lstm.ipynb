{
 "cells": [
  {
   "cell_type": "code",
   "execution_count": 25,
   "id": "comic-engine",
   "metadata": {},
   "outputs": [],
   "source": [
    "import numpy as np\n",
    "import pandas as pd\n",
    "import seaborn as sns\n",
    "import matplotlib.pyplot as plt\n",
    "from keras import Sequential\n",
    "from keras.layers import InputLayer, LSTM, Dropout, LayerNormalization, GRU, Dense, LayerNormalization, ReLU\n",
    "from keras.callbacks import EarlyStopping, ModelCheckpoint\n",
    "from sklearn.model_selection import train_test_split\n",
    "import mlflow\n",
    "import mlflow.keras"
   ]
  },
  {
   "cell_type": "code",
   "execution_count": 26,
   "id": "prescription-steam",
   "metadata": {},
   "outputs": [],
   "source": [
    "tickers = ['AAPL','AMZN','FB','NVDA']\n",
    "lookback=40\n",
    "metric = 'low'\n",
    "pc_metric = f'{metric}_percent_change'\n",
    "target_name = f'{pc_metric}_target'\n",
    "def to_ts(df, metric, lookback):\n",
    "    data, targets = list(), list()\n",
    "    for i in range(lookback,len(df.index)):\n",
    "        data.append(df.iloc[i-lookback:i,:].values) ## first four metrics\n",
    "        targets.append(df[metric].to_list()[i])\n",
    "    data = np.array(data)\n",
    "    targets = np.array(targets)\n",
    "    return data, targets\n",
    "def min_max_scale(col):\n",
    "    scaled = col.subtract(col.min()).divide(col.max()-col.min())\n",
    "    return scaled\n",
    "def multi_stock_ts_split(df,tickers): ## could be sped up \n",
    "    data_tr, data_te, targets_tr, targets_te = [],[],[],[]\n",
    "    for ticker in tickers:\n",
    "        data, targets = to_ts(df[ticker].dropna(), 'low_percent_change', lookback) ## drops nan for each stock\n",
    "        x = train_test_split(data, targets, shuffle=False)\n",
    "        data_tr.append(x[0])\n",
    "        data_te.append(x[1])\n",
    "        targets_tr.append(x[2]) \n",
    "        targets_te.append(x[3])    \n",
    "    return np.concatenate(data_tr), np.concatenate(data_te), np.concatenate(targets_tr), np.concatenate(targets_te)"
   ]
  },
  {
   "cell_type": "code",
   "execution_count": 27,
   "id": "geographic-peoples",
   "metadata": {},
   "outputs": [],
   "source": [
    "mlflow.keras.autolog()"
   ]
  },
  {
   "cell_type": "code",
   "execution_count": 28,
   "id": "traditional-township",
   "metadata": {
    "scrolled": true
   },
   "outputs": [
    {
     "data": {
      "text/html": [
       "<div>\n",
       "<style scoped>\n",
       "    .dataframe tbody tr th:only-of-type {\n",
       "        vertical-align: middle;\n",
       "    }\n",
       "\n",
       "    .dataframe tbody tr th {\n",
       "        vertical-align: top;\n",
       "    }\n",
       "\n",
       "    .dataframe thead tr th {\n",
       "        text-align: left;\n",
       "    }\n",
       "</style>\n",
       "<table border=\"1\" class=\"dataframe\">\n",
       "  <thead>\n",
       "    <tr>\n",
       "      <th></th>\n",
       "      <th colspan=\"10\" halign=\"left\">AAPL</th>\n",
       "      <th>...</th>\n",
       "      <th colspan=\"10\" halign=\"left\">NVDA</th>\n",
       "    </tr>\n",
       "    <tr>\n",
       "      <th></th>\n",
       "      <th>open</th>\n",
       "      <th>high</th>\n",
       "      <th>low</th>\n",
       "      <th>close</th>\n",
       "      <th>volume</th>\n",
       "      <th>open_10_mean</th>\n",
       "      <th>open_10_median</th>\n",
       "      <th>open_10_std</th>\n",
       "      <th>open_10_skew</th>\n",
       "      <th>open_10_quantile_5</th>\n",
       "      <th>...</th>\n",
       "      <th>volume_365_skew_percent_change</th>\n",
       "      <th>volume_365_quantile_5_percent_change</th>\n",
       "      <th>volume_365_quantile_95_percent_change</th>\n",
       "      <th>volume_365_high_percent_change</th>\n",
       "      <th>volume_365_low_percent_change</th>\n",
       "      <th>volume_365_spread_percent_change</th>\n",
       "      <th>week_cos</th>\n",
       "      <th>week_sin</th>\n",
       "      <th>year_cos</th>\n",
       "      <th>year_sin</th>\n",
       "    </tr>\n",
       "  </thead>\n",
       "  <tbody>\n",
       "    <tr>\n",
       "      <th>2001-04-02</th>\n",
       "      <td>0.013200</td>\n",
       "      <td>0.013687</td>\n",
       "      <td>0.012637</td>\n",
       "      <td>0.012294</td>\n",
       "      <td>0.016225</td>\n",
       "      <td>0.012851</td>\n",
       "      <td>0.012656</td>\n",
       "      <td>NaN</td>\n",
       "      <td>NaN</td>\n",
       "      <td>0.013701</td>\n",
       "      <td>...</td>\n",
       "      <td>NaN</td>\n",
       "      <td>NaN</td>\n",
       "      <td>NaN</td>\n",
       "      <td>NaN</td>\n",
       "      <td>NaN</td>\n",
       "      <td>NaN</td>\n",
       "      <td>1.00</td>\n",
       "      <td>0.5</td>\n",
       "      <td>0.493535</td>\n",
       "      <td>0.999963</td>\n",
       "    </tr>\n",
       "    <tr>\n",
       "      <th>2001-04-03</th>\n",
       "      <td>0.012141</td>\n",
       "      <td>0.011866</td>\n",
       "      <td>0.010788</td>\n",
       "      <td>0.010334</td>\n",
       "      <td>0.017720</td>\n",
       "      <td>0.012313</td>\n",
       "      <td>0.012120</td>\n",
       "      <td>0.001312</td>\n",
       "      <td>NaN</td>\n",
       "      <td>0.012650</td>\n",
       "      <td>...</td>\n",
       "      <td>NaN</td>\n",
       "      <td>0.864369</td>\n",
       "      <td>0.851781</td>\n",
       "      <td>0.597920</td>\n",
       "      <td>0.159699</td>\n",
       "      <td>NaN</td>\n",
       "      <td>0.75</td>\n",
       "      <td>1.0</td>\n",
       "      <td>0.484930</td>\n",
       "      <td>0.999778</td>\n",
       "    </tr>\n",
       "    <tr>\n",
       "      <th>2001-04-04</th>\n",
       "      <td>0.009820</td>\n",
       "      <td>0.010204</td>\n",
       "      <td>0.008779</td>\n",
       "      <td>0.009260</td>\n",
       "      <td>0.034764</td>\n",
       "      <td>0.011346</td>\n",
       "      <td>0.011584</td>\n",
       "      <td>0.003662</td>\n",
       "      <td>0.335031</td>\n",
       "      <td>0.010411</td>\n",
       "      <td>...</td>\n",
       "      <td>NaN</td>\n",
       "      <td>0.861248</td>\n",
       "      <td>1.000000</td>\n",
       "      <td>0.664644</td>\n",
       "      <td>0.159699</td>\n",
       "      <td>0.0</td>\n",
       "      <td>0.25</td>\n",
       "      <td>1.0</td>\n",
       "      <td>0.476330</td>\n",
       "      <td>0.999444</td>\n",
       "    </tr>\n",
       "    <tr>\n",
       "      <th>2001-04-05</th>\n",
       "      <td>0.011038</td>\n",
       "      <td>0.013456</td>\n",
       "      <td>0.010599</td>\n",
       "      <td>0.011249</td>\n",
       "      <td>0.021920</td>\n",
       "      <td>0.011173</td>\n",
       "      <td>0.011026</td>\n",
       "      <td>0.002999</td>\n",
       "      <td>0.477341</td>\n",
       "      <td>0.010360</td>\n",
       "      <td>...</td>\n",
       "      <td>0.373315</td>\n",
       "      <td>0.741755</td>\n",
       "      <td>0.044659</td>\n",
       "      <td>0.262170</td>\n",
       "      <td>0.159699</td>\n",
       "      <td>0.0</td>\n",
       "      <td>0.00</td>\n",
       "      <td>0.5</td>\n",
       "      <td>0.467736</td>\n",
       "      <td>0.998963</td>\n",
       "    </tr>\n",
       "    <tr>\n",
       "      <th>2001-04-06</th>\n",
       "      <td>0.011328</td>\n",
       "      <td>0.011346</td>\n",
       "      <td>0.010454</td>\n",
       "      <td>0.010842</td>\n",
       "      <td>0.015363</td>\n",
       "      <td>0.011128</td>\n",
       "      <td>0.010762</td>\n",
       "      <td>0.002541</td>\n",
       "      <td>0.505799</td>\n",
       "      <td>0.010423</td>\n",
       "      <td>...</td>\n",
       "      <td>0.268041</td>\n",
       "      <td>0.716227</td>\n",
       "      <td>0.044002</td>\n",
       "      <td>0.262170</td>\n",
       "      <td>0.159699</td>\n",
       "      <td>0.0</td>\n",
       "      <td>0.25</td>\n",
       "      <td>0.0</td>\n",
       "      <td>0.459152</td>\n",
       "      <td>0.998334</td>\n",
       "    </tr>\n",
       "    <tr>\n",
       "      <th>...</th>\n",
       "      <td>...</td>\n",
       "      <td>...</td>\n",
       "      <td>...</td>\n",
       "      <td>...</td>\n",
       "      <td>...</td>\n",
       "      <td>...</td>\n",
       "      <td>...</td>\n",
       "      <td>...</td>\n",
       "      <td>...</td>\n",
       "      <td>...</td>\n",
       "      <td>...</td>\n",
       "      <td>...</td>\n",
       "      <td>...</td>\n",
       "      <td>...</td>\n",
       "      <td>...</td>\n",
       "      <td>...</td>\n",
       "      <td>...</td>\n",
       "      <td>...</td>\n",
       "      <td>...</td>\n",
       "      <td>...</td>\n",
       "      <td>...</td>\n",
       "    </tr>\n",
       "    <tr>\n",
       "      <th>2021-03-22</th>\n",
       "      <td>0.155696</td>\n",
       "      <td>0.159970</td>\n",
       "      <td>0.156570</td>\n",
       "      <td>0.160048</td>\n",
       "      <td>0.335065</td>\n",
       "      <td>0.159939</td>\n",
       "      <td>0.158687</td>\n",
       "      <td>0.006622</td>\n",
       "      <td>0.599416</td>\n",
       "      <td>0.161269</td>\n",
       "      <td>...</td>\n",
       "      <td>0.181467</td>\n",
       "      <td>0.752544</td>\n",
       "      <td>0.074923</td>\n",
       "      <td>0.262170</td>\n",
       "      <td>0.159699</td>\n",
       "      <td>0.0</td>\n",
       "      <td>1.00</td>\n",
       "      <td>0.5</td>\n",
       "      <td>0.587758</td>\n",
       "      <td>0.992241</td>\n",
       "    </tr>\n",
       "    <tr>\n",
       "      <th>2021-03-23</th>\n",
       "      <td>0.160048</td>\n",
       "      <td>0.160505</td>\n",
       "      <td>0.159307</td>\n",
       "      <td>0.158814</td>\n",
       "      <td>0.285518</td>\n",
       "      <td>0.160573</td>\n",
       "      <td>0.159517</td>\n",
       "      <td>0.005913</td>\n",
       "      <td>0.582544</td>\n",
       "      <td>0.162288</td>\n",
       "      <td>...</td>\n",
       "      <td>0.180104</td>\n",
       "      <td>0.752544</td>\n",
       "      <td>0.074923</td>\n",
       "      <td>0.262170</td>\n",
       "      <td>0.159699</td>\n",
       "      <td>0.0</td>\n",
       "      <td>0.75</td>\n",
       "      <td>1.0</td>\n",
       "      <td>0.579272</td>\n",
       "      <td>0.993679</td>\n",
       "    </tr>\n",
       "    <tr>\n",
       "      <th>2021-03-24</th>\n",
       "      <td>0.159308</td>\n",
       "      <td>0.158568</td>\n",
       "      <td>0.156286</td>\n",
       "      <td>0.155258</td>\n",
       "      <td>0.264618</td>\n",
       "      <td>0.160740</td>\n",
       "      <td>0.160347</td>\n",
       "      <td>0.005907</td>\n",
       "      <td>0.547431</td>\n",
       "      <td>0.162288</td>\n",
       "      <td>...</td>\n",
       "      <td>0.180374</td>\n",
       "      <td>0.752544</td>\n",
       "      <td>0.074923</td>\n",
       "      <td>0.262170</td>\n",
       "      <td>0.159699</td>\n",
       "      <td>0.0</td>\n",
       "      <td>0.25</td>\n",
       "      <td>1.0</td>\n",
       "      <td>0.570762</td>\n",
       "      <td>0.994971</td>\n",
       "    </tr>\n",
       "    <tr>\n",
       "      <th>2021-03-25</th>\n",
       "      <td>0.154550</td>\n",
       "      <td>0.156776</td>\n",
       "      <td>0.154735</td>\n",
       "      <td>0.155984</td>\n",
       "      <td>0.295694</td>\n",
       "      <td>0.160298</td>\n",
       "      <td>0.159517</td>\n",
       "      <td>0.006593</td>\n",
       "      <td>0.565726</td>\n",
       "      <td>0.161695</td>\n",
       "      <td>...</td>\n",
       "      <td>0.181490</td>\n",
       "      <td>0.752544</td>\n",
       "      <td>0.074923</td>\n",
       "      <td>0.262170</td>\n",
       "      <td>0.159699</td>\n",
       "      <td>0.0</td>\n",
       "      <td>0.00</td>\n",
       "      <td>0.5</td>\n",
       "      <td>0.562232</td>\n",
       "      <td>0.996116</td>\n",
       "    </tr>\n",
       "    <tr>\n",
       "      <th>2021-03-26</th>\n",
       "      <td>0.155725</td>\n",
       "      <td>0.156516</td>\n",
       "      <td>0.154619</td>\n",
       "      <td>0.156884</td>\n",
       "      <td>0.281312</td>\n",
       "      <td>0.160290</td>\n",
       "      <td>0.159517</td>\n",
       "      <td>0.006609</td>\n",
       "      <td>0.565663</td>\n",
       "      <td>0.161695</td>\n",
       "      <td>...</td>\n",
       "      <td>0.181377</td>\n",
       "      <td>0.752544</td>\n",
       "      <td>0.074923</td>\n",
       "      <td>0.262170</td>\n",
       "      <td>0.159699</td>\n",
       "      <td>0.0</td>\n",
       "      <td>0.25</td>\n",
       "      <td>0.0</td>\n",
       "      <td>0.553682</td>\n",
       "      <td>0.997114</td>\n",
       "    </tr>\n",
       "  </tbody>\n",
       "</table>\n",
       "<p>5028 rows × 1856 columns</p>\n",
       "</div>"
      ],
      "text/plain": [
       "                AAPL                                                       \\\n",
       "                open      high       low     close    volume open_10_mean   \n",
       "2001-04-02  0.013200  0.013687  0.012637  0.012294  0.016225     0.012851   \n",
       "2001-04-03  0.012141  0.011866  0.010788  0.010334  0.017720     0.012313   \n",
       "2001-04-04  0.009820  0.010204  0.008779  0.009260  0.034764     0.011346   \n",
       "2001-04-05  0.011038  0.013456  0.010599  0.011249  0.021920     0.011173   \n",
       "2001-04-06  0.011328  0.011346  0.010454  0.010842  0.015363     0.011128   \n",
       "...              ...       ...       ...       ...       ...          ...   \n",
       "2021-03-22  0.155696  0.159970  0.156570  0.160048  0.335065     0.159939   \n",
       "2021-03-23  0.160048  0.160505  0.159307  0.158814  0.285518     0.160573   \n",
       "2021-03-24  0.159308  0.158568  0.156286  0.155258  0.264618     0.160740   \n",
       "2021-03-25  0.154550  0.156776  0.154735  0.155984  0.295694     0.160298   \n",
       "2021-03-26  0.155725  0.156516  0.154619  0.156884  0.281312     0.160290   \n",
       "\n",
       "                                                                       ...  \\\n",
       "           open_10_median open_10_std open_10_skew open_10_quantile_5  ...   \n",
       "2001-04-02       0.012656         NaN          NaN           0.013701  ...   \n",
       "2001-04-03       0.012120    0.001312          NaN           0.012650  ...   \n",
       "2001-04-04       0.011584    0.003662     0.335031           0.010411  ...   \n",
       "2001-04-05       0.011026    0.002999     0.477341           0.010360  ...   \n",
       "2001-04-06       0.010762    0.002541     0.505799           0.010423  ...   \n",
       "...                   ...         ...          ...                ...  ...   \n",
       "2021-03-22       0.158687    0.006622     0.599416           0.161269  ...   \n",
       "2021-03-23       0.159517    0.005913     0.582544           0.162288  ...   \n",
       "2021-03-24       0.160347    0.005907     0.547431           0.162288  ...   \n",
       "2021-03-25       0.159517    0.006593     0.565726           0.161695  ...   \n",
       "2021-03-26       0.159517    0.006609     0.565663           0.161695  ...   \n",
       "\n",
       "                                     NVDA  \\\n",
       "           volume_365_skew_percent_change   \n",
       "2001-04-02                            NaN   \n",
       "2001-04-03                            NaN   \n",
       "2001-04-04                            NaN   \n",
       "2001-04-05                       0.373315   \n",
       "2001-04-06                       0.268041   \n",
       "...                                   ...   \n",
       "2021-03-22                       0.181467   \n",
       "2021-03-23                       0.180104   \n",
       "2021-03-24                       0.180374   \n",
       "2021-03-25                       0.181490   \n",
       "2021-03-26                       0.181377   \n",
       "\n",
       "                                                 \\\n",
       "           volume_365_quantile_5_percent_change   \n",
       "2001-04-02                                  NaN   \n",
       "2001-04-03                             0.864369   \n",
       "2001-04-04                             0.861248   \n",
       "2001-04-05                             0.741755   \n",
       "2001-04-06                             0.716227   \n",
       "...                                         ...   \n",
       "2021-03-22                             0.752544   \n",
       "2021-03-23                             0.752544   \n",
       "2021-03-24                             0.752544   \n",
       "2021-03-25                             0.752544   \n",
       "2021-03-26                             0.752544   \n",
       "\n",
       "                                                  \\\n",
       "           volume_365_quantile_95_percent_change   \n",
       "2001-04-02                                   NaN   \n",
       "2001-04-03                              0.851781   \n",
       "2001-04-04                              1.000000   \n",
       "2001-04-05                              0.044659   \n",
       "2001-04-06                              0.044002   \n",
       "...                                          ...   \n",
       "2021-03-22                              0.074923   \n",
       "2021-03-23                              0.074923   \n",
       "2021-03-24                              0.074923   \n",
       "2021-03-25                              0.074923   \n",
       "2021-03-26                              0.074923   \n",
       "\n",
       "                                                                         \\\n",
       "           volume_365_high_percent_change volume_365_low_percent_change   \n",
       "2001-04-02                            NaN                           NaN   \n",
       "2001-04-03                       0.597920                      0.159699   \n",
       "2001-04-04                       0.664644                      0.159699   \n",
       "2001-04-05                       0.262170                      0.159699   \n",
       "2001-04-06                       0.262170                      0.159699   \n",
       "...                                   ...                           ...   \n",
       "2021-03-22                       0.262170                      0.159699   \n",
       "2021-03-23                       0.262170                      0.159699   \n",
       "2021-03-24                       0.262170                      0.159699   \n",
       "2021-03-25                       0.262170                      0.159699   \n",
       "2021-03-26                       0.262170                      0.159699   \n",
       "\n",
       "                                                                         \\\n",
       "           volume_365_spread_percent_change week_cos week_sin  year_cos   \n",
       "2001-04-02                              NaN     1.00      0.5  0.493535   \n",
       "2001-04-03                              NaN     0.75      1.0  0.484930   \n",
       "2001-04-04                              0.0     0.25      1.0  0.476330   \n",
       "2001-04-05                              0.0     0.00      0.5  0.467736   \n",
       "2001-04-06                              0.0     0.25      0.0  0.459152   \n",
       "...                                     ...      ...      ...       ...   \n",
       "2021-03-22                              0.0     1.00      0.5  0.587758   \n",
       "2021-03-23                              0.0     0.75      1.0  0.579272   \n",
       "2021-03-24                              0.0     0.25      1.0  0.570762   \n",
       "2021-03-25                              0.0     0.00      0.5  0.562232   \n",
       "2021-03-26                              0.0     0.25      0.0  0.553682   \n",
       "\n",
       "                      \n",
       "            year_sin  \n",
       "2001-04-02  0.999963  \n",
       "2001-04-03  0.999778  \n",
       "2001-04-04  0.999444  \n",
       "2001-04-05  0.998963  \n",
       "2001-04-06  0.998334  \n",
       "...              ...  \n",
       "2021-03-22  0.992241  \n",
       "2021-03-23  0.993679  \n",
       "2021-03-24  0.994971  \n",
       "2021-03-25  0.996116  \n",
       "2021-03-26  0.997114  \n",
       "\n",
       "[5028 rows x 1856 columns]"
      ]
     },
     "metadata": {},
     "output_type": "display_data"
    }
   ],
   "source": [
    "df = pd.read_pickle(f\"./{tickers}_daily.pkl\")\n",
    "df = df.apply(min_max_scale)\n",
    "features = len(df[tickers[0]].columns)\n",
    "display(df)"
   ]
  },
  {
   "cell_type": "code",
   "execution_count": 29,
   "id": "arbitrary-steps",
   "metadata": {},
   "outputs": [
    {
     "data": {
      "text/plain": [
       "(12852, 40, 464)"
      ]
     },
     "metadata": {},
     "output_type": "display_data"
    },
    {
     "data": {
      "text/plain": [
       "(4288, 40, 464)"
      ]
     },
     "metadata": {},
     "output_type": "display_data"
    },
    {
     "data": {
      "text/plain": [
       "(12852,)"
      ]
     },
     "metadata": {},
     "output_type": "display_data"
    },
    {
     "data": {
      "text/plain": [
       "(4288,)"
      ]
     },
     "metadata": {},
     "output_type": "display_data"
    }
   ],
   "source": [
    "data_tr, data_te, targets_tr, targets_te = multi_stock_ts_split(df,tickers)\n",
    "display(data_tr.shape, data_te.shape, targets_tr.shape, targets_te.shape)"
   ]
  },
  {
   "cell_type": "code",
   "execution_count": 30,
   "id": "anticipated-valley",
   "metadata": {},
   "outputs": [],
   "source": [
    "# x=[x for x in range(len(targets_tr))]\n",
    "# plt.plot(x, targets_tr.flatten(), color='b',alpha=0.5)\n",
    "# plt.show()\n",
    "# x=[x for x in range(len(targets_te))]\n",
    "# plt.plot(x, targets_te.flatten(), color='b',alpha=0.5)\n",
    "# plt.show()\n",
    "# sns.lineplot(data=df[tickers[0]]['low_percent_change'])"
   ]
  },
  {
   "cell_type": "code",
   "execution_count": 31,
   "id": "changed-employment",
   "metadata": {},
   "outputs": [],
   "source": [
    "def deep_gru(lookback=100):\n",
    "    model = Sequential()\n",
    "    model.add(InputLayer(input_shape=(lookback, 1)))\n",
    "    model.add(GRU(512, return_sequences=True))\n",
    "    model.add(GRU(256, return_sequences=True))\n",
    "    model.add(GRU(256, return_sequences=True))\n",
    "    model.add(GRU(256, return_sequences=True))\n",
    "    model.add(GRU(256, return_sequences=True))\n",
    "    model.add(GRU(128, return_sequences=True))\n",
    "    model.add(GRU(128, return_sequences=True))\n",
    "    model.add(GRU(128, return_sequences=False))\n",
    "    model.add(Dense(1))\n",
    "    model.compile(optimizer='adam', loss='mae', metrics=['mse','mape','mae'])\n",
    "    return model\n",
    "def deep(lookback=100, features=1):\n",
    "    layers = [InputLayer(input_shape=(lookback, features)),\n",
    "              *[Dense(2**-nodes,activation='relu') for nodes in range(-10,-7) for i in range(8)],\n",
    "              Dense(1)]\n",
    "    model = Sequential(layers)\n",
    "    model.compile(optimizer='adam', loss='mae', metrics=['mse','mape','mae'])\n",
    "    return model\n",
    "def deep_LSTM(lookback=100):\n",
    "    model = Sequential()\n",
    "    model.add(InputLayer(input_shape=(lookback, 1)))\n",
    "    model.add(LSTM(128,return_sequences=True))\n",
    "    model.add(LSTM(128,return_sequences=True))\n",
    "    model.add(LSTM(128,return_sequences=False))\n",
    "    model.compile(optimizer='adam', loss='mae', metrics=['mse','mape','mae'])\n",
    "    return model\n",
    "def lstm(lookback=100):\n",
    "    model = Sequential()\n",
    "    model.add(InputLayer(input_shape=(lookback, 1)))\n",
    "    model.add(LSTM(512,return_sequences=True))\n",
    "    model.add(LSTM(264,return_sequences=False))\n",
    "    model.add(Dense(1))\n",
    "    model.compile(optimizer='adam', loss='mae', metrics=['mse','mape','mae'])\n",
    "    return model\n",
    "def simple(lookback=100, features=1):\n",
    "    model = Sequential()\n",
    "    model.add(InputLayer(input_shape=(lookback, features)))\n",
    "    model.add(Dense(512))\n",
    "    model.add(Dense(264))\n",
    "    model.add(Dense(1))\n",
    "    model.compile(optimizer='adam', loss='mae', metrics=['mse','mape','mae'])\n",
    "    return model\n"
   ]
  },
  {
   "cell_type": "code",
   "execution_count": 32,
   "id": "three-trigger",
   "metadata": {
    "scrolled": true
   },
   "outputs": [
    {
     "name": "stdout",
     "output_type": "stream",
     "text": [
      "Model: \"sequential_1\"\n",
      "_________________________________________________________________\n",
      "Layer (type)                 Output Shape              Param #   \n",
      "=================================================================\n",
      "dense_41 (Dense)             (None, 40, 1024)          476160    \n",
      "_________________________________________________________________\n",
      "dense_42 (Dense)             (None, 40, 1024)          1049600   \n",
      "_________________________________________________________________\n",
      "dense_43 (Dense)             (None, 40, 1024)          1049600   \n",
      "_________________________________________________________________\n",
      "dense_44 (Dense)             (None, 40, 1024)          1049600   \n",
      "_________________________________________________________________\n",
      "dense_45 (Dense)             (None, 40, 1024)          1049600   \n",
      "_________________________________________________________________\n",
      "dense_46 (Dense)             (None, 40, 1024)          1049600   \n",
      "_________________________________________________________________\n",
      "dense_47 (Dense)             (None, 40, 1024)          1049600   \n",
      "_________________________________________________________________\n",
      "dense_48 (Dense)             (None, 40, 1024)          1049600   \n",
      "_________________________________________________________________\n",
      "dense_49 (Dense)             (None, 40, 512)           524800    \n",
      "_________________________________________________________________\n",
      "dense_50 (Dense)             (None, 40, 512)           262656    \n",
      "_________________________________________________________________\n",
      "dense_51 (Dense)             (None, 40, 512)           262656    \n",
      "_________________________________________________________________\n",
      "dense_52 (Dense)             (None, 40, 512)           262656    \n",
      "_________________________________________________________________\n",
      "dense_53 (Dense)             (None, 40, 512)           262656    \n",
      "_________________________________________________________________\n",
      "dense_54 (Dense)             (None, 40, 512)           262656    \n",
      "_________________________________________________________________\n",
      "dense_55 (Dense)             (None, 40, 512)           262656    \n",
      "_________________________________________________________________\n",
      "dense_56 (Dense)             (None, 40, 512)           262656    \n",
      "_________________________________________________________________\n",
      "dense_57 (Dense)             (None, 40, 256)           131328    \n",
      "_________________________________________________________________\n",
      "dense_58 (Dense)             (None, 40, 256)           65792     \n",
      "_________________________________________________________________\n",
      "dense_59 (Dense)             (None, 40, 256)           65792     \n",
      "_________________________________________________________________\n",
      "dense_60 (Dense)             (None, 40, 256)           65792     \n",
      "_________________________________________________________________\n",
      "dense_61 (Dense)             (None, 40, 256)           65792     \n",
      "_________________________________________________________________\n",
      "dense_62 (Dense)             (None, 40, 256)           65792     \n",
      "_________________________________________________________________\n",
      "dense_63 (Dense)             (None, 40, 256)           65792     \n",
      "_________________________________________________________________\n",
      "dense_64 (Dense)             (None, 40, 256)           65792     \n",
      "_________________________________________________________________\n",
      "dense_65 (Dense)             (None, 40, 1)             257       \n",
      "=================================================================\n",
      "Total params: 10,778,881\n",
      "Trainable params: 10,778,881\n",
      "Non-trainable params: 0\n",
      "_________________________________________________________________\n"
     ]
    }
   ],
   "source": [
    "model = deep(lookback=lookback, features=features)\n",
    "model.summary()"
   ]
  },
  {
   "cell_type": "code",
   "execution_count": 33,
   "id": "interpreted-choir",
   "metadata": {
    "scrolled": true
   },
   "outputs": [
    {
     "name": "stderr",
     "output_type": "stream",
     "text": [
      "2021/03/29 06:59:24 INFO mlflow.utils.autologging_utils: Created MLflow autologging run with ID '10e879b919894ef2a1e8e9a4e6b3b3ce', which will track hyperparameters, performance metrics, model artifacts, and lineage information for the current keras workflow\n"
     ]
    },
    {
     "name": "stdout",
     "output_type": "stream",
     "text": [
      "Epoch 1/50\n",
      "322/322 [==============================] - 292s 898ms/step - loss: 0.2502 - mse: 0.4504 - mape: 286542.2689 - mae: 0.2502 - val_loss: 0.0283 - val_mse: 0.0016 - val_mape: 4.6717 - val_mae: 0.0283\n",
      "Epoch 2/50\n",
      "322/322 [==============================] - 273s 847ms/step - loss: 0.0297 - mse: 0.0023 - mape: 438308.4920 - mae: 0.0297 - val_loss: 0.0236 - val_mse: 0.0013 - val_mape: 4.0738 - val_mae: 0.0236\n",
      "Epoch 3/50\n",
      "322/322 [==============================] - 509s 2s/step - loss: 0.0281 - mse: 0.0021 - mape: 338717.6998 - mae: 0.0281 - val_loss: 0.0255 - val_mse: 0.0014 - val_mape: 4.2985 - val_mae: 0.0255\n",
      "Epoch 4/50\n",
      "322/322 [==============================] - 387s 1s/step - loss: 0.0280 - mse: 0.0020 - mape: 234674.6024 - mae: 0.0280 - val_loss: 0.0295 - val_mse: 0.0017 - val_mape: 5.0575 - val_mae: 0.0295\n",
      "Epoch 5/50\n",
      "322/322 [==============================] - 261s 811ms/step - loss: 0.0274 - mse: 0.0020 - mape: 436445.3926 - mae: 0.0274 - val_loss: 0.0270 - val_mse: 0.0015 - val_mape: 4.5011 - val_mae: 0.0270\n",
      "INFO:tensorflow:Assets written to: /var/folders/vv/ncrn_zfj71l6x3fb0qns97p80000gq/T/tmp_600yemy/model/data/model/assets\n",
      "134/134 [==============================] - 32s 232ms/step - loss: 0.0346 - mse: 0.0038 - mape: 6.1661 - mae: 0.0346\n"
     ]
    },
    {
     "data": {
      "text/plain": [
       "[0.03460787236690521,\n",
       " 0.003791442606598139,\n",
       " 6.1661295890808105,\n",
       " 0.03460787236690521]"
      ]
     },
     "execution_count": 33,
     "metadata": {},
     "output_type": "execute_result"
    }
   ],
   "source": [
    "early = EarlyStopping(patience=3, restore_best_weights=True)\n",
    "history = model.fit(x=data_tr,y=targets_tr, validation_split=0.2, batch_size=None, epochs=50, callbacks=[early], shuffle=True, workers=-1)\n",
    "model.evaluate(x=data_te, y=targets_te)"
   ]
  },
  {
   "cell_type": "code",
   "execution_count": 34,
   "id": "guided-court",
   "metadata": {},
   "outputs": [
    {
     "data": {
      "text/plain": [
       "(4288, 40, 464)"
      ]
     },
     "metadata": {},
     "output_type": "display_data"
    },
    {
     "data": {
      "text/plain": [
       "(12852, 40, 464)"
      ]
     },
     "metadata": {},
     "output_type": "display_data"
    },
    {
     "data": {
      "text/plain": [
       "(4288,)"
      ]
     },
     "metadata": {},
     "output_type": "display_data"
    },
    {
     "data": {
      "text/plain": [
       "(12852,)"
      ]
     },
     "metadata": {},
     "output_type": "display_data"
    }
   ],
   "source": [
    "display(data_te.shape, data_tr.shape, targets_te.shape, targets_tr.shape )\n",
    "# pd.DataFrame(predictions.reshape(predictions.shape[0], predictions.shape[1]))\n",
    "# targets_te.shape\n",
    "# predictions.flatten().shape\n",
    "# predictions=predictions[:,-1,0]\n"
   ]
  },
  {
   "cell_type": "code",
   "execution_count": 35,
   "id": "completed-yemen",
   "metadata": {},
   "outputs": [
    {
     "data": {
      "text/plain": [
       "(4288, 40, 1)"
      ]
     },
     "metadata": {},
     "output_type": "display_data"
    }
   ],
   "source": [
    "predictions = model.predict(data_te)\n",
    "display(predictions.shape)\n",
    "predictions_tr = model.predict(data_tr)"
   ]
  },
  {
   "cell_type": "code",
   "execution_count": 36,
   "id": "subject-population",
   "metadata": {},
   "outputs": [],
   "source": [
    "predictions=predictions[:,-1].flatten()\n",
    "predictions_tr=predictions_tr[:,-1].flatten()"
   ]
  },
  {
   "cell_type": "code",
   "execution_count": 37,
   "id": "mechanical-conditioning",
   "metadata": {},
   "outputs": [
    {
     "data": {
      "text/plain": [
       "<function matplotlib.pyplot.show(close=None, block=None)>"
      ]
     },
     "execution_count": 37,
     "metadata": {},
     "output_type": "execute_result"
    },
    {
     "data": {
      "image/png": "[encoded data removed]",
      "text/plain": [
       "<Figure size 432x288 with 1 Axes>"
      ]
     },
     "metadata": {
      "needs_background": "light"
     },
     "output_type": "display_data"
    }
   ],
   "source": [
    "x=[x for x in range(len(targets_te))]\n",
    "plt.plot(x, predictions, color='r',alpha=0.5)\n",
    "plt.plot(x, targets_te, color='b',alpha=0.5)\n",
    "plt.show"
   ]
  },
  {
   "cell_type": "code",
   "execution_count": 38,
   "id": "favorite-dealing",
   "metadata": {},
   "outputs": [
    {
     "data": {
      "image/png": "[encoded data removed]",
      "text/plain": [
       "<Figure size 432x288 with 1 Axes>"
      ]
     },
     "metadata": {
      "needs_background": "light"
     },
     "output_type": "display_data"
    }
   ],
   "source": [
    "x=[x for x in range(len(targets_tr))]\n",
    "plt.plot(x, predictions_tr, color='r',alpha=0.5)\n",
    "plt.plot(x, targets_tr, color='b',alpha=0.5)\n",
    "plt.show()"
   ]
  },
  {
   "cell_type": "code",
   "execution_count": 39,
   "id": "returning-convert",
   "metadata": {},
   "outputs": [],
   "source": [
    "err = np.subtract(predictions, targets_te)\n",
    "err_tr = np.subtract(predictions_tr, targets_tr)\n",
    "err_tr = pd.DataFrame({'err_tr':err_tr})\n",
    "err = pd.DataFrame({'err':err})"
   ]
  },
  {
   "cell_type": "code",
   "execution_count": 40,
   "id": "instructional-accountability",
   "metadata": {},
   "outputs": [],
   "source": [
    "err['abs_err']=err['err'].abs()\n",
    "err['mean_pred_err']=np.subtract(predictions, targets_te.mean())\n",
    "err['abs_mean_pred_err']=err['mean_pred_err'].abs()"
   ]
  },
  {
   "cell_type": "code",
   "execution_count": 41,
   "id": "generic-remains",
   "metadata": {},
   "outputs": [
    {
     "data": {
      "text/html": [
       "<div>\n",
       "<style scoped>\n",
       "    .dataframe tbody tr th:only-of-type {\n",
       "        vertical-align: middle;\n",
       "    }\n",
       "\n",
       "    .dataframe tbody tr th {\n",
       "        vertical-align: top;\n",
       "    }\n",
       "\n",
       "    .dataframe thead th {\n",
       "        text-align: right;\n",
       "    }\n",
       "</style>\n",
       "<table border=\"1\" class=\"dataframe\">\n",
       "  <thead>\n",
       "    <tr style=\"text-align: right;\">\n",
       "      <th></th>\n",
       "      <th>err</th>\n",
       "      <th>abs_err</th>\n",
       "      <th>mean_pred_err</th>\n",
       "      <th>abs_mean_pred_err</th>\n",
       "    </tr>\n",
       "  </thead>\n",
       "  <tbody>\n",
       "    <tr>\n",
       "      <th>count</th>\n",
       "      <td>4288.000000</td>\n",
       "      <td>4.288000e+03</td>\n",
       "      <td>4288.000000</td>\n",
       "      <td>4288.000000</td>\n",
       "    </tr>\n",
       "    <tr>\n",
       "      <th>mean</th>\n",
       "      <td>-0.017749</td>\n",
       "      <td>3.549569e-02</td>\n",
       "      <td>-0.017749</td>\n",
       "      <td>0.147248</td>\n",
       "    </tr>\n",
       "    <tr>\n",
       "      <th>std</th>\n",
       "      <td>0.060571</td>\n",
       "      <td>5.218862e-02</td>\n",
       "      <td>0.159554</td>\n",
       "      <td>0.063919</td>\n",
       "    </tr>\n",
       "    <tr>\n",
       "      <th>min</th>\n",
       "      <td>-0.365569</td>\n",
       "      <td>9.545450e-07</td>\n",
       "      <td>-0.179528</td>\n",
       "      <td>0.000049</td>\n",
       "    </tr>\n",
       "    <tr>\n",
       "      <th>25%</th>\n",
       "      <td>-0.026097</td>\n",
       "      <td>6.652145e-03</td>\n",
       "      <td>-0.170677</td>\n",
       "      <td>0.155831</td>\n",
       "    </tr>\n",
       "    <tr>\n",
       "      <th>50%</th>\n",
       "      <td>-0.005529</td>\n",
       "      <td>1.665199e-02</td>\n",
       "      <td>-0.022803</td>\n",
       "      <td>0.171461</td>\n",
       "    </tr>\n",
       "    <tr>\n",
       "      <th>75%</th>\n",
       "      <td>0.008466</td>\n",
       "      <td>3.812457e-02</td>\n",
       "      <td>0.200582</td>\n",
       "      <td>0.200582</td>\n",
       "    </tr>\n",
       "    <tr>\n",
       "      <th>max</th>\n",
       "      <td>0.715282</td>\n",
       "      <td>7.152816e-01</td>\n",
       "      <td>0.200612</td>\n",
       "      <td>0.200612</td>\n",
       "    </tr>\n",
       "  </tbody>\n",
       "</table>\n",
       "</div>"
      ],
      "text/plain": [
       "               err       abs_err  mean_pred_err  abs_mean_pred_err\n",
       "count  4288.000000  4.288000e+03    4288.000000        4288.000000\n",
       "mean     -0.017749  3.549569e-02      -0.017749           0.147248\n",
       "std       0.060571  5.218862e-02       0.159554           0.063919\n",
       "min      -0.365569  9.545450e-07      -0.179528           0.000049\n",
       "25%      -0.026097  6.652145e-03      -0.170677           0.155831\n",
       "50%      -0.005529  1.665199e-02      -0.022803           0.171461\n",
       "75%       0.008466  3.812457e-02       0.200582           0.200582\n",
       "max       0.715282  7.152816e-01       0.200612           0.200612"
      ]
     },
     "execution_count": 41,
     "metadata": {},
     "output_type": "execute_result"
    }
   ],
   "source": [
    "err.describe()"
   ]
  },
  {
   "cell_type": "code",
   "execution_count": null,
   "id": "genetic-jewel",
   "metadata": {},
   "outputs": [],
   "source": []
  }
 ],
 "metadata": {
  "kernelspec": {
   "display_name": "tensorflow_finance_conda",
   "language": "python",
   "name": "tensorflow_finance_conda"
  },
  "language_info": {
   "codemirror_mode": {
    "name": "ipython",
    "version": 3
   },
   "file_extension": ".py",
   "mimetype": "text/x-python",
   "name": "python",
   "nbconvert_exporter": "python",
   "pygments_lexer": "ipython3",
   "version": "3.8.5"
  }
 },
 "nbformat": 4,
 "nbformat_minor": 5
}
