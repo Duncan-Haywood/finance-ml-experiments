{
 "cells": [
  {
   "cell_type": "code",
   "execution_count": null,
   "id": "terminal-cherry",
   "metadata": {},
   "outputs": [],
   "source": []
  },
  {
   "cell_type": "code",
   "execution_count": 1,
   "id": "honey-trunk",
   "metadata": {},
   "outputs": [],
   "source": [
    "from IPython.display import display\n",
    "import seaborn as sns\n",
    "import matplotlib.pyplot as plt\n",
    "from keras.layers import LSTM, Dense\n",
    "from keras import Sequential\n",
    "from keras.callbacks import EarlyStopping\n",
    "from keras.optimizers import Adam"
   ]
  },
  {
   "cell_type": "markdown",
   "id": "separate-hearing",
   "metadata": {},
   "source": [
    "## data preprocessing/loading"
   ]
  },
  {
   "cell_type": "code",
   "execution_count": 23,
   "id": "compliant-boutique",
   "metadata": {
    "scrolled": true
   },
   "outputs": [],
   "source": [
    "# comment first line out after first use to prevent \n",
    "# giving the source website for the stocks too much traffic. \n",
    "stocks_df = ingest_stocks_to_df()\n",
    "stock_list = stocks_df.company_name.unique()\n",
    "# displays\n",
    "display(stocks_df)\n",
    "for stock in stock_list:\n",
    "    print(stock, 'len', len(stocks_df[stocks_df.company_name == stock].index))\n",
    "sns.lineplot(x=stocks_df.index, y='Adj Close',data=stocks_df, legend='auto', hue='company_name')\n",
    "plt.show()\n",
    "data_gen_train, data_gen_test = to_ts_data(stock_list[0], stocks_df) "
   ]
  },
  {
   "cell_type": "markdown",
   "id": "monetary-tonight",
   "metadata": {},
   "source": [
    "## Model Building, \n",
    "exploration of best in first round\n",
    "- bi_stack_lstm_model(): 0.49 MSE test, 2.7211 train\n",
    "- lstm_dense_model(): 0.4828 MSE test, 2.7904 train\n",
    "- gru_model() 0.5256 MSE test, 2.4440 train\n",
    "- stack_3_lstm_model 0.558 MSE test, 2.9509 train"
   ]
  },
  {
   "cell_type": "markdown",
   "id": "scheduled-settle",
   "metadata": {},
   "source": [
    "# Pre-existing models"
   ]
  },
  {
   "cell_type": "code",
   "execution_count": 14,
   "id": "agricultural-fiction",
   "metadata": {},
   "outputs": [],
   "source": [
    "def gru_model(nodes=50, dropout=0.0, recurrent_dropout=0.0, learning_rate=0.01, loss='mse', optimizer=Adam, metrics=['mse']):\n",
    "    model = Sequential()\n",
    "    model.add(GRU(nodes))\n",
    "    model.add(Dense(1, activation='linear'))\n",
    "    model.compile(optimizer=optimizer(learning_rate=learning_rate),\n",
    "              loss=loss,\n",
    "              metrics=metrics)\n",
    "    return model\n",
    "def stack_3_lstm_model(nodes_lstm=50, dropout=0.0, recurrent_dropout=0.0, learning_rate=0.01, loss='mse', optimizer=Adam, metrics=['mse']):\n",
    "    lstm_layer = LSTM(nodes_lstm, dropout=dropout, recurrent_dropout=recurrent_dropout, return_sequences=True)\n",
    "    model = Sequential()\n",
    "    model.add(lstm_layer)\n",
    "    model.add(lstm_layer)\n",
    "    model.add(lstm_layer)\n",
    "    model.add(Dense(1, activation='linear'))\n",
    "    model.compile(optimizer=optimizer(learning_rate=learning_rate),\n",
    "              loss=loss,\n",
    "              metrics=metrics)\n",
    "    return model\n",
    "def lstm_dense_model(nodes_lstm=50, dropout=0.0, recurrent_dropout=0.0, learning_rate=0.01, loss='mse', optimizer=Adam, metrics=['mse']):\n",
    "    lstm_layer = LSTM(nodes_lstm, dropout=dropout, recurrent_dropout=recurrent_dropout)\n",
    "    model = Sequential()\n",
    "#     model.add(Input((1,1)))\n",
    "    model.add(lstm_layer)\n",
    "    model.add(Dense(32))\n",
    "    model.add(Activation(relu))\n",
    "    model.add(Dense(1, activation='linear'))\n",
    "    model.compile(optimizer=optimizer(learning_rate=learning_rate),\n",
    "              loss=loss,\n",
    "              metrics=metrics)\n",
    "    return model\n",
    "def bi_stack_lstm_model(nodes_lstm=50, dropout=0.0, recurrent_dropout=0.0, learning_rate=0.01, loss='mse', optimizer=Adam, metrics=['mse']):\n",
    "    lstm_layer = LSTM(nodes_lstm, recurrent_dropout=recurrent_dropout, return_sequences=True)\n",
    "    model = Sequential()\n",
    "    model.add(Bidirectional(lstm_layer))\n",
    "    model.add(Bidirectional(lstm_layer))\n",
    "    model.add(Dense(1, activation='linear'))\n",
    "    model.compile(optimizer=optimizer(learning_rate=learning_rate),\n",
    "              loss=loss,\n",
    "              metrics=metrics)\n",
    "    return model"
   ]
  },
  {
   "cell_type": "markdown",
   "id": "rough-wagner",
   "metadata": {},
   "source": [
    "## Model eval\n",
    "iterative predicting into the future; plotting. "
   ]
  },
  {
   "cell_type": "code",
   "execution_count": 15,
   "id": "delayed-pierce",
   "metadata": {},
   "outputs": [],
   "source": [
    "early_stop = EarlyStopping(monitor='loss', patience=30, restore_best_weights=True)"
   ]
  },
  {
   "cell_type": "code",
   "execution_count": 16,
   "id": "known-shower",
   "metadata": {},
   "outputs": [
    {
     "ename": "NameError",
     "evalue": "name 'Sequential' is not defined",
     "output_type": "error",
     "traceback": [
      "\u001b[0;31m---------------------------------------------------------------------------\u001b[0m",
      "\u001b[0;31mNameError\u001b[0m                                 Traceback (most recent call last)",
      "\u001b[0;32m<ipython-input-16-3e8b38559708>\u001b[0m in \u001b[0;36m<module>\u001b[0;34m\u001b[0m\n\u001b[0;32m----> 1\u001b[0;31m \u001b[0mmodel\u001b[0m \u001b[0;34m=\u001b[0m \u001b[0mgru_model\u001b[0m\u001b[0;34m(\u001b[0m\u001b[0;34m)\u001b[0m\u001b[0;34m\u001b[0m\u001b[0;34m\u001b[0m\u001b[0m\n\u001b[0m\u001b[1;32m      2\u001b[0m \u001b[0mmodel\u001b[0m\u001b[0;34m.\u001b[0m\u001b[0mfit\u001b[0m\u001b[0;34m(\u001b[0m\u001b[0;34m(\u001b[0m\u001b[0mdata_gen_train\u001b[0m\u001b[0;34m)\u001b[0m\u001b[0;34m,\u001b[0m \u001b[0mepochs\u001b[0m\u001b[0;34m=\u001b[0m\u001b[0;36m300\u001b[0m\u001b[0;34m,\u001b[0m\u001b[0mcallbacks\u001b[0m\u001b[0;34m=\u001b[0m\u001b[0;34m[\u001b[0m\u001b[0mearly_stop\u001b[0m\u001b[0;34m]\u001b[0m\u001b[0;34m)\u001b[0m\u001b[0;34m\u001b[0m\u001b[0;34m\u001b[0m\u001b[0m\n\u001b[1;32m      3\u001b[0m \u001b[0mmodel\u001b[0m\u001b[0;34m.\u001b[0m\u001b[0mevaluate\u001b[0m\u001b[0;34m(\u001b[0m\u001b[0mdata_gen_test\u001b[0m\u001b[0;34m)\u001b[0m\u001b[0;34m\u001b[0m\u001b[0;34m\u001b[0m\u001b[0m\n",
      "\u001b[0;32m<ipython-input-14-5c523c281391>\u001b[0m in \u001b[0;36mgru_model\u001b[0;34m(nodes, dropout, recurrent_dropout, learning_rate, loss, optimizer, metrics)\u001b[0m\n\u001b[1;32m      1\u001b[0m \u001b[0;32mdef\u001b[0m \u001b[0mgru_model\u001b[0m\u001b[0;34m(\u001b[0m\u001b[0mnodes\u001b[0m\u001b[0;34m=\u001b[0m\u001b[0;36m50\u001b[0m\u001b[0;34m,\u001b[0m \u001b[0mdropout\u001b[0m\u001b[0;34m=\u001b[0m\u001b[0;36m0.0\u001b[0m\u001b[0;34m,\u001b[0m \u001b[0mrecurrent_dropout\u001b[0m\u001b[0;34m=\u001b[0m\u001b[0;36m0.0\u001b[0m\u001b[0;34m,\u001b[0m \u001b[0mlearning_rate\u001b[0m\u001b[0;34m=\u001b[0m\u001b[0;36m0.01\u001b[0m\u001b[0;34m,\u001b[0m \u001b[0mloss\u001b[0m\u001b[0;34m=\u001b[0m\u001b[0;34m'mse'\u001b[0m\u001b[0;34m,\u001b[0m \u001b[0moptimizer\u001b[0m\u001b[0;34m=\u001b[0m\u001b[0mAdam\u001b[0m\u001b[0;34m,\u001b[0m \u001b[0mmetrics\u001b[0m\u001b[0;34m=\u001b[0m\u001b[0;34m[\u001b[0m\u001b[0;34m'mse'\u001b[0m\u001b[0;34m]\u001b[0m\u001b[0;34m)\u001b[0m\u001b[0;34m:\u001b[0m\u001b[0;34m\u001b[0m\u001b[0;34m\u001b[0m\u001b[0m\n\u001b[0;32m----> 2\u001b[0;31m     \u001b[0mmodel\u001b[0m \u001b[0;34m=\u001b[0m \u001b[0mSequential\u001b[0m\u001b[0;34m(\u001b[0m\u001b[0;34m)\u001b[0m\u001b[0;34m\u001b[0m\u001b[0;34m\u001b[0m\u001b[0m\n\u001b[0m\u001b[1;32m      3\u001b[0m     \u001b[0mmodel\u001b[0m\u001b[0;34m.\u001b[0m\u001b[0madd\u001b[0m\u001b[0;34m(\u001b[0m\u001b[0mGRU\u001b[0m\u001b[0;34m(\u001b[0m\u001b[0mnodes\u001b[0m\u001b[0;34m)\u001b[0m\u001b[0;34m)\u001b[0m\u001b[0;34m\u001b[0m\u001b[0;34m\u001b[0m\u001b[0m\n\u001b[1;32m      4\u001b[0m     \u001b[0mmodel\u001b[0m\u001b[0;34m.\u001b[0m\u001b[0madd\u001b[0m\u001b[0;34m(\u001b[0m\u001b[0mDense\u001b[0m\u001b[0;34m(\u001b[0m\u001b[0;36m1\u001b[0m\u001b[0;34m,\u001b[0m \u001b[0mactivation\u001b[0m\u001b[0;34m=\u001b[0m\u001b[0;34m'linear'\u001b[0m\u001b[0;34m)\u001b[0m\u001b[0;34m)\u001b[0m\u001b[0;34m\u001b[0m\u001b[0;34m\u001b[0m\u001b[0m\n\u001b[1;32m      5\u001b[0m     model.compile(optimizer=optimizer(learning_rate=learning_rate),\n",
      "\u001b[0;31mNameError\u001b[0m: name 'Sequential' is not defined"
     ]
    }
   ],
   "source": [
    "model = gru_model()\n",
    "model.fit((data_gen_train), epochs=300,callbacks=[early_stop])\n",
    "model.evaluate(data_gen_test)"
   ]
  },
  {
   "cell_type": "code",
   "execution_count": null,
   "id": "systematic-newsletter",
   "metadata": {},
   "outputs": [],
   "source": []
  }
 ],
 "metadata": {
  "kernelspec": {
   "display_name": "Python 3",
   "language": "python",
   "name": "python3"
  },
  "language_info": {
   "codemirror_mode": {
    "name": "ipython",
    "version": 3
   },
   "file_extension": ".py",
   "mimetype": "text/x-python",
   "name": "python",
   "nbconvert_exporter": "python",
   "pygments_lexer": "ipython3",
   "version": "3.8.5"
  }
 },
 "nbformat": 4,
 "nbformat_minor": 5
}
