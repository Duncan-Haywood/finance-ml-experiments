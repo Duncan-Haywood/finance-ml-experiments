{
 "cells": [
  {
   "cell_type": "code",
   "execution_count": 5,
   "id": "electoral-westminster",
   "metadata": {},
   "outputs": [],
   "source": [
    "import pandas_datareader\n",
    "import yfinance as yf"
   ]
  },
  {
   "cell_type": "code",
   "execution_count": 3,
   "id": "downtown-authorization",
   "metadata": {},
   "outputs": [
    {
     "ename": "SyntaxError",
     "evalue": "positional argument follows keyword argument (<ipython-input-3-9146e78a8747>, line 2)",
     "output_type": "error",
     "traceback": [
      "\u001b[0;36m  File \u001b[0;32m\"<ipython-input-3-9146e78a8747>\"\u001b[0;36m, line \u001b[0;32m2\u001b[0m\n\u001b[0;31m    pandas_datareader.av.forex.AVForexReader(symbols=tickers, api_key)\u001b[0m\n\u001b[0m                                                              ^\u001b[0m\n\u001b[0;31mSyntaxError\u001b[0m\u001b[0;31m:\u001b[0m positional argument follows keyword argument\n"
     ]
    }
   ],
   "source": [
    "tickers = ['AAPL', 'AMZN']\n",
    "# pandas_datareader.av.forex.AVForexReader(symbols=tickers, api_key)\n"
   ]
  },
  {
   "cell_type": "code",
   "execution_count": null,
   "id": "lyric-concern",
   "metadata": {},
   "outputs": [],
   "source": [
    "ticker = yf.Ticker(tickers[0])\n",
    "ticker"
   ]
  },
  {
   "cell_type": "code",
   "execution_count": null,
   "id": "accessible-granny",
   "metadata": {},
   "outputs": [],
   "source": []
  }
 ],
 "metadata": {
  "kernelspec": {
   "display_name": "Python tensorflow_venv",
   "language": "python",
   "name": "tensorflow_venv"
  },
  "language_info": {
   "codemirror_mode": {
    "name": "ipython",
    "version": 3
   },
   "file_extension": ".py",
   "mimetype": "text/x-python",
   "name": "python",
   "nbconvert_exporter": "python",
   "pygments_lexer": "ipython3",
   "version": "3.8.5"
  }
 },
 "nbformat": 4,
 "nbformat_minor": 5
}
