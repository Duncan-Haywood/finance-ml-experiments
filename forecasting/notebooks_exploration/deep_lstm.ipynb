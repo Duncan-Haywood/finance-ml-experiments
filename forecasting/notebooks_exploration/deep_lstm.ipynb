{
 "cells": [
  {
   "cell_type": "code",
   "execution_count": 11,
   "id": "intense-halloween",
   "metadata": {},
   "outputs": [],
   "source": [
    "import numpy as np\n",
    "import pandas as pd\n",
    "import pandas_datareader\n",
    "import yaml\n",
    "with open('./alpha_key.yml', 'r') as f:\n",
    "    ALPHA_API_KEY = yaml.safe_load(f)['alpha_api_key']\n",
    "    "
   ]
  },
  {
   "cell_type": "code",
   "execution_count": 12,
   "id": "ambient-collection",
   "metadata": {},
   "outputs": [],
   "source": [
    "tickers = ['AAPL']\n",
    "lookback=200\n",
    "metric = 'low'\n",
    "pc_metric = f'{metric}_percent_change'\n",
    "target_name = f'{pc_metric}_target'\n",
    "def format_dates(daily_stocks_data):\n",
    "    df = daily_stocks_data.copy() \n",
    "    df['date']=df.index\n",
    "    df.reset_index(inplace=True, drop=True)\n",
    "    return df\n",
    "def add_percent_change(daily_stocks_data, metric):\n",
    "    percents = list()\n",
    "    for index, row in daily_stocks_data.iterrows():\n",
    "        old = row[metric]\n",
    "        try:\n",
    "            new = daily_stocks_data.iloc[index + 1][metric]\n",
    "        except Exception as e:\n",
    "            percents.append(np.nan) ## no next value, so this is undefined\n",
    "            continue\n",
    "        percents.append((new-old)/new)\n",
    "    cp_df = daily_stocks_data.copy()\n",
    "    cp_df[f'{metric}_percent_change']=percents\n",
    "    return cp_df\n",
    "def to_ts_df(daily_stocks_data, lookback, metric):\n",
    "    ## column names\n",
    "    columns = list()\n",
    "    for i in range(lookback):\n",
    "        columns.append(f'{metric}_{i}')\n",
    "    columns.append(f'{metric}_target')\n",
    "    df = pd.DataFrame(columns=columns)\n",
    "    ## columns\n",
    "    data = daily_stocks_data[metric].to_numpy()\n",
    "    for index, col in enumerate(df.columns):\n",
    "        df[col] = data[index:len(data)-lookback+index]\n",
    "    ## dates index\n",
    "    dates = daily_stocks_data.date.to_numpy()[:-lookback]\n",
    "    df.insert(0, 'dates', dates)\n",
    "    return df"
   ]
  },
  {
   "cell_type": "code",
   "execution_count": null,
   "id": "detected-transcript",
   "metadata": {},
   "outputs": [],
   "source": [
    "daily_stocks_data_raw = pandas_datareader.av.time_series.AVTimeSeriesReader(symbols=tickers, api_key=ALPHA_API_KEY, function='TIME_SERIES_DAILY').read()\n",
    "daily_stocks_data = format_dates(daily_stocks_data_raw) \n",
    "daily_stocks_data = add_percent_change(daily_stocks_data, metric)\n",
    "display(daily_stocks_data)\n",
    "sns.lineplot(data=daily_stocks_data[pc_metric])\n",
    "plt.show()\n",
    "ts_df = to_ts_df(daily_stocks_data, lookback, pc_metric)\n",
    "display(ts_df)\n",
    "# sns.pairplot(daily_stocks_data)\n",
    "# plt.show()"
   ]
  },
  {
   "cell_type": "code",
   "execution_count": null,
   "id": "loaded-howard",
   "metadata": {},
   "outputs": [],
   "source": []
  }
 ],
 "metadata": {
  "kernelspec": {
   "display_name": "tensorflow_finance_conda",
   "language": "python",
   "name": "tensorflow_finance_conda"
  },
  "language_info": {
   "codemirror_mode": {
    "name": "ipython",
    "version": 3
   },
   "file_extension": ".py",
   "mimetype": "text/x-python",
   "name": "python",
   "nbconvert_exporter": "python",
   "pygments_lexer": "ipython3",
   "version": "3.8.5"
  }
 },
 "nbformat": 4,
 "nbformat_minor": 5
}
