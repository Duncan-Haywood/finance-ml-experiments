{
 "cells": [
  {
   "cell_type": "code",
   "execution_count": 1,
   "id": "reasonable-integration",
   "metadata": {},
   "outputs": [],
   "source": [
    "def predict_tomorrow(previous_days, model):\n",
    "    y_pred = model.predict(previous_days)\n",
    "    return y_pred\n",
    "def update_to_tomorrow(previous_days, y_pred):\n",
    "    new_days = previous_days[1:-1].append(y_pred)\n",
    "    return new_days\n",
    "def pred_next_days(num_days, previous_days, model):\n",
    "    y_preds = list()\n",
    "    new_days = previous_days\n",
    "    for day in num_days:\n",
    "        y_pred = predict_tomorrow(new_days, model)\n",
    "        new_days = update_to_tomorrow(new_days, y_pred)\n",
    "        y_preds.append(y_pred)\n",
    "    return(y_preds)"
   ]
  }
 ],
 "metadata": {
  "kernelspec": {
   "display_name": "Python 3",
   "language": "python",
   "name": "python3"
  },
  "language_info": {
   "codemirror_mode": {
    "name": "ipython",
    "version": 3
   },
   "file_extension": ".py",
   "mimetype": "text/x-python",
   "name": "python",
   "nbconvert_exporter": "python",
   "pygments_lexer": "ipython3",
   "version": "3.8.5"
  }
 },
 "nbformat": 4,
 "nbformat_minor": 5
}
