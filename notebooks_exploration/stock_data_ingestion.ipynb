{
 "cells": [
  {
   "cell_type": "markdown",
   "id": "measured-silly",
   "metadata": {},
   "source": [
    "## Data Ingestion."
   ]
  },
  {
   "cell_type": "code",
   "execution_count": 4,
   "id": "disturbed-drunk",
   "metadata": {},
   "outputs": [],
   "source": [
    "## if packages aren't installed yet, run the following line\n",
    "# !pip install matplotlib seaborn pandas numpy pandas_datareader requests_cache\n",
    "\n",
    "import pandas as pd\n",
    "import numpy as np\n",
    "import matplotlib.pyplot as plt\n",
    "import seaborn as sns\n",
    "sns.set_style('whitegrid')\n",
    "plt.style.use(\"fivethirtyeight\")\n",
    "%matplotlib inline\n",
    "## For reading stock data from yahoo\n",
    "from pandas_datareader.data import DataReader\n",
    "## the following package is used with the datareader to prevent overburdening the site.\n",
    "import requests_cache\n",
    "## For time stamps\n",
    "from datetime import datetime, timedelta, date"
   ]
  },
  {
   "cell_type": "code",
   "execution_count": 7,
   "id": "described-evening",
   "metadata": {},
   "outputs": [],
   "source": [
    "## The tech stocks we'll use for this analysis\n",
    "stock_list = ['GSIT', 'ICAD', 'XAIR', 'LTRN', 'ARKK', 'ARKF', 'ARKW']\n",
    "## Set up End and Start times for data grab\n",
    "end = datetime.now()\n",
    "start = datetime(end.year - 5, end.month, end.day)\n",
    "\n",
    "## set up cache\n",
    "expire_after = timedelta(days=1)\n",
    "session = requests_cache.CachedSession(cache_name='cache', backend='sqlite', expire_after=expire_after)\n",
    "\n",
    "## For loop for grabing yahoo finance data and setting as a dataframe\n",
    "for stock in stock_list:   \n",
    "    ## Set DataFrame as the Stock Ticker\n",
    "    globals()[stock] = DataReader(stock, 'yahoo', start, end, session=session)\n",
    "## Quick note: Using globals() is a sloppy way of setting the DataFrame names, but its simple\n",
    "\n",
    "## these are from the globals() variables\n",
    "company_list = [GSIT, ICAD, XAIR, LTRN, ARKK, ARKF, ARKW]\n",
    "\n",
    "for company, stock_name in zip(company_list, stock_list):\n",
    "    company[\"company_name\"] = stock_name\n",
    "\n",
    "## adds all the dataframes into one larger\n",
    "stocks_df = pd.concat(company_list, axis=0)\n",
    "## shows a random selection of rows\n",
    "stocks_df.sample(n=10) \n",
    "stocks_df.to_pickle('../data/stocks_df_{}.pickle'.format(date.today()))"
   ]
  },
  {
   "cell_type": "code",
   "execution_count": 6,
   "id": "northern-invention",
   "metadata": {},
   "outputs": [
    {
     "name": "stdout",
     "output_type": "stream",
     "text": [
      "GSIT 1260\n",
      "ICAD 1260\n",
      "XAIR 678\n",
      "LTRN 175\n",
      "ARKK 1260\n",
      "ARKF 516\n",
      "ARKW 1260\n"
     ]
    }
   ],
   "source": [
    "for name in stock_list:\n",
    "    print(name, len(stocks_df[stocks_df.company_name==name]['Adj Close'].values))"
   ]
  },
  {
   "cell_type": "code",
   "execution_count": null,
   "id": "smaller-haven",
   "metadata": {},
   "outputs": [],
   "source": []
  },
  {
   "cell_type": "code",
   "execution_count": null,
   "id": "impressed-indie",
   "metadata": {},
   "outputs": [],
   "source": []
  }
 ],
 "metadata": {
  "kernelspec": {
   "display_name": "Python 3",
   "language": "python",
   "name": "python3"
  },
  "language_info": {
   "codemirror_mode": {
    "name": "ipython",
    "version": 3
   },
   "file_extension": ".py",
   "mimetype": "text/x-python",
   "name": "python",
   "nbconvert_exporter": "python",
   "pygments_lexer": "ipython3",
   "version": "3.8.5"
  }
 },
 "nbformat": 4,
 "nbformat_minor": 5
}
