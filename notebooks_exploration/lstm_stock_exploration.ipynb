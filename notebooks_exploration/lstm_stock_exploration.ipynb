{
 "cells": [
  {
   "cell_type": "code",
   "execution_count": 1,
   "id": "silver-biology",
   "metadata": {},
   "outputs": [],
   "source": [
    "from stock_data_ingestion import ingest_stocks_to_df\n",
    "import seaborn as sns\n",
    "import matplotlib.pyplot as plt\n",
    "import pandas as pd\n",
    "from IPython.display import display \n",
    "from keras.layers import LSTM, Dense, Input\n",
    "from keras import Sequential\n",
    "from sklearn.model_selection import TimeSeriesSplit\n",
    "from keras.optimizers import Adam, SGD\n",
    "from keras.losses import MeanSquaredError\n",
    "import numpy as np\n",
    "from keras.wrappers.scikit_learn import KerasRegressor\n",
    "from keras.preprocessing.sequence import TimeseriesGenerator"
   ]
  },
  {
   "cell_type": "markdown",
   "id": "finite-thompson",
   "metadata": {},
   "source": [
    "## Data Preprocessing"
   ]
  },
  {
   "cell_type": "code",
   "execution_count": 6,
   "id": "uniform-precipitation",
   "metadata": {
    "scrolled": true
   },
   "outputs": [
    {
     "data": {
      "text/html": [
       "<div>\n",
       "<style scoped>\n",
       "    .dataframe tbody tr th:only-of-type {\n",
       "        vertical-align: middle;\n",
       "    }\n",
       "\n",
       "    .dataframe tbody tr th {\n",
       "        vertical-align: top;\n",
       "    }\n",
       "\n",
       "    .dataframe thead th {\n",
       "        text-align: right;\n",
       "    }\n",
       "</style>\n",
       "<table border=\"1\" class=\"dataframe\">\n",
       "  <thead>\n",
       "    <tr style=\"text-align: right;\">\n",
       "      <th></th>\n",
       "      <th>High</th>\n",
       "      <th>Low</th>\n",
       "      <th>Open</th>\n",
       "      <th>Close</th>\n",
       "      <th>Volume</th>\n",
       "      <th>Adj Close</th>\n",
       "      <th>company_name</th>\n",
       "    </tr>\n",
       "    <tr>\n",
       "      <th>Date</th>\n",
       "      <th></th>\n",
       "      <th></th>\n",
       "      <th></th>\n",
       "      <th></th>\n",
       "      <th></th>\n",
       "      <th></th>\n",
       "      <th></th>\n",
       "    </tr>\n",
       "  </thead>\n",
       "  <tbody>\n",
       "    <tr>\n",
       "      <th>2015-02-27</th>\n",
       "      <td>5.780000</td>\n",
       "      <td>5.660000</td>\n",
       "      <td>5.780000</td>\n",
       "      <td>5.710000</td>\n",
       "      <td>15600.0</td>\n",
       "      <td>5.710000</td>\n",
       "      <td>GSIT</td>\n",
       "    </tr>\n",
       "    <tr>\n",
       "      <th>2015-03-02</th>\n",
       "      <td>5.770000</td>\n",
       "      <td>5.680000</td>\n",
       "      <td>5.700000</td>\n",
       "      <td>5.770000</td>\n",
       "      <td>8400.0</td>\n",
       "      <td>5.770000</td>\n",
       "      <td>GSIT</td>\n",
       "    </tr>\n",
       "    <tr>\n",
       "      <th>2015-03-03</th>\n",
       "      <td>5.800000</td>\n",
       "      <td>5.750000</td>\n",
       "      <td>5.750000</td>\n",
       "      <td>5.800000</td>\n",
       "      <td>20300.0</td>\n",
       "      <td>5.800000</td>\n",
       "      <td>GSIT</td>\n",
       "    </tr>\n",
       "    <tr>\n",
       "      <th>2015-03-04</th>\n",
       "      <td>5.800000</td>\n",
       "      <td>5.700000</td>\n",
       "      <td>5.780000</td>\n",
       "      <td>5.760000</td>\n",
       "      <td>24300.0</td>\n",
       "      <td>5.760000</td>\n",
       "      <td>GSIT</td>\n",
       "    </tr>\n",
       "    <tr>\n",
       "      <th>2015-03-05</th>\n",
       "      <td>5.850000</td>\n",
       "      <td>5.790000</td>\n",
       "      <td>5.790000</td>\n",
       "      <td>5.840000</td>\n",
       "      <td>15900.0</td>\n",
       "      <td>5.840000</td>\n",
       "      <td>GSIT</td>\n",
       "    </tr>\n",
       "    <tr>\n",
       "      <th>...</th>\n",
       "      <td>...</td>\n",
       "      <td>...</td>\n",
       "      <td>...</td>\n",
       "      <td>...</td>\n",
       "      <td>...</td>\n",
       "      <td>...</td>\n",
       "      <td>...</td>\n",
       "    </tr>\n",
       "    <tr>\n",
       "      <th>2021-02-22</th>\n",
       "      <td>182.440002</td>\n",
       "      <td>175.059998</td>\n",
       "      <td>181.000000</td>\n",
       "      <td>175.289993</td>\n",
       "      <td>2661300.0</td>\n",
       "      <td>175.289993</td>\n",
       "      <td>ARKW</td>\n",
       "    </tr>\n",
       "    <tr>\n",
       "      <th>2021-02-23</th>\n",
       "      <td>170.748993</td>\n",
       "      <td>156.880005</td>\n",
       "      <td>165.570007</td>\n",
       "      <td>170.160004</td>\n",
       "      <td>6246800.0</td>\n",
       "      <td>170.160004</td>\n",
       "      <td>ARKW</td>\n",
       "    </tr>\n",
       "    <tr>\n",
       "      <th>2021-02-24</th>\n",
       "      <td>171.776001</td>\n",
       "      <td>165.910004</td>\n",
       "      <td>169.100006</td>\n",
       "      <td>170.539993</td>\n",
       "      <td>2394900.0</td>\n",
       "      <td>170.539993</td>\n",
       "      <td>ARKW</td>\n",
       "    </tr>\n",
       "    <tr>\n",
       "      <th>2021-02-25</th>\n",
       "      <td>171.509995</td>\n",
       "      <td>158.919998</td>\n",
       "      <td>168.910004</td>\n",
       "      <td>160.259995</td>\n",
       "      <td>3364400.0</td>\n",
       "      <td>160.259995</td>\n",
       "      <td>ARKW</td>\n",
       "    </tr>\n",
       "    <tr>\n",
       "      <th>2021-02-26</th>\n",
       "      <td>163.559998</td>\n",
       "      <td>155.949997</td>\n",
       "      <td>161.020004</td>\n",
       "      <td>160.889999</td>\n",
       "      <td>2701300.0</td>\n",
       "      <td>160.889999</td>\n",
       "      <td>ARKW</td>\n",
       "    </tr>\n",
       "  </tbody>\n",
       "</table>\n",
       "<p>7428 rows × 7 columns</p>\n",
       "</div>"
      ],
      "text/plain": [
       "                  High         Low        Open       Close     Volume  \\\n",
       "Date                                                                    \n",
       "2015-02-27    5.780000    5.660000    5.780000    5.710000    15600.0   \n",
       "2015-03-02    5.770000    5.680000    5.700000    5.770000     8400.0   \n",
       "2015-03-03    5.800000    5.750000    5.750000    5.800000    20300.0   \n",
       "2015-03-04    5.800000    5.700000    5.780000    5.760000    24300.0   \n",
       "2015-03-05    5.850000    5.790000    5.790000    5.840000    15900.0   \n",
       "...                ...         ...         ...         ...        ...   \n",
       "2021-02-22  182.440002  175.059998  181.000000  175.289993  2661300.0   \n",
       "2021-02-23  170.748993  156.880005  165.570007  170.160004  6246800.0   \n",
       "2021-02-24  171.776001  165.910004  169.100006  170.539993  2394900.0   \n",
       "2021-02-25  171.509995  158.919998  168.910004  160.259995  3364400.0   \n",
       "2021-02-26  163.559998  155.949997  161.020004  160.889999  2701300.0   \n",
       "\n",
       "             Adj Close company_name  \n",
       "Date                                 \n",
       "2015-02-27    5.710000         GSIT  \n",
       "2015-03-02    5.770000         GSIT  \n",
       "2015-03-03    5.800000         GSIT  \n",
       "2015-03-04    5.760000         GSIT  \n",
       "2015-03-05    5.840000         GSIT  \n",
       "...                ...          ...  \n",
       "2021-02-22  175.289993         ARKW  \n",
       "2021-02-23  170.160004         ARKW  \n",
       "2021-02-24  170.539993         ARKW  \n",
       "2021-02-25  160.259995         ARKW  \n",
       "2021-02-26  160.889999         ARKW  \n",
       "\n",
       "[7428 rows x 7 columns]"
      ]
     },
     "metadata": {},
     "output_type": "display_data"
    },
    {
     "name": "stdout",
     "output_type": "stream",
     "text": [
      "GSIT len 1511\n",
      "ICAD len 1511\n",
      "XAIR len 683\n",
      "LTRN len 180\n",
      "ARKK len 1511\n",
      "ARKF len 521\n",
      "ARKW len 1511\n"
     ]
    },
    {
     "data": {
      "image/png": "[encoded data removed]",
      "text/plain": [
       "<Figure size 432x288 with 1 Axes>"
      ]
     },
     "metadata": {
      "needs_background": "light"
     },
     "output_type": "display_data"
    }
   ],
   "source": [
    "## comment first line out after first use to prevent \n",
    "## giving the source website for the stocks too much traffic. \n",
    "# stocks_df = ingest_stocks_to_df()\n",
    "# stock_list = stocks_df.company_name.unique()\n",
    "# # displays\n",
    "# display(stocks_df)\n",
    "# for stock in stock_list:\n",
    "#     print(stock, 'len', len(stocks_df[stocks_df.company_name == stock].index))\n",
    "# sns.lineplot(x=stocks_df.index, y='Adj Close',data=stocks_df, legend='auto', hue='company_name')\n",
    "# plt.show()"
   ]
  },
  {
   "cell_type": "code",
   "execution_count": 7,
   "id": "contained-bronze",
   "metadata": {},
   "outputs": [],
   "source": [
    "def get_data_targets(stock_arr, sequence_inlength):\n",
    "    \"\"\"where stock_arr is sequential np.array and \n",
    "    sequence_inlength is the length of the data sequences\"\"\"\n",
    "    x, y = list(), list()\n",
    "    for index in range(sequence_inlength, len(stock_arr)):\n",
    "        window = stock_arr[index-sequence_inlength:index]\n",
    "        x.append(window)\n",
    "        y.append([stock_arr[index]])\n",
    "    data = np.array(x)\n",
    "    targets = np.array(y)\n",
    "    return data, targets\n",
    "def to_ts_data(stock=stock_list[0], sequence_inlength=60):\n",
    "    stock_arr = stocks_df[stocks_df.company_name == stock]['Adj Close'].to_numpy()\n",
    "    data, targets = get_data_targets(stock_arr, sequence_inlength)\n",
    "#     display(data, targets)\n",
    "    data_gen = TimeseriesGenerator(data, targets, length=sequence_inlength)\n",
    "    ##shape (number of batches, input number of steps before prediction, feature-dimensions for input)\n",
    "    return data_gen"
   ]
  },
  {
   "cell_type": "markdown",
   "id": "innocent-sustainability",
   "metadata": {},
   "source": [
    "## Model Building"
   ]
  },
  {
   "cell_type": "code",
   "execution_count": 8,
   "id": "nutritional-kuwait",
   "metadata": {},
   "outputs": [],
   "source": [
    "def lstm_model(nodes_lstm=50, dropout=0.0, recurrent_dropout=0.0, learning_rate=0.01, loss='mse', optimizer=Adam, metrics=['mse']):\n",
    "    lstm_layer = LSTM(nodes_lstm, dropout=dropout, recurrent_dropout=recurrent_dropout)\n",
    "    model = Sequential()\n",
    "#     model.add(Input((1,1)))\n",
    "    model.add(lstm_layer)\n",
    "    model.add(Dense(1, activation='linear'))\n",
    "    model.compile(optimizer=optimizer(learning_rate=learning_rate),\n",
    "              loss=loss,\n",
    "              metrics=metrics)\n",
    "    return model\n",
    "# lstm_model().summary()"
   ]
  },
  {
   "cell_type": "code",
   "execution_count": 12,
   "id": "indirect-nutrition",
   "metadata": {},
   "outputs": [
    {
     "name": "stdout",
     "output_type": "stream",
     "text": [
      "11/11 [==============================] - 3s 59ms/step - loss: 12.2952 - mse: 12.2952\n"
     ]
    },
    {
     "data": {
      "text/plain": [
       "<tensorflow.python.keras.callbacks.History at 0x7fb4964aaf10>"
      ]
     },
     "execution_count": 12,
     "metadata": {},
     "output_type": "execute_result"
    }
   ],
   "source": [
    "data_gen = to_ts_data() \n",
    "# display(data_gen, len(data_gen), data_gen[0])\n",
    "model = lstm_model()\n",
    "model.fit(data_gen)\n",
    "# kr = KerasRegressor(build_fn=lstm_model())\n",
    "# display(kr.get_params())\n",
    "# kr.fit(data_gen)"
   ]
  },
  {
   "cell_type": "code",
   "execution_count": 13,
   "id": "auburn-boating",
   "metadata": {},
   "outputs": [
    {
     "name": "stdout",
     "output_type": "stream",
     "text": [
      "Model: \"sequential_4\"\n",
      "_________________________________________________________________\n",
      "Layer (type)                 Output Shape              Param #   \n",
      "=================================================================\n",
      "lstm_4 (LSTM)                (None, 50)                22200     \n",
      "_________________________________________________________________\n",
      "dense_4 (Dense)              (None, 1)                 51        \n",
      "=================================================================\n",
      "Total params: 22,251\n",
      "Trainable params: 22,251\n",
      "Non-trainable params: 0\n",
      "_________________________________________________________________\n"
     ]
    }
   ],
   "source": [
    "model.summary()"
   ]
  },
  {
   "cell_type": "code",
   "execution_count": null,
   "id": "neural-brazil",
   "metadata": {},
   "outputs": [],
   "source": [
    "model.predict()"
   ]
  }
 ],
 "metadata": {
  "kernelspec": {
   "display_name": "Python 3",
   "language": "python",
   "name": "python3"
  },
  "language_info": {
   "codemirror_mode": {
    "name": "ipython",
    "version": 3
   },
   "file_extension": ".py",
   "mimetype": "text/x-python",
   "name": "python",
   "nbconvert_exporter": "python",
   "pygments_lexer": "ipython3",
   "version": "3.8.5"
  }
 },
 "nbformat": 4,
 "nbformat_minor": 5
}
