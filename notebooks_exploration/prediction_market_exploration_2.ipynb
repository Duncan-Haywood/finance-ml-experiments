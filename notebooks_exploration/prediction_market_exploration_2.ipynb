{
 "cells": [
  {
   "cell_type": "code",
   "execution_count": 22,
   "id": "honey-trunk",
   "metadata": {},
   "outputs": [],
   "source": [
    "from IPython.display import display\n",
    "from stock_data_ingestion import ingest_stocks_to_df\n",
    "import seaborn as sns\n",
    "import matplotlib.pyplot as plt\n",
    "from preprocessing_ts_keras_finance import to_ts_data\n",
    "from keras.layers import LSTM, Dense\n",
    "from keras.callbacks import EarlyStopping\n",
    "from keras.optimizers import Adam\n"
   ]
  },
  {
   "cell_type": "markdown",
   "id": "separate-hearing",
   "metadata": {},
   "source": [
    "## data preprocessing/loading"
   ]
  },
  {
   "cell_type": "code",
   "execution_count": 23,
   "id": "compliant-boutique",
   "metadata": {
    "scrolled": true
   },
   "outputs": [],
   "source": [
    "# comment first line out after first use to prevent \n",
    "# giving the source website for the stocks too much traffic. \n",
    "# stocks_df = ingest_stocks_to_df()\n",
    "# stock_list = stocks_df.company_name.unique()\n",
    "# # displays\n",
    "# display(stocks_df)\n",
    "# for stock in stock_list:\n",
    "#     print(stock, 'len', len(stocks_df[stocks_df.company_name == stock].index))\n",
    "# sns.lineplot(x=stocks_df.index, y='Adj Close',data=stocks_df, legend='auto', hue='company_name')\n",
    "# plt.show()\n",
    "# data_gen_train, data_gen_test = to_ts_data(stock_list[0], stocks_df) "
   ]
  },
  {
   "cell_type": "markdown",
   "id": "monetary-tonight",
   "metadata": {},
   "source": [
    "## Model Building, \n",
    "exploration of best in first round\n",
    "- bi_stack_lstm_model(): 0.49 MSE test, 2.7211 train\n",
    "- lstm_dense_model(): 0.4828 MSE test, 2.7904 train\n",
    "- gru_model() 0.5256 MSE test, 2.4440 train\n",
    "- stack_3_lstm_model 0.558 MSE test, 2.9509 train"
   ]
  },
  {
   "cell_type": "markdown",
   "id": "scheduled-settle",
   "metadata": {},
   "source": [
    "# Pre-existing models"
   ]
  },
  {
   "cell_type": "code",
   "execution_count": 24,
   "id": "agricultural-fiction",
   "metadata": {},
   "outputs": [],
   "source": [
    "def gru_model(nodes=50, dropout=0.0, recurrent_dropout=0.0, learning_rate=0.01, loss='mse', optimizer=Adam, metrics=['mse']):\n",
    "    model = Sequential()\n",
    "    model.add(GRU(nodes))\n",
    "    model.add(Dense(1, activation='linear'))\n",
    "    model.compile(optimizer=optimizer(learning_rate=learning_rate),\n",
    "              loss=loss,\n",
    "              metrics=metrics)\n",
    "    return model\n",
    "def stack_3_lstm_model(nodes_lstm=50, dropout=0.0, recurrent_dropout=0.0, learning_rate=0.01, loss='mse', optimizer=Adam, metrics=['mse']):\n",
    "    lstm_layer = LSTM(nodes_lstm, dropout=dropout, recurrent_dropout=recurrent_dropout, return_sequences=True)\n",
    "    model = Sequential()\n",
    "    model.add(lstm_layer)\n",
    "    model.add(lstm_layer)\n",
    "    model.add(lstm_layer)\n",
    "    model.add(Dense(1, activation='linear'))\n",
    "    model.compile(optimizer=optimizer(learning_rate=learning_rate),\n",
    "              loss=loss,\n",
    "              metrics=metrics)\n",
    "    return model\n",
    "def lstm_dense_model(nodes_lstm=50, dropout=0.0, recurrent_dropout=0.0, learning_rate=0.01, loss='mse', optimizer=Adam, metrics=['mse']):\n",
    "    lstm_layer = LSTM(nodes_lstm, dropout=dropout, recurrent_dropout=recurrent_dropout)\n",
    "    model = Sequential()\n",
    "#     model.add(Input((1,1)))\n",
    "    model.add(lstm_layer)\n",
    "    model.add(Dense(32))\n",
    "    model.add(Activation(relu))\n",
    "    model.add(Dense(1, activation='linear'))\n",
    "    model.compile(optimizer=optimizer(learning_rate=learning_rate),\n",
    "              loss=loss,\n",
    "              metrics=metrics)\n",
    "    return model\n",
    "def bi_stack_lstm_model(nodes_lstm=50, dropout=0.0, recurrent_dropout=0.0, learning_rate=0.01, loss='mse', optimizer=Adam, metrics=['mse']):\n",
    "    lstm_layer = LSTM(nodes_lstm, recurrent_dropout=recurrent_dropout, return_sequences=True)\n",
    "    model = Sequential()\n",
    "    model.add(Bidirectional(lstm_layer))\n",
    "    model.add(Bidirectional(lstm_layer))\n",
    "    model.add(Dense(1, activation='linear'))\n",
    "    model.compile(optimizer=optimizer(learning_rate=learning_rate),\n",
    "              loss=loss,\n",
    "              metrics=metrics)\n",
    "    return model"
   ]
  },
  {
   "cell_type": "markdown",
   "id": "rough-wagner",
   "metadata": {},
   "source": [
    "## Model eval\n",
    "iterative predicting into the future; plotting. "
   ]
  },
  {
   "cell_type": "code",
   "execution_count": 25,
   "id": "delayed-pierce",
   "metadata": {},
   "outputs": [],
   "source": [
    "early_stop = EarlyStopping(monitor='loss', patience=10, restore_best_weights=True)"
   ]
  },
  {
   "cell_type": "code",
   "execution_count": 26,
   "id": "known-shower",
   "metadata": {},
   "outputs": [
    {
     "ename": "SyntaxError",
     "evalue": "invalid syntax (<ipython-input-26-abda5d73fa5f>, line 1)",
     "output_type": "error",
     "traceback": [
      "\u001b[0;36m  File \u001b[0;32m\"<ipython-input-26-abda5d73fa5f>\"\u001b[0;36m, line \u001b[0;32m1\u001b[0m\n\u001b[0;31m    def get_init_sixty_days()\u001b[0m\n\u001b[0m                             ^\u001b[0m\n\u001b[0;31mSyntaxError\u001b[0m\u001b[0;31m:\u001b[0m invalid syntax\n"
     ]
    }
   ],
   "source": [
    "def get_init_sixty_days()\n",
    "def predict(init_sixty_days, days_into_future=20):\n",
    "    sixty_days = init_sixty_days.copy()\n",
    "    y_preds = list()\n",
    "    for day in days_into_future:\n",
    "        y_pred = model.predict(sixty_days)\n",
    "        y_preds.append(y_pred)\n",
    "        sixty_days = sixty_days[1:-1].append(y_pred) ## move day forward one w/ predicted val.\n",
    "    return y_preds"
   ]
  },
  {
   "cell_type": "code",
   "execution_count": null,
   "id": "systematic-newsletter",
   "metadata": {},
   "outputs": [],
   "source": [
    "def compare_pred_targets(y_preds, targets):\n",
    "    "
   ]
  }
 ],
 "metadata": {
  "kernelspec": {
   "display_name": "Python 3",
   "language": "python",
   "name": "python3"
  },
  "language_info": {
   "codemirror_mode": {
    "name": "ipython",
    "version": 3
   },
   "file_extension": ".py",
   "mimetype": "text/x-python",
   "name": "python",
   "nbconvert_exporter": "python",
   "pygments_lexer": "ipython3",
   "version": "3.8.5"
  }
 },
 "nbformat": 4,
 "nbformat_minor": 5
}
