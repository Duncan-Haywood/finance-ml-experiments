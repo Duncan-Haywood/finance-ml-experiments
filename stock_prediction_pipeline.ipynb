{
 "cells": [
  {
   "cell_type": "code",
   "execution_count": 191,
   "id": "competitive-testimony",
   "metadata": {},
   "outputs": [],
   "source": [
    "## run following in termminal (or in notebook) if needed to get packages to work\n",
    "# !conda create -n tensorflow\n",
    "# !source activate tensorflow\n",
    "# !pip install jupyter notebook\n",
    "# !jupyter-notebook\n",
    "# !which pip\n",
    "# !pip install tensorflow\n",
    "# !pip install keras\n",
    "# !pip install sklearn pandas numpy seaborn\n",
    "import tensorflow\n",
    "from keras.models import Sequential\n",
    "from keras.layers import Dense, LSTM\n",
    "from sklearn.pipeline import Pipeline, FeatureUnion\n",
    "from tensorflow.keras.wrappers.scikit_learn import KerasRegressor\n",
    "from sklearn.preprocessing import MinMaxScaler, Normalizer, StandardScaler\n",
    "import pandas as pd\n",
    "import numpy as np\n",
    "from sklearn.linear_model import LinearRegression\n",
    "import seaborn as sns\n",
    "import matplotlib.pyplot as plt\n",
    "from sklearn.model_selection import GridSearchCV\n",
    "from sklearn.neural_network import MLPRegressor\n",
    "from sklearn.svm import SVR\n",
    "from sklearn.tree import DecisionTreeRegressor\n",
    "from sklearn.metrics import r2_score as r2\n",
    "from sklearn.metrics import explained_variance_score as evs\n",
    "from sklearn.metrics import mean_absolute_percentage_error as mape"
   ]
  },
  {
   "cell_type": "code",
   "execution_count": 179,
   "id": "executive-commissioner",
   "metadata": {},
   "outputs": [],
   "source": [
    "def load_df():\n",
    "    stocks_df = pd.read_pickle('./data/stocks_df_2021-02-16.pickle')\n",
    "    stocks_df.sort_values(by=['Date'], inplace=True)\n",
    "    return stocks_df\n",
    "# stocks_df.head()\n",
    "\n",
    "def get_data(stocks_df):\n",
    "    data = stocks_df.Close\n",
    "    return data\n",
    "def get_train_length(data):\n",
    "    train_length = int(np.ceil(len(data.values)*0.8))\n",
    "    return train_length\n",
    "def get_train_test_split(data, train_length):\n",
    "    train_length = get_train_length(data)\n",
    "    training_set = data.iloc[:train_length].values\n",
    "    test_set = data.iloc[train_length:].values\n",
    "    return training_set, test_set\n",
    "def get_x_y_split(data_set):\n",
    "    # Creating a data structure with 60 time-steps and 1 output\n",
    "    length=len(data_set)\n",
    "    X = []\n",
    "    y = []\n",
    "    for i in range(60, length):\n",
    "        X.append(data_set[i-60:i])\n",
    "        y.append(data_set[i])\n",
    "    X, y = np.array(X), np.array(y)\n",
    "    X = np.reshape(X, (X.shape[0], X.shape[1]))\n",
    "    return X, y\n",
    "def timeseries_test_train_split():\n",
    "    stocks_df = load_df()\n",
    "    data = get_data(stocks_df)\n",
    "    train_length = get_train_length(data)\n",
    "    training_set, test_set = get_train_test_split(data, train_length)\n",
    "    X_train, y_train = get_x_y_split(training_set)\n",
    "    X_test, y_test = get_x_y_split(test_set)\n",
    "    return X_train, y_train, X_test, y_test\n",
    "# scaler = MinMaxScaler(feature_range=(0,1))\n",
    "# scaled_data = scaler.fit_transform(data)\n",
    "# pipe = Pipeline(('scaler', MinMaxScaler(feature_range=(0,1)))) "
   ]
  },
  {
   "cell_type": "code",
   "execution_count": 180,
   "id": "portuguese-irrigation",
   "metadata": {},
   "outputs": [],
   "source": [
    "# def run():\n",
    "X_train, y_train, X_test, y_test = timeseries_test_train_split()"
   ]
  },
  {
   "cell_type": "code",
   "execution_count": 200,
   "id": "threatened-library",
   "metadata": {},
   "outputs": [],
   "source": [
    "transformers = FeatureUnion([('scaler', MinMaxScaler()), ('norm', Normalizer())])\n",
    "pipe = Pipeline([('preprocess', StandardScaler()), ('predictor', LinearRegression())])"
   ]
  },
  {
   "cell_type": "code",
   "execution_count": 201,
   "id": "elementary-forum",
   "metadata": {},
   "outputs": [],
   "source": [
    "lr_grid = {'predictor': [LinearRegression()]}\n",
    "svr_grid = {\n",
    "    'predictor': [SVR()],\n",
    "    'predictor__kernel': ['linear', 'poly', 'rbf', 'sigmoid']   \n",
    "}\n",
    "d_tree_grid = {\n",
    "    'predictor': [DecisionTreeRegressor()],\n",
    "    'predictor__criterion': ['mse', 'friedman_mse', 'mae', 'poisson']  \n",
    "}\n",
    "mlp_grid = {\n",
    "    'predictor': [MLPRegressor()],\n",
    "    'predictor__learning_rate_init': [0.001],\n",
    "    'predictor__random_state': [1],\n",
    "    'predictor__max_iter': [500],\n",
    "    'predictor__activation': ['relu','tanh','logistic'],\n",
    "    'predictor__hidden_layer_sizes': [(100,),(50,),(125,)]\n",
    "}\n",
    "\n",
    "param_grid = [\n",
    "#     {**lr_grid},\n",
    "#     {**mlp_grid},\n",
    "#     {**svr_grid}\n",
    "    {**d_tree_grid}\n",
    "    \n",
    "]"
   ]
  },
  {
   "cell_type": "code",
   "execution_count": 202,
   "id": "resident-great",
   "metadata": {
    "scrolled": true
   },
   "outputs": [
    {
     "name": "stdout",
     "output_type": "stream",
     "text": [
      "Fitting 3 folds for each of 4 candidates, totalling 12 fits\n",
      "[CV 1/3] END predictor=DecisionTreeRegressor(), predictor__criterion=mse; total time=   0.1s\n",
      "[CV 2/3] END predictor=DecisionTreeRegressor(), predictor__criterion=mse; total time=   0.1s\n",
      "[CV 3/3] END predictor=DecisionTreeRegressor(), predictor__criterion=mse; total time=   0.1s\n",
      "[CV 1/3] END predictor=DecisionTreeRegressor(), predictor__criterion=friedman_mse; total time=   0.1s\n",
      "[CV 2/3] END predictor=DecisionTreeRegressor(), predictor__criterion=friedman_mse; total time=   0.1s\n",
      "[CV 3/3] END predictor=DecisionTreeRegressor(), predictor__criterion=friedman_mse; total time=   0.1s\n",
      "[CV 1/3] END predictor=DecisionTreeRegressor(), predictor__criterion=mae; total time=   1.6s\n",
      "[CV 2/3] END predictor=DecisionTreeRegressor(), predictor__criterion=mae; total time=   1.2s\n",
      "[CV 3/3] END predictor=DecisionTreeRegressor(), predictor__criterion=mae; total time=   0.8s\n",
      "[CV 1/3] END predictor=DecisionTreeRegressor(), predictor__criterion=poisson; total time=   0.5s\n",
      "[CV 2/3] END predictor=DecisionTreeRegressor(), predictor__criterion=poisson; total time=   0.4s\n",
      "[CV 3/3] END predictor=DecisionTreeRegressor(), predictor__criterion=poisson; total time=   0.4s\n"
     ]
    },
    {
     "data": {
      "text/plain": [
       "GridSearchCV(cv=3,\n",
       "             estimator=Pipeline(steps=[('preprocess', StandardScaler()),\n",
       "                                       ('predictor', LinearRegression())]),\n",
       "             param_grid=[{'predictor': [DecisionTreeRegressor()],\n",
       "                          'predictor__criterion': ['mse', 'friedman_mse', 'mae',\n",
       "                                                   'poisson']}],\n",
       "             scoring='r2', verbose=4)"
      ]
     },
     "execution_count": 202,
     "metadata": {},
     "output_type": "execute_result"
    }
   ],
   "source": [
    "pipe.fit(X_train, y_train)\n",
    "grid = GridSearchCV(pipe, param_grid, verbose=4, cv = 3, scoring='r2')\n",
    "grid.fit(X_train, y_train)"
   ]
  },
  {
   "cell_type": "code",
   "execution_count": 203,
   "id": "gross-burke",
   "metadata": {},
   "outputs": [
    {
     "name": "stdout",
     "output_type": "stream",
     "text": [
      "{'predictor': DecisionTreeRegressor(), 'predictor__criterion': 'mse'}\n",
      "-0.8412628060537997 0.07412783835393799\n",
      "make_scorer(r2_score)\n",
      "r2_score as r2; explained_variance_score as evs; mean_absolute_percentage_error as mape;\n",
      "grid 0.07412783835393799 0.07524062458810554 2.7930824629715723\n",
      "linreg -0.8412628060537997 -0.707814528307984 4.662569308422645\n"
     ]
    }
   ],
   "source": [
    "grid_est = grid.best_estimator_\n",
    "y_pred = pipe.predict(X_test)\n",
    "grid_pred = grid_est.predict(X_test)\n",
    "grid.score(X_test, y_test)\n",
    "print(grid.best_params_)\n",
    "print(grid_est.score(X_test, y_test), pipe.score(X_test, y_test))\n",
    "print(grid.scorer_)\n",
    "print('r2_score as r2;','explained_variance_score as evs;','mean_absolute_percentage_error as mape;')\n",
    "print('grid', r2(y_test, y_pred), evs(y_test, y_pred), mape(y_test, y_pred))\n",
    "print('linreg', r2(y_test, grid_pred), evs(y_test, grid_pred), mape(y_test, grid_pred))"
   ]
  },
  {
   "cell_type": "code",
   "execution_count": 185,
   "id": "impressed-annex",
   "metadata": {},
   "outputs": [
    {
     "data": {
      "text/plain": [
       "{'ccp_alpha': 0.0,\n",
       " 'criterion': 'mse',\n",
       " 'max_depth': None,\n",
       " 'max_features': None,\n",
       " 'max_leaf_nodes': None,\n",
       " 'min_impurity_decrease': 0.0,\n",
       " 'min_impurity_split': None,\n",
       " 'min_samples_leaf': 1,\n",
       " 'min_samples_split': 2,\n",
       " 'min_weight_fraction_leaf': 0.0,\n",
       " 'random_state': None,\n",
       " 'splitter': 'best'}"
      ]
     },
     "execution_count": 185,
     "metadata": {},
     "output_type": "execute_result"
    }
   ],
   "source": [
    "DecisionTreeRegressor().get_params()"
   ]
  },
  {
   "cell_type": "code",
   "execution_count": null,
   "id": "shared-shower",
   "metadata": {},
   "outputs": [],
   "source": []
  }
 ],
 "metadata": {
  "kernelspec": {
   "display_name": "Python 3",
   "language": "python",
   "name": "python3"
  },
  "language_info": {
   "codemirror_mode": {
    "name": "ipython",
    "version": 3
   },
   "file_extension": ".py",
   "mimetype": "text/x-python",
   "name": "python",
   "nbconvert_exporter": "python",
   "pygments_lexer": "ipython3",
   "version": "3.8.5"
  }
 },
 "nbformat": 4,
 "nbformat_minor": 5
}
