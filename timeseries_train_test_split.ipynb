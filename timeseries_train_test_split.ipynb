{
 "cells": [
  {
   "cell_type": "code",
   "execution_count": 1,
   "id": "ideal-pavilion",
   "metadata": {},
   "outputs": [],
   "source": [
    "import pandas as pd\n",
    "import numpy as np\n",
    "class TimeseriesTestTrainSplit:\n",
    "    def __init__(self):\n",
    "        pass\n",
    "    @classmethod\n",
    "    def timeseries_test_train_split(cls):\n",
    "        stocks_df = cls.load_df()\n",
    "        data = cls.get_data(stocks_df)\n",
    "        train_length = cls.get_train_length(data)\n",
    "        training_set, test_set = cls.get_train_test_split(data, train_length)\n",
    "        X_train, y_train = cls.get_x_y_split(training_set)\n",
    "        X_test, y_test = cls.get_x_y_split(test_set)\n",
    "        return X_train, y_train, X_test, y_test\n",
    "    def load_df():\n",
    "        stocks_df = pd.read_pickle('./data/stocks_df_2021-02-16.pickle')\n",
    "        stocks_df.sort_values(by=['Date'], inplace=True)\n",
    "        return stocks_df\n",
    "\n",
    "    def get_data(stocks_df):\n",
    "        data = stocks_df.Close\n",
    "        return data\n",
    "    def get_train_length(data):\n",
    "        train_length = int(np.ceil(len(data.values)*0.8))\n",
    "        return train_length\n",
    "    def get_train_test_split(data, train_length):\n",
    "        training_set = data.iloc[:train_length].values\n",
    "        test_set = data.iloc[train_length:].values\n",
    "        return training_set, test_set\n",
    "    def get_x_y_split(data_set):\n",
    "        # Creating a data structure with 60 time-steps and 1 output\n",
    "        length=len(data_set)\n",
    "        X = []\n",
    "        y = []\n",
    "        for i in range(60, length):\n",
    "            X.append(data_set[i-60:i])\n",
    "            y.append(data_set[i])\n",
    "        X, y = np.array(X), np.array(y)\n",
    "        X = np.reshape(X, (X.shape[0], X.shape[1]))\n",
    "        return X, y\n",
    "    "
   ]
  }
 ],
 "metadata": {
  "kernelspec": {
   "display_name": "Python 3",
   "language": "python",
   "name": "python3"
  },
  "language_info": {
   "codemirror_mode": {
    "name": "ipython",
    "version": 3
   },
   "file_extension": ".py",
   "mimetype": "text/x-python",
   "name": "python",
   "nbconvert_exporter": "python",
   "pygments_lexer": "ipython3",
   "version": "3.8.5"
  }
 },
 "nbformat": 4,
 "nbformat_minor": 5
}
