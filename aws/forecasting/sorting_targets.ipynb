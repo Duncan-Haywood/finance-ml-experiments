{
 "cells": [
  {
   "cell_type": "code",
   "execution_count": 53,
   "metadata": {},
   "outputs": [],
   "source": [
    "# !pip install smart_open\n",
    "import sagemaker\n",
    "import boto3\n",
    "import pandas as pd\n",
    "from smart_open import open as s_open\n",
    "import s3fs"
   ]
  },
  {
   "cell_type": "code",
   "execution_count": null,
   "metadata": {},
   "outputs": [],
   "source": []
  },
  {
   "cell_type": "code",
   "execution_count": 119,
   "metadata": {},
   "outputs": [],
   "source": [
    "def load_dfs(folder='stock_data_raw_with_3_mo_target'):\n",
    "    bucket = sagemaker.Session().default_bucket()\n",
    "    s3f = s3fs.S3FileSystem()\n",
    "    f_names = s3f.ls(f'{bucket}/{folder}')\n",
    "    display('number of files', len(f_names))\n",
    "    d = dict()\n",
    "    for i, file_name in enumerate(f_names):\n",
    "        with s_open(f's3://{file_name}') as f:\n",
    "            df = pd.read_csv(f) \n",
    "            try:\n",
    "                slc = df['low_window_20_shift_0_mean_percent_change_percent_lag_90_shift_-90'].dropna().sort_values()\n",
    "                latest_change = slc.values[-5]\n",
    "                d[file_name] = latest_change\n",
    "            except Exception as e:\n",
    "                pass\n",
    "#                 display(e)\n",
    "#                 display(df)\n",
    "        if i%50==0:\n",
    "            display(i)\n",
    "    df = pd.Series(d)\n",
    "    return df\n",
    "#         target_added_df = main_target_add(df)\n",
    "#         target_added_df.to_csv('temp.csv')\n",
    "#         new_file_name = file_name.split('/')[-1].replace('.parquet', '_with_3_mo_target.csv')\n",
    "#         new_file_path = '/'.join([new_folder, new_file_name])\n",
    "#         s3c.upload_file('temp.csv', bucket, new_file_path)\n",
    "\n"
   ]
  },
  {
   "cell_type": "code",
   "execution_count": 120,
   "metadata": {},
   "outputs": [
    {
     "data": {
      "text/plain": [
       "'number of files'"
      ]
     },
     "metadata": {},
     "output_type": "display_data"
    },
    {
     "data": {
      "text/plain": [
       "2810"
      ]
     },
     "metadata": {},
     "output_type": "display_data"
    },
    {
     "data": {
      "text/plain": [
       "0"
      ]
     },
     "metadata": {},
     "output_type": "display_data"
    },
    {
     "data": {
      "text/plain": [
       "50"
      ]
     },
     "metadata": {},
     "output_type": "display_data"
    },
    {
     "data": {
      "text/plain": [
       "100"
      ]
     },
     "metadata": {},
     "output_type": "display_data"
    },
    {
     "data": {
      "text/plain": [
       "150"
      ]
     },
     "metadata": {},
     "output_type": "display_data"
    },
    {
     "data": {
      "text/plain": [
       "200"
      ]
     },
     "metadata": {},
     "output_type": "display_data"
    },
    {
     "data": {
      "text/plain": [
       "250"
      ]
     },
     "metadata": {},
     "output_type": "display_data"
    },
    {
     "data": {
      "text/plain": [
       "300"
      ]
     },
     "metadata": {},
     "output_type": "display_data"
    },
    {
     "data": {
      "text/plain": [
       "350"
      ]
     },
     "metadata": {},
     "output_type": "display_data"
    },
    {
     "data": {
      "text/plain": [
       "400"
      ]
     },
     "metadata": {},
     "output_type": "display_data"
    },
    {
     "data": {
      "text/plain": [
       "450"
      ]
     },
     "metadata": {},
     "output_type": "display_data"
    },
    {
     "data": {
      "text/plain": [
       "500"
      ]
     },
     "metadata": {},
     "output_type": "display_data"
    },
    {
     "data": {
      "text/plain": [
       "550"
      ]
     },
     "metadata": {},
     "output_type": "display_data"
    },
    {
     "data": {
      "text/plain": [
       "600"
      ]
     },
     "metadata": {},
     "output_type": "display_data"
    },
    {
     "data": {
      "text/plain": [
       "650"
      ]
     },
     "metadata": {},
     "output_type": "display_data"
    },
    {
     "data": {
      "text/plain": [
       "700"
      ]
     },
     "metadata": {},
     "output_type": "display_data"
    },
    {
     "data": {
      "text/plain": [
       "750"
      ]
     },
     "metadata": {},
     "output_type": "display_data"
    },
    {
     "data": {
      "text/plain": [
       "800"
      ]
     },
     "metadata": {},
     "output_type": "display_data"
    },
    {
     "data": {
      "text/plain": [
       "850"
      ]
     },
     "metadata": {},
     "output_type": "display_data"
    },
    {
     "data": {
      "text/plain": [
       "900"
      ]
     },
     "metadata": {},
     "output_type": "display_data"
    },
    {
     "data": {
      "text/plain": [
       "950"
      ]
     },
     "metadata": {},
     "output_type": "display_data"
    },
    {
     "data": {
      "text/plain": [
       "1000"
      ]
     },
     "metadata": {},
     "output_type": "display_data"
    },
    {
     "data": {
      "text/plain": [
       "1050"
      ]
     },
     "metadata": {},
     "output_type": "display_data"
    },
    {
     "data": {
      "text/plain": [
       "1100"
      ]
     },
     "metadata": {},
     "output_type": "display_data"
    },
    {
     "data": {
      "text/plain": [
       "1150"
      ]
     },
     "metadata": {},
     "output_type": "display_data"
    },
    {
     "data": {
      "text/plain": [
       "1200"
      ]
     },
     "metadata": {},
     "output_type": "display_data"
    },
    {
     "data": {
      "text/plain": [
       "1250"
      ]
     },
     "metadata": {},
     "output_type": "display_data"
    },
    {
     "data": {
      "text/plain": [
       "1300"
      ]
     },
     "metadata": {},
     "output_type": "display_data"
    },
    {
     "data": {
      "text/plain": [
       "1350"
      ]
     },
     "metadata": {},
     "output_type": "display_data"
    },
    {
     "data": {
      "text/plain": [
       "1400"
      ]
     },
     "metadata": {},
     "output_type": "display_data"
    },
    {
     "data": {
      "text/plain": [
       "1450"
      ]
     },
     "metadata": {},
     "output_type": "display_data"
    },
    {
     "data": {
      "text/plain": [
       "1500"
      ]
     },
     "metadata": {},
     "output_type": "display_data"
    },
    {
     "data": {
      "text/plain": [
       "1550"
      ]
     },
     "metadata": {},
     "output_type": "display_data"
    },
    {
     "data": {
      "text/plain": [
       "1600"
      ]
     },
     "metadata": {},
     "output_type": "display_data"
    },
    {
     "data": {
      "text/plain": [
       "1650"
      ]
     },
     "metadata": {},
     "output_type": "display_data"
    },
    {
     "data": {
      "text/plain": [
       "1700"
      ]
     },
     "metadata": {},
     "output_type": "display_data"
    },
    {
     "data": {
      "text/plain": [
       "1750"
      ]
     },
     "metadata": {},
     "output_type": "display_data"
    },
    {
     "data": {
      "text/plain": [
       "1800"
      ]
     },
     "metadata": {},
     "output_type": "display_data"
    },
    {
     "data": {
      "text/plain": [
       "1850"
      ]
     },
     "metadata": {},
     "output_type": "display_data"
    },
    {
     "data": {
      "text/plain": [
       "1900"
      ]
     },
     "metadata": {},
     "output_type": "display_data"
    },
    {
     "data": {
      "text/plain": [
       "1950"
      ]
     },
     "metadata": {},
     "output_type": "display_data"
    },
    {
     "data": {
      "text/plain": [
       "2000"
      ]
     },
     "metadata": {},
     "output_type": "display_data"
    },
    {
     "data": {
      "text/plain": [
       "2050"
      ]
     },
     "metadata": {},
     "output_type": "display_data"
    },
    {
     "data": {
      "text/plain": [
       "2100"
      ]
     },
     "metadata": {},
     "output_type": "display_data"
    },
    {
     "data": {
      "text/plain": [
       "2150"
      ]
     },
     "metadata": {},
     "output_type": "display_data"
    },
    {
     "data": {
      "text/plain": [
       "2200"
      ]
     },
     "metadata": {},
     "output_type": "display_data"
    },
    {
     "data": {
      "text/plain": [
       "2250"
      ]
     },
     "metadata": {},
     "output_type": "display_data"
    },
    {
     "data": {
      "text/plain": [
       "2300"
      ]
     },
     "metadata": {},
     "output_type": "display_data"
    },
    {
     "data": {
      "text/plain": [
       "2350"
      ]
     },
     "metadata": {},
     "output_type": "display_data"
    },
    {
     "data": {
      "text/plain": [
       "2400"
      ]
     },
     "metadata": {},
     "output_type": "display_data"
    },
    {
     "data": {
      "text/plain": [
       "2450"
      ]
     },
     "metadata": {},
     "output_type": "display_data"
    },
    {
     "data": {
      "text/plain": [
       "2500"
      ]
     },
     "metadata": {},
     "output_type": "display_data"
    },
    {
     "data": {
      "text/plain": [
       "2550"
      ]
     },
     "metadata": {},
     "output_type": "display_data"
    },
    {
     "data": {
      "text/plain": [
       "2600"
      ]
     },
     "metadata": {},
     "output_type": "display_data"
    },
    {
     "data": {
      "text/plain": [
       "2650"
      ]
     },
     "metadata": {},
     "output_type": "display_data"
    },
    {
     "data": {
      "text/plain": [
       "2700"
      ]
     },
     "metadata": {},
     "output_type": "display_data"
    },
    {
     "data": {
      "text/plain": [
       "2750"
      ]
     },
     "metadata": {},
     "output_type": "display_data"
    },
    {
     "data": {
      "text/plain": [
       "2800"
      ]
     },
     "metadata": {},
     "output_type": "display_data"
    }
   ],
   "source": [
    "sr = load_dfs()"
   ]
  },
  {
   "cell_type": "code",
   "execution_count": 121,
   "metadata": {},
   "outputs": [],
   "source": [
    "sr.sort_values(ascending=False, inplace=True)\n",
    "sr.to_pickle('sorted_percent_returns_all_time_fifth_highest.pkl')"
   ]
  },
  {
   "cell_type": "code",
   "execution_count": 125,
   "metadata": {},
   "outputs": [
    {
     "data": {
      "text/plain": [
       "(2347,)"
      ]
     },
     "metadata": {},
     "output_type": "display_data"
    },
    {
     "data": {
      "text/plain": [
       "sagemaker-us-east-2-287085956542/stock_data_raw_with_3_mo_target/ONTX_daily_raw_with_3_mo_target.csv     255491.850000\n",
       "sagemaker-us-east-2-287085956542/stock_data_raw_with_3_mo_target/ZAZZT_daily_raw_with_3_mo_target.csv     97065.611107\n",
       "sagemaker-us-east-2-287085956542/stock_data_raw_with_3_mo_target/ZXZZT_daily_raw_with_3_mo_target.csv     60900.343743\n",
       "sagemaker-us-east-2-287085956542/stock_data_raw_with_3_mo_target/ZJZZT_daily_raw_with_3_mo_target.csv     30327.985459\n",
       "sagemaker-us-east-2-287085956542/stock_data_raw_with_3_mo_target/ZBZZT_daily_raw_with_3_mo_target.csv     19046.523810\n",
       "                                                                                                             ...      \n",
       "sagemaker-us-east-2-287085956542/stock_data_raw_with_3_mo_target/SUMO_daily_raw_with_3_mo_target.csv         -0.069389\n",
       "sagemaker-us-east-2-287085956542/stock_data_raw_with_3_mo_target/FMTX_daily_raw_with_3_mo_target.csv         -0.072455\n",
       "sagemaker-us-east-2-287085956542/stock_data_raw_with_3_mo_target/ETACW_daily_raw_with_3_mo_target.csv        -0.072971\n",
       "sagemaker-us-east-2-287085956542/stock_data_raw_with_3_mo_target/AFIB_daily_raw_with_3_mo_target.csv         -0.082928\n",
       "sagemaker-us-east-2-287085956542/stock_data_raw_with_3_mo_target/ALVR_daily_raw_with_3_mo_target.csv         -0.101838\n",
       "Length: 2347, dtype: float64"
      ]
     },
     "metadata": {},
     "output_type": "display_data"
    }
   ],
   "source": [
    "sr = pd.read_pickle('sorted_percent_returns_all_time_fifth_highest.pkl')\n",
    "# sr.sort_values(ascending=False, inplace=True)\n",
    "display(sr.shape, sr)\n",
    "## highest recent increace: sagemaker-us-east-2-287085956542/stock_data_raw_with_3_mo_target/ZJZZT_daily_raw_with_3_mo_target.csv    0.067944\n",
    "## 'sorted_percent_returns.pkl' ## 17/4/2021"
   ]
  },
  {
   "cell_type": "code",
   "execution_count": 131,
   "metadata": {},
   "outputs": [],
   "source": [
    "top = sr.head(10).index.tolist()"
   ]
  },
  {
   "cell_type": "code",
   "execution_count": 129,
   "metadata": {},
   "outputs": [],
   "source": []
  },
  {
   "cell_type": "code",
   "execution_count": 135,
   "metadata": {},
   "outputs": [],
   "source": [
    "dfs = list()\n",
    "for i, file_name in enumerate(top):\n",
    "    with s_open(f's3://{file_name}') as f:\n",
    "        df = pd.read_csv(f) \n",
    "        dfs.append(df)\n",
    "#                 display(e)\n",
    "#                 display(df)\n",
    "df = pd.concat(dfs, keys=top, axis=1)\n"
   ]
  },
  {
   "cell_type": "code",
   "execution_count": 136,
   "metadata": {},
   "outputs": [
    {
     "data": {
      "text/html": [
       "<div>\n",
       "<style scoped>\n",
       "    .dataframe tbody tr th:only-of-type {\n",
       "        vertical-align: middle;\n",
       "    }\n",
       "\n",
       "    .dataframe tbody tr th {\n",
       "        vertical-align: top;\n",
       "    }\n",
       "\n",
       "    .dataframe thead tr th {\n",
       "        text-align: left;\n",
       "    }\n",
       "</style>\n",
       "<table border=\"1\" class=\"dataframe\">\n",
       "  <thead>\n",
       "    <tr>\n",
       "      <th></th>\n",
       "      <th colspan=\"7\" halign=\"left\">sagemaker-us-east-2-287085956542/stock_data_raw_with_3_mo_target/ONTX_daily_raw_with_3_mo_target.csv</th>\n",
       "      <th colspan=\"3\" halign=\"left\">sagemaker-us-east-2-287085956542/stock_data_raw_with_3_mo_target/ZAZZT_daily_raw_with_3_mo_target.csv</th>\n",
       "      <th>...</th>\n",
       "      <th colspan=\"3\" halign=\"left\">sagemaker-us-east-2-287085956542/stock_data_raw_with_3_mo_target/VERO_daily_raw_with_3_mo_target.csv</th>\n",
       "      <th colspan=\"7\" halign=\"left\">sagemaker-us-east-2-287085956542/stock_data_raw_with_3_mo_target/OPRX_daily_raw_with_3_mo_target.csv</th>\n",
       "    </tr>\n",
       "    <tr>\n",
       "      <th></th>\n",
       "      <th>Unnamed: 0</th>\n",
       "      <th>low_window_20_shift_0_mean_percent_change_percent_lag_90_shift_-90</th>\n",
       "      <th>open</th>\n",
       "      <th>high</th>\n",
       "      <th>low</th>\n",
       "      <th>close</th>\n",
       "      <th>volume</th>\n",
       "      <th>Unnamed: 0</th>\n",
       "      <th>low_window_20_shift_0_mean_percent_change_percent_lag_90_shift_-90</th>\n",
       "      <th>open</th>\n",
       "      <th>...</th>\n",
       "      <th>low</th>\n",
       "      <th>close</th>\n",
       "      <th>volume</th>\n",
       "      <th>Unnamed: 0</th>\n",
       "      <th>low_window_20_shift_0_mean_percent_change_percent_lag_90_shift_-90</th>\n",
       "      <th>open</th>\n",
       "      <th>high</th>\n",
       "      <th>low</th>\n",
       "      <th>close</th>\n",
       "      <th>volume</th>\n",
       "    </tr>\n",
       "  </thead>\n",
       "  <tbody>\n",
       "    <tr>\n",
       "      <th>0</th>\n",
       "      <td>2001-04-11</td>\n",
       "      <td>NaN</td>\n",
       "      <td>0.0010</td>\n",
       "      <td>0.0010</td>\n",
       "      <td>0.0010</td>\n",
       "      <td>0.0010</td>\n",
       "      <td>0</td>\n",
       "      <td>2016-08-30</td>\n",
       "      <td>NaN</td>\n",
       "      <td>10.100</td>\n",
       "      <td>...</td>\n",
       "      <td>2.95</td>\n",
       "      <td>3.05</td>\n",
       "      <td>9030.0</td>\n",
       "      <td>2001-05-17</td>\n",
       "      <td>NaN</td>\n",
       "      <td>2.00</td>\n",
       "      <td>2.00</td>\n",
       "      <td>2.00</td>\n",
       "      <td>2.00</td>\n",
       "      <td>0.0</td>\n",
       "    </tr>\n",
       "    <tr>\n",
       "      <th>1</th>\n",
       "      <td>2001-04-12</td>\n",
       "      <td>NaN</td>\n",
       "      <td>0.0010</td>\n",
       "      <td>0.0010</td>\n",
       "      <td>0.0010</td>\n",
       "      <td>0.0010</td>\n",
       "      <td>0</td>\n",
       "      <td>2016-08-31</td>\n",
       "      <td>NaN</td>\n",
       "      <td>10.025</td>\n",
       "      <td>...</td>\n",
       "      <td>3.05</td>\n",
       "      <td>3.05</td>\n",
       "      <td>0.0</td>\n",
       "      <td>2005-05-18</td>\n",
       "      <td>NaN</td>\n",
       "      <td>1.00</td>\n",
       "      <td>1.00</td>\n",
       "      <td>1.00</td>\n",
       "      <td>1.00</td>\n",
       "      <td>0.0</td>\n",
       "    </tr>\n",
       "    <tr>\n",
       "      <th>2</th>\n",
       "      <td>2001-04-16</td>\n",
       "      <td>NaN</td>\n",
       "      <td>0.0010</td>\n",
       "      <td>0.0010</td>\n",
       "      <td>0.0010</td>\n",
       "      <td>0.0010</td>\n",
       "      <td>0</td>\n",
       "      <td>2016-09-01</td>\n",
       "      <td>NaN</td>\n",
       "      <td>10.050</td>\n",
       "      <td>...</td>\n",
       "      <td>3.10</td>\n",
       "      <td>3.10</td>\n",
       "      <td>100.0</td>\n",
       "      <td>2005-08-08</td>\n",
       "      <td>NaN</td>\n",
       "      <td>0.51</td>\n",
       "      <td>0.51</td>\n",
       "      <td>0.51</td>\n",
       "      <td>0.51</td>\n",
       "      <td>0.0</td>\n",
       "    </tr>\n",
       "    <tr>\n",
       "      <th>3</th>\n",
       "      <td>2001-04-17</td>\n",
       "      <td>NaN</td>\n",
       "      <td>0.0010</td>\n",
       "      <td>0.0010</td>\n",
       "      <td>0.0010</td>\n",
       "      <td>0.0010</td>\n",
       "      <td>0</td>\n",
       "      <td>2016-09-02</td>\n",
       "      <td>NaN</td>\n",
       "      <td>10.000</td>\n",
       "      <td>...</td>\n",
       "      <td>3.13</td>\n",
       "      <td>3.13</td>\n",
       "      <td>100.0</td>\n",
       "      <td>2005-08-09</td>\n",
       "      <td>NaN</td>\n",
       "      <td>0.61</td>\n",
       "      <td>0.61</td>\n",
       "      <td>0.61</td>\n",
       "      <td>0.61</td>\n",
       "      <td>0.0</td>\n",
       "    </tr>\n",
       "    <tr>\n",
       "      <th>4</th>\n",
       "      <td>2001-04-18</td>\n",
       "      <td>NaN</td>\n",
       "      <td>0.0010</td>\n",
       "      <td>0.0010</td>\n",
       "      <td>0.0010</td>\n",
       "      <td>0.0010</td>\n",
       "      <td>0</td>\n",
       "      <td>2016-09-06</td>\n",
       "      <td>NaN</td>\n",
       "      <td>10.000</td>\n",
       "      <td>...</td>\n",
       "      <td>3.13</td>\n",
       "      <td>3.13</td>\n",
       "      <td>0.0</td>\n",
       "      <td>2005-08-10</td>\n",
       "      <td>NaN</td>\n",
       "      <td>0.70</td>\n",
       "      <td>0.70</td>\n",
       "      <td>0.65</td>\n",
       "      <td>0.70</td>\n",
       "      <td>0.0</td>\n",
       "    </tr>\n",
       "    <tr>\n",
       "      <th>...</th>\n",
       "      <td>...</td>\n",
       "      <td>...</td>\n",
       "      <td>...</td>\n",
       "      <td>...</td>\n",
       "      <td>...</td>\n",
       "      <td>...</td>\n",
       "      <td>...</td>\n",
       "      <td>...</td>\n",
       "      <td>...</td>\n",
       "      <td>...</td>\n",
       "      <td>...</td>\n",
       "      <td>...</td>\n",
       "      <td>...</td>\n",
       "      <td>...</td>\n",
       "      <td>...</td>\n",
       "      <td>...</td>\n",
       "      <td>...</td>\n",
       "      <td>...</td>\n",
       "      <td>...</td>\n",
       "      <td>...</td>\n",
       "      <td>...</td>\n",
       "    </tr>\n",
       "    <tr>\n",
       "      <th>5021</th>\n",
       "      <td>2021-03-29</td>\n",
       "      <td>-0.011142</td>\n",
       "      <td>0.9701</td>\n",
       "      <td>0.9898</td>\n",
       "      <td>0.9300</td>\n",
       "      <td>0.9584</td>\n",
       "      <td>7226809</td>\n",
       "      <td>NaN</td>\n",
       "      <td>NaN</td>\n",
       "      <td>NaN</td>\n",
       "      <td>...</td>\n",
       "      <td>NaN</td>\n",
       "      <td>NaN</td>\n",
       "      <td>NaN</td>\n",
       "      <td>NaN</td>\n",
       "      <td>NaN</td>\n",
       "      <td>NaN</td>\n",
       "      <td>NaN</td>\n",
       "      <td>NaN</td>\n",
       "      <td>NaN</td>\n",
       "      <td>NaN</td>\n",
       "    </tr>\n",
       "    <tr>\n",
       "      <th>5022</th>\n",
       "      <td>2021-03-30</td>\n",
       "      <td>0.001664</td>\n",
       "      <td>0.9330</td>\n",
       "      <td>0.9900</td>\n",
       "      <td>0.9100</td>\n",
       "      <td>0.9801</td>\n",
       "      <td>6653791</td>\n",
       "      <td>NaN</td>\n",
       "      <td>NaN</td>\n",
       "      <td>NaN</td>\n",
       "      <td>...</td>\n",
       "      <td>NaN</td>\n",
       "      <td>NaN</td>\n",
       "      <td>NaN</td>\n",
       "      <td>NaN</td>\n",
       "      <td>NaN</td>\n",
       "      <td>NaN</td>\n",
       "      <td>NaN</td>\n",
       "      <td>NaN</td>\n",
       "      <td>NaN</td>\n",
       "      <td>NaN</td>\n",
       "    </tr>\n",
       "    <tr>\n",
       "      <th>5023</th>\n",
       "      <td>2021-03-31</td>\n",
       "      <td>0.008176</td>\n",
       "      <td>0.9798</td>\n",
       "      <td>1.0000</td>\n",
       "      <td>0.9503</td>\n",
       "      <td>0.9989</td>\n",
       "      <td>6460647</td>\n",
       "      <td>NaN</td>\n",
       "      <td>NaN</td>\n",
       "      <td>NaN</td>\n",
       "      <td>...</td>\n",
       "      <td>NaN</td>\n",
       "      <td>NaN</td>\n",
       "      <td>NaN</td>\n",
       "      <td>NaN</td>\n",
       "      <td>NaN</td>\n",
       "      <td>NaN</td>\n",
       "      <td>NaN</td>\n",
       "      <td>NaN</td>\n",
       "      <td>NaN</td>\n",
       "      <td>NaN</td>\n",
       "    </tr>\n",
       "    <tr>\n",
       "      <th>5024</th>\n",
       "      <td>2021-04-01</td>\n",
       "      <td>0.005530</td>\n",
       "      <td>1.0400</td>\n",
       "      <td>1.0500</td>\n",
       "      <td>0.9325</td>\n",
       "      <td>0.9489</td>\n",
       "      <td>13499365</td>\n",
       "      <td>NaN</td>\n",
       "      <td>NaN</td>\n",
       "      <td>NaN</td>\n",
       "      <td>...</td>\n",
       "      <td>NaN</td>\n",
       "      <td>NaN</td>\n",
       "      <td>NaN</td>\n",
       "      <td>NaN</td>\n",
       "      <td>NaN</td>\n",
       "      <td>NaN</td>\n",
       "      <td>NaN</td>\n",
       "      <td>NaN</td>\n",
       "      <td>NaN</td>\n",
       "      <td>NaN</td>\n",
       "    </tr>\n",
       "    <tr>\n",
       "      <th>5025</th>\n",
       "      <td>2021-04-05</td>\n",
       "      <td>0.000000</td>\n",
       "      <td>0.9400</td>\n",
       "      <td>0.9569</td>\n",
       "      <td>0.8801</td>\n",
       "      <td>0.8924</td>\n",
       "      <td>10214430</td>\n",
       "      <td>NaN</td>\n",
       "      <td>NaN</td>\n",
       "      <td>NaN</td>\n",
       "      <td>...</td>\n",
       "      <td>NaN</td>\n",
       "      <td>NaN</td>\n",
       "      <td>NaN</td>\n",
       "      <td>NaN</td>\n",
       "      <td>NaN</td>\n",
       "      <td>NaN</td>\n",
       "      <td>NaN</td>\n",
       "      <td>NaN</td>\n",
       "      <td>NaN</td>\n",
       "      <td>NaN</td>\n",
       "    </tr>\n",
       "  </tbody>\n",
       "</table>\n",
       "<p>5026 rows × 70 columns</p>\n",
       "</div>"
      ],
      "text/plain": [
       "     sagemaker-us-east-2-287085956542/stock_data_raw_with_3_mo_target/ONTX_daily_raw_with_3_mo_target.csv  \\\n",
       "                                                                                               Unnamed: 0   \n",
       "0                                            2001-04-11                                                     \n",
       "1                                            2001-04-12                                                     \n",
       "2                                            2001-04-16                                                     \n",
       "3                                            2001-04-17                                                     \n",
       "4                                            2001-04-18                                                     \n",
       "...                                                 ...                                                     \n",
       "5021                                         2021-03-29                                                     \n",
       "5022                                         2021-03-30                                                     \n",
       "5023                                         2021-03-31                                                     \n",
       "5024                                         2021-04-01                                                     \n",
       "5025                                         2021-04-05                                                     \n",
       "\n",
       "                                                                         \\\n",
       "     low_window_20_shift_0_mean_percent_change_percent_lag_90_shift_-90   \n",
       "0                                                   NaN                   \n",
       "1                                                   NaN                   \n",
       "2                                                   NaN                   \n",
       "3                                                   NaN                   \n",
       "4                                                   NaN                   \n",
       "...                                                 ...                   \n",
       "5021                                          -0.011142                   \n",
       "5022                                           0.001664                   \n",
       "5023                                           0.008176                   \n",
       "5024                                           0.005530                   \n",
       "5025                                           0.000000                   \n",
       "\n",
       "                                                \\\n",
       "        open    high     low   close    volume   \n",
       "0     0.0010  0.0010  0.0010  0.0010         0   \n",
       "1     0.0010  0.0010  0.0010  0.0010         0   \n",
       "2     0.0010  0.0010  0.0010  0.0010         0   \n",
       "3     0.0010  0.0010  0.0010  0.0010         0   \n",
       "4     0.0010  0.0010  0.0010  0.0010         0   \n",
       "...      ...     ...     ...     ...       ...   \n",
       "5021  0.9701  0.9898  0.9300  0.9584   7226809   \n",
       "5022  0.9330  0.9900  0.9100  0.9801   6653791   \n",
       "5023  0.9798  1.0000  0.9503  0.9989   6460647   \n",
       "5024  1.0400  1.0500  0.9325  0.9489  13499365   \n",
       "5025  0.9400  0.9569  0.8801  0.8924  10214430   \n",
       "\n",
       "     sagemaker-us-east-2-287085956542/stock_data_raw_with_3_mo_target/ZAZZT_daily_raw_with_3_mo_target.csv  \\\n",
       "                                                                                                Unnamed: 0   \n",
       "0                                            2016-08-30                                                      \n",
       "1                                            2016-08-31                                                      \n",
       "2                                            2016-09-01                                                      \n",
       "3                                            2016-09-02                                                      \n",
       "4                                            2016-09-06                                                      \n",
       "...                                                 ...                                                      \n",
       "5021                                                NaN                                                      \n",
       "5022                                                NaN                                                      \n",
       "5023                                                NaN                                                      \n",
       "5024                                                NaN                                                      \n",
       "5025                                                NaN                                                      \n",
       "\n",
       "                                                                         \\\n",
       "     low_window_20_shift_0_mean_percent_change_percent_lag_90_shift_-90   \n",
       "0                                                   NaN                   \n",
       "1                                                   NaN                   \n",
       "2                                                   NaN                   \n",
       "3                                                   NaN                   \n",
       "4                                                   NaN                   \n",
       "...                                                 ...                   \n",
       "5021                                                NaN                   \n",
       "5022                                                NaN                   \n",
       "5023                                                NaN                   \n",
       "5024                                                NaN                   \n",
       "5025                                                NaN                   \n",
       "\n",
       "              ...  \\\n",
       "        open  ...   \n",
       "0     10.100  ...   \n",
       "1     10.025  ...   \n",
       "2     10.050  ...   \n",
       "3     10.000  ...   \n",
       "4     10.000  ...   \n",
       "...      ...  ...   \n",
       "5021     NaN  ...   \n",
       "5022     NaN  ...   \n",
       "5023     NaN  ...   \n",
       "5024     NaN  ...   \n",
       "5025     NaN  ...   \n",
       "\n",
       "     sagemaker-us-east-2-287085956542/stock_data_raw_with_3_mo_target/VERO_daily_raw_with_3_mo_target.csv  \\\n",
       "                                                                                                      low   \n",
       "0                                                  2.95                                                     \n",
       "1                                                  3.05                                                     \n",
       "2                                                  3.10                                                     \n",
       "3                                                  3.13                                                     \n",
       "4                                                  3.13                                                     \n",
       "...                                                 ...                                                     \n",
       "5021                                                NaN                                                     \n",
       "5022                                                NaN                                                     \n",
       "5023                                                NaN                                                     \n",
       "5024                                                NaN                                                     \n",
       "5025                                                NaN                                                     \n",
       "\n",
       "                    \\\n",
       "     close  volume   \n",
       "0     3.05  9030.0   \n",
       "1     3.05     0.0   \n",
       "2     3.10   100.0   \n",
       "3     3.13   100.0   \n",
       "4     3.13     0.0   \n",
       "...    ...     ...   \n",
       "5021   NaN     NaN   \n",
       "5022   NaN     NaN   \n",
       "5023   NaN     NaN   \n",
       "5024   NaN     NaN   \n",
       "5025   NaN     NaN   \n",
       "\n",
       "     sagemaker-us-east-2-287085956542/stock_data_raw_with_3_mo_target/OPRX_daily_raw_with_3_mo_target.csv  \\\n",
       "                                                                                               Unnamed: 0   \n",
       "0                                            2001-05-17                                                     \n",
       "1                                            2005-05-18                                                     \n",
       "2                                            2005-08-08                                                     \n",
       "3                                            2005-08-09                                                     \n",
       "4                                            2005-08-10                                                     \n",
       "...                                                 ...                                                     \n",
       "5021                                                NaN                                                     \n",
       "5022                                                NaN                                                     \n",
       "5023                                                NaN                                                     \n",
       "5024                                                NaN                                                     \n",
       "5025                                                NaN                                                     \n",
       "\n",
       "                                                                               \\\n",
       "     low_window_20_shift_0_mean_percent_change_percent_lag_90_shift_-90  open   \n",
       "0                                                   NaN                  2.00   \n",
       "1                                                   NaN                  1.00   \n",
       "2                                                   NaN                  0.51   \n",
       "3                                                   NaN                  0.61   \n",
       "4                                                   NaN                  0.70   \n",
       "...                                                 ...                   ...   \n",
       "5021                                                NaN                   NaN   \n",
       "5022                                                NaN                   NaN   \n",
       "5023                                                NaN                   NaN   \n",
       "5024                                                NaN                   NaN   \n",
       "5025                                                NaN                   NaN   \n",
       "\n",
       "                               \n",
       "      high   low close volume  \n",
       "0     2.00  2.00  2.00    0.0  \n",
       "1     1.00  1.00  1.00    0.0  \n",
       "2     0.51  0.51  0.51    0.0  \n",
       "3     0.61  0.61  0.61    0.0  \n",
       "4     0.70  0.65  0.70    0.0  \n",
       "...    ...   ...   ...    ...  \n",
       "5021   NaN   NaN   NaN    NaN  \n",
       "5022   NaN   NaN   NaN    NaN  \n",
       "5023   NaN   NaN   NaN    NaN  \n",
       "5024   NaN   NaN   NaN    NaN  \n",
       "5025   NaN   NaN   NaN    NaN  \n",
       "\n",
       "[5026 rows x 70 columns]"
      ]
     },
     "execution_count": 136,
     "metadata": {},
     "output_type": "execute_result"
    }
   ],
   "source": [
    "df"
   ]
  },
  {
   "cell_type": "code",
   "execution_count": null,
   "metadata": {},
   "outputs": [],
   "source": []
  }
 ],
 "metadata": {
  "instance_type": "ml.t3.medium",
  "kernelspec": {
   "display_name": "Python 3 (Data Science)",
   "language": "python",
   "name": "python3__SAGEMAKER_INTERNAL__arn:aws:sagemaker:us-east-2:429704687514:image/datascience-1.0"
  },
  "language_info": {
   "codemirror_mode": {
    "name": "ipython",
    "version": 3
   },
   "file_extension": ".py",
   "mimetype": "text/x-python",
   "name": "python",
   "nbconvert_exporter": "python",
   "pygments_lexer": "ipython3",
   "version": "3.7.10"
  }
 },
 "nbformat": 4,
 "nbformat_minor": 4
}
