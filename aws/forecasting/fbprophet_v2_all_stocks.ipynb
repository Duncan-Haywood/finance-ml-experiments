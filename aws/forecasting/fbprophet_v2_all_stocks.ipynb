{
 "cells": [
  {
   "cell_type": "code",
   "execution_count": 1,
   "metadata": {},
   "outputs": [
    {
     "name": "stderr",
     "output_type": "stream",
     "text": [
      "Importing plotly failed. Interactive plots will not work.\n"
     ]
    }
   ],
   "source": [
    "# !conda install -y -c conda-forge fbprophet\n",
    "# !pip install mlflow\n",
    "# !pip install --upgrade pandas\n",
    "import sagemaker\n",
    "import pandas as pd\n",
    "import s3fs\n",
    "from fbprophet import Prophet\n",
    "import mlflow\n",
    "from mlflow.pyfunc import log_model\n",
    "import mlflow.pyfunc\n",
    "from fbprophet.diagnostics import cross_validation, performance_metrics\n",
    "import os\n",
    "os.environ[\"TF_CPP_MIN_LOG_LEVEL\"]=\"3\""
   ]
  },
  {
   "cell_type": "code",
   "execution_count": 2,
   "metadata": {},
   "outputs": [],
   "source": [
    "bucket = sagemaker.Session().default_bucket()\n",
    "# file_suffix = '_daily_raw_with_3_mo_target.csv'\n",
    "folder = 'stock_data_raw_with_3_mo_target'\n",
    "fs = s3fs.S3FileSystem()\n",
    "files = fs.ls(f's3://{bucket}/{folder}')\n",
    "try:\n",
    "    exp_id = mlflow.create_experiment('fbprophet_all_')\n",
    "except Exception as e:\n",
    "    display(e)"
   ]
  },
  {
   "cell_type": "code",
   "execution_count": 3,
   "metadata": {},
   "outputs": [],
   "source": [
    "class FbProphetWrapper(mlflow.pyfunc.PythonModel):\n",
    "\n",
    "    def __init__(self, model):\n",
    "        self.model = model\n",
    "        super().__init__()\n",
    "\n",
    "\n",
    "    def load_context(self, context):\n",
    "        from fbprophet import Prophet\n",
    "        return\n",
    "\n",
    "    def predict(self, context, model_input):\n",
    "        future = self.model.make_future_dataframe(periods=model_input['periods'][0])\n",
    "        return self.model.predict(future)"
   ]
  },
  {
   "cell_type": "code",
   "execution_count": null,
   "metadata": {},
   "outputs": [
    {
     "name": "stderr",
     "output_type": "stream",
     "text": [
      "INFO:fbprophet:Disabling daily seasonality. Run prophet with daily_seasonality=True to override this.\n",
      "/opt/conda/lib/python3.7/site-packages/pystan/misc.py:399: FutureWarning: Conversion of the second argument of issubdtype from `float` to `np.floating` is deprecated. In future, it will be treated as `np.float64 == np.dtype(float).type`.\n",
      "  elif np.issubdtype(np.asarray(v).dtype, float):\n",
      "INFO:fbprophet:Disabling yearly seasonality. Run prophet with yearly_seasonality=True to override this.\n",
      "INFO:fbprophet:Disabling daily seasonality. Run prophet with daily_seasonality=True to override this.\n",
      "/opt/conda/lib/python3.7/site-packages/pystan/misc.py:399: FutureWarning: Conversion of the second argument of issubdtype from `float` to `np.floating` is deprecated. In future, it will be treated as `np.float64 == np.dtype(float).type`.\n",
      "  elif np.issubdtype(np.asarray(v).dtype, float):\n"
     ]
    }
   ],
   "source": [
    "# for file in files[:1]:\n",
    "\n",
    "metric = 'high' ##'low_window_20_shift_0_mean_percent_change_percent_lag_90_shift_-90'\n",
    "rolling_window=0.1\n",
    "# results = pd.DataFrame()\n",
    "# results.columns = ['file', 'metric' ]\n",
    "for file in files:\n",
    "    with mlflow.start_run(experiment_id=exp_id):\n",
    "        mlflow.log_param('file', file)\n",
    "        mlflow.log_param('metric',metric)\n",
    "    #     mlflow.log_param('rolling_window', rolling_window)\n",
    "        dft = pd.read_csv(f's3://{file}')#.dropna()\n",
    "        df = dft[['Unnamed: 0', metric]]\n",
    "        df.columns = ['ds', 'y']\n",
    "    #     display(df)\n",
    "        m = Prophet(growth='linear')\n",
    "        m.fit(df)\n",
    "    #     log_model('model', FbProphetWrapper(m))\n",
    "    #     df_cv = cross_validation(m, horizon = '90 days')\n",
    "    #     df_p = performance_metrics(df_cv, rolling_window=rolling_window)\n",
    "    #     mlflow.log_metric(\"rmse\", df_p.loc[0,'RMSE'])\n",
    "    #     mlflow.log_metric(\"MSE\", df_p.loc[0,'MSE'])\n",
    "    #     mlflow.log_metric(\"MAE\", df_p.loc[0,'MAE'])\n",
    "    #     mlflow.log_metric(\"MAPE\", df_p.loc[0,'MAPE'])\n",
    "    #     mlflow.log_metric(\"MDAPE\", df_p.loc[0,'MDAPE'])\n",
    "    #     mlflow.log_metric(\"SMAPE\", df_p.loc[0,'SMAPE'])\n",
    "    #     mlflow.log_metric(\"COVERAGE\", df_p.loc[0,'COVERAGE'])   \n",
    "        periods=90\n",
    "        future = m.make_future_dataframe(periods=periods)\n",
    "        mlflow.log_param('length of predeiction', periods)\n",
    "    #     display(future)\n",
    "        forecast = m.predict(future)\n",
    "        yhat = forecast.loc[len(forecast.index)-1, 'yhat']\n",
    "        y = df.loc[len(df.index)-1, 'y']\n",
    "        percent_change = (yhat-y)/y\n",
    "        mlflow.log_metric('percent change', percent_change)\n",
    "\n",
    "    #     fig1 = m.plot(forecast)"
   ]
  },
  {
   "cell_type": "code",
   "execution_count": 23,
   "metadata": {},
   "outputs": [
    {
     "data": {
      "text/plain": [
       "2.155645709745646"
      ]
     },
     "execution_count": 23,
     "metadata": {},
     "output_type": "execute_result"
    }
   ],
   "source": [
    "forecast.loc[len(forecast.index)-1, 'yhat']"
   ]
  },
  {
   "cell_type": "code",
   "execution_count": 6,
   "metadata": {},
   "outputs": [],
   "source": [
    "runs = mlflow.search_runs(exp_id)\n"
   ]
  },
  {
   "cell_type": "code",
   "execution_count": 7,
   "metadata": {},
   "outputs": [
    {
     "data": {
      "text/html": [
       "<div>\n",
       "<style scoped>\n",
       "    .dataframe tbody tr th:only-of-type {\n",
       "        vertical-align: middle;\n",
       "    }\n",
       "\n",
       "    .dataframe tbody tr th {\n",
       "        vertical-align: top;\n",
       "    }\n",
       "\n",
       "    .dataframe thead th {\n",
       "        text-align: right;\n",
       "    }\n",
       "</style>\n",
       "<table border=\"1\" class=\"dataframe\">\n",
       "  <thead>\n",
       "    <tr style=\"text-align: right;\">\n",
       "      <th></th>\n",
       "      <th>run_id</th>\n",
       "      <th>experiment_id</th>\n",
       "      <th>status</th>\n",
       "      <th>artifact_uri</th>\n",
       "      <th>start_time</th>\n",
       "      <th>end_time</th>\n",
       "      <th>metrics.percent change</th>\n",
       "      <th>metrics.length of predeiction</th>\n",
       "      <th>params.file</th>\n",
       "      <th>params.metric</th>\n",
       "      <th>tags.mlflow.source.type</th>\n",
       "      <th>tags.mlflow.user</th>\n",
       "      <th>tags.mlflow.source.name</th>\n",
       "    </tr>\n",
       "  </thead>\n",
       "  <tbody>\n",
       "    <tr>\n",
       "      <th>0</th>\n",
       "      <td>01d79f8370284999aa3c9f0bf29d55c3</td>\n",
       "      <td>1</td>\n",
       "      <td>FINISHED</td>\n",
       "      <td>file:///root/finance_ml_analysis/aws/forecasti...</td>\n",
       "      <td>2021-04-21 03:06:41.293000+00:00</td>\n",
       "      <td>2021-04-21 03:06:47.425000+00:00</td>\n",
       "      <td>-0.550051</td>\n",
       "      <td>90.0</td>\n",
       "      <td>sagemaker-us-east-2-287085956542/stock_data_ra...</td>\n",
       "      <td>high</td>\n",
       "      <td>LOCAL</td>\n",
       "      <td>root</td>\n",
       "      <td>/opt/conda/lib/python3.7/site-packages/ipykern...</td>\n",
       "    </tr>\n",
       "  </tbody>\n",
       "</table>\n",
       "</div>"
      ],
      "text/plain": [
       "                             run_id experiment_id    status  \\\n",
       "0  01d79f8370284999aa3c9f0bf29d55c3             1  FINISHED   \n",
       "\n",
       "                                        artifact_uri  \\\n",
       "0  file:///root/finance_ml_analysis/aws/forecasti...   \n",
       "\n",
       "                        start_time                         end_time  \\\n",
       "0 2021-04-21 03:06:41.293000+00:00 2021-04-21 03:06:47.425000+00:00   \n",
       "\n",
       "   metrics.percent change  metrics.length of predeiction  \\\n",
       "0               -0.550051                           90.0   \n",
       "\n",
       "                                         params.file params.metric  \\\n",
       "0  sagemaker-us-east-2-287085956542/stock_data_ra...          high   \n",
       "\n",
       "  tags.mlflow.source.type tags.mlflow.user  \\\n",
       "0                   LOCAL             root   \n",
       "\n",
       "                             tags.mlflow.source.name  \n",
       "0  /opt/conda/lib/python3.7/site-packages/ipykern...  "
      ]
     },
     "execution_count": 7,
     "metadata": {},
     "output_type": "execute_result"
    }
   ],
   "source": [
    "runs"
   ]
  },
  {
   "cell_type": "code",
   "execution_count": null,
   "metadata": {},
   "outputs": [],
   "source": []
  }
 ],
 "metadata": {
  "instance_type": "ml.t3.medium",
  "kernelspec": {
   "display_name": "Python 3 (Data Science)",
   "language": "python",
   "name": "python3__SAGEMAKER_INTERNAL__arn:aws:sagemaker:us-east-2:429704687514:image/datascience-1.0"
  },
  "language_info": {
   "codemirror_mode": {
    "name": "ipython",
    "version": 3
   },
   "file_extension": ".py",
   "mimetype": "text/x-python",
   "name": "python",
   "nbconvert_exporter": "python",
   "pygments_lexer": "ipython3",
   "version": "3.7.10"
  }
 },
 "nbformat": 4,
 "nbformat_minor": 4
}
