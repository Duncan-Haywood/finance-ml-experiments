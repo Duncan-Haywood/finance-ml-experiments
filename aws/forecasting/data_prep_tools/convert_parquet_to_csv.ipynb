{
 "cells": [
  {
   "cell_type": "code",
   "execution_count": null,
   "metadata": {},
   "outputs": [
    {
     "data": {
      "text/plain": [
       "'sagemaker-us-east-2-287085956542/stock-data-raw/AACG_daily_raw.parquet'"
      ]
     },
     "metadata": {},
     "output_type": "display_data"
    }
   ],
   "source": [
    "import s3fs\n",
    "import sagemaker\n",
    "import pyarrow.parquet as pq\n",
    "\n",
    "bucket = sagemaker.Session().default_bucket()\n",
    "folder = 'stock-data-raw'\n",
    "new_folder = 'stock-data-raw-csv'\n",
    "fs = s3fs.S3FileSystem()\n",
    "files = fs.ls(f's3://{bucket}/{folder}')\n",
    "fs = s3fs.S3FileSystem()\n",
    "for file in files:\n",
    "    df = pq.ParquetDataset(f's3://{file}', filesystem=fs).read_pandas().to_pandas()\n",
    "    ticker = file.split('/')[-1].split('_')[0]\n",
    "    new_file_name = f's3://{bucket}/{new_folder}/{ticker}.csv'\n",
    "    df.to_csv(new_file_name)"
   ]
  },
  {
   "cell_type": "code",
   "execution_count": null,
   "metadata": {},
   "outputs": [],
   "source": []
  }
 ],
 "metadata": {
  "instance_type": "ml.t3.medium",
  "kernelspec": {
   "display_name": "Python 3 (Data Science)",
   "language": "python",
   "name": "python3__SAGEMAKER_INTERNAL__arn:aws:sagemaker:us-east-2:429704687514:image/datascience-1.0"
  },
  "language_info": {
   "codemirror_mode": {
    "name": "ipython",
    "version": 3
   },
   "file_extension": ".py",
   "mimetype": "text/x-python",
   "name": "python",
   "nbconvert_exporter": "python",
   "pygments_lexer": "ipython3",
   "version": "3.7.10"
  }
 },
 "nbformat": 4,
 "nbformat_minor": 4
}
