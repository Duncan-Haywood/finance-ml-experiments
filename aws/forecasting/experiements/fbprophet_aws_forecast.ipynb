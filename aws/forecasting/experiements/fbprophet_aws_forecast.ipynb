{
 "cells": [
  {
   "cell_type": "code",
   "execution_count": 3,
   "metadata": {},
   "outputs": [],
   "source": [
    "import sagemaker\n",
    "import s3fs\n",
    "import pandas as pd\n"
   ]
  },
  {
   "cell_type": "code",
   "execution_count": 3,
   "metadata": {},
   "outputs": [
    {
     "data": {
      "text/plain": [
       "'sagemaker-us-east-2-287085956542/stock-data-raw-csv/AACG.csv'"
      ]
     },
     "metadata": {},
     "output_type": "display_data"
    }
   ],
   "source": [
    "## get files\n",
    "bucket = sagemaker.Session().default_bucket()\n",
    "metric='low'\n",
    "folder = 'stock-data-raw-csv'\n",
    "fs = s3fs.S3FileSystem()\n",
    "files = fs.ls(f's3://{bucket}/{folder}')\n",
    "file=files[0]\n",
    "display(file)\n",
    "## download\n",
    "dft = pd.read_csv(f's3://{file}')\n",
    "df = dft[['Unnamed: 0', metric]]\n",
    "df.columns = ['ds', 'y']\n",
    "## upload\n",
    "forecast_aws_folder = 'forecast_aws_folder'\n",
    "file_name = file.split('/')[-1]\n",
    "df.to_csv(f's3://{bucket}/{forecast_aws_folder}/{file_name}')"
   ]
  },
  {
   "cell_type": "code",
   "execution_count": 9,
   "metadata": {},
   "outputs": [],
   "source": []
  },
  {
   "cell_type": "code",
   "execution_count": 10,
   "metadata": {},
   "outputs": [],
   "source": [
    "## considerations: aws Forecast is costly at scale (to what order of magnitude?) but relatively easy to use. "
   ]
  },
  {
   "cell_type": "code",
   "execution_count": null,
   "metadata": {},
   "outputs": [],
   "source": []
  }
 ],
 "metadata": {
  "kernelspec": {
   "display_name": "Python 3 (Data Science)",
   "language": "python",
   "name": "python3__SAGEMAKER_INTERNAL__arn:aws:sagemaker:us-east-2:429704687514:image/datascience-1.0"
  },
  "language_info": {
   "codemirror_mode": {
    "name": "ipython",
    "version": 3
   },
   "file_extension": ".py",
   "mimetype": "text/x-python",
   "name": "python",
   "nbconvert_exporter": "python",
   "pygments_lexer": "ipython3",
   "version": "3.7.10"
  }
 },
 "nbformat": 4,
 "nbformat_minor": 4
}
